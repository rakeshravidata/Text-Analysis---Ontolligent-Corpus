{
 "cells": [
  {
   "cell_type": "code",
   "execution_count": 12,
   "metadata": {},
   "outputs": [],
   "source": [
    "#read data\n",
    "import pandas as pd\n",
    "import matplotlib.pyplot as plt\n",
    "%matplotlib inline\n"
   ]
  },
  {
   "cell_type": "code",
   "execution_count": 146,
   "metadata": {},
   "outputs": [],
   "source": [
    "df = pd.read_csv(\"/Users/rakeshravi/Documents/Spring/Text Analytics/Project/corpus.csv\", sep = \"|\", nrows = 2000)"
   ]
  },
  {
   "cell_type": "code",
   "execution_count": 147,
   "metadata": {
    "scrolled": false
   },
   "outputs": [
    {
     "data": {
      "text/plain": [
       "<matplotlib.axes._subplots.AxesSubplot at 0x164683ba8>"
      ]
     },
     "execution_count": 147,
     "metadata": {},
     "output_type": "execute_result"
    },
    {
     "data": {
      "image/png": "[encoded data removed]",
      "text/plain": [
       "<Figure size 432x288 with 1 Axes>"
      ]
     },
     "metadata": {
      "needs_background": "light"
     },
     "output_type": "display_data"
    }
   ],
   "source": [
    "#what is distribution for sources\n",
    "df.doc_source.value_counts(normalize = True).plot('bar')"
   ]
  },
  {
   "cell_type": "code",
   "execution_count": 152,
   "metadata": {},
   "outputs": [
    {
     "data": {
      "text/plain": [
       "(1838, 6)"
      ]
     },
     "execution_count": 152,
     "metadata": {},
     "output_type": "execute_result"
    }
   ],
   "source": [
    "#drop NaNs\n",
    "df = df.dropna()\n",
    "df.shape"
   ]
  },
  {
   "cell_type": "code",
   "execution_count": 154,
   "metadata": {},
   "outputs": [],
   "source": [
    "# assigning labels of left leaning (L) and right leaning (R)\n",
    "list_of_sources = ['US News', 'UPI Latest','Drudge Report','Fox',\n",
    "'Google News',\n",
    "'Real Clear Politics',\n",
    "'CNN',\n",
    "'NPR',\n",
    "'New York Times',\n",
    "'Reuters',\n",
    "'Daily Kos',\n",
    "'Guardian',\n",
    "'PowerLine',\n",
    "'Politico Magazine',\n",
    "'Breitbart']\n",
    "\n",
    "list_of_labels = ['left-center',\n",
    "'center',\n",
    "'right',\n",
    "'right',\n",
    "'left',\n",
    "'right-center',\n",
    "'left',\n",
    "'left-center',\n",
    "'left-center',\n",
    "'center',\n",
    "'left',\n",
    "'left-center',\n",
    "'right',\n",
    "'center',\n",
    "'right']\n",
    "\n",
    "dictionary = dict(zip(list_of_sources, list_of_labels))\n",
    "df['label']= df['doc_source'].map(dictionary)"
   ]
  },
  {
   "cell_type": "code",
   "execution_count": 155,
   "metadata": {},
   "outputs": [
    {
     "data": {
      "text/plain": [
       "<matplotlib.axes._subplots.AxesSubplot at 0x153de6cc0>"
      ]
     },
     "execution_count": 155,
     "metadata": {},
     "output_type": "execute_result"
    },
    {
     "data": {
      "image/png": "[encoded data removed]",
      "text/plain": [
       "<Figure size 432x288 with 1 Axes>"
      ]
     },
     "metadata": {
      "needs_background": "light"
     },
     "output_type": "display_data"
    }
   ],
   "source": [
    "#distribution of different labels\n",
    "df.label.value_counts(normalize = True).plot('bar')"
   ]
  },
  {
   "cell_type": "code",
   "execution_count": 157,
   "metadata": {},
   "outputs": [
    {
     "data": {
      "text/plain": [
       "(0, 7)"
      ]
     },
     "execution_count": 157,
     "metadata": {},
     "output_type": "execute_result"
    }
   ],
   "source": [
    "#chcking for null values after labeling\n",
    "df[df[\"label\"].isnull()].shape"
   ]
  },
  {
   "cell_type": "code",
   "execution_count": 134,
   "metadata": {
    "scrolled": true
   },
   "outputs": [
    {
     "data": {
      "text/plain": [
       "doc_source           label       \n",
       "Breitbart            right           120\n",
       "CNN                  left             88\n",
       "Daily Kos            left            147\n",
       "Drudge Report        right           192\n",
       "Fox                  right            13\n",
       "Google News          left             82\n",
       "Guardian             left-center     113\n",
       "NPR                  left-center      64\n",
       "New York Times       left-center      99\n",
       "Politico Magazine    center           21\n",
       "PowerLine            right            28\n",
       "Real Clear Politics  right-center    107\n",
       "Reuters              center          100\n",
       "UPI Latest           center           25\n",
       "US News              left-center     639\n",
       "dtype: int64"
      ]
     },
     "execution_count": 134,
     "metadata": {},
     "output_type": "execute_result"
    }
   ],
   "source": [
    "df.label.value_counts()\n",
    "df.groupby([\"doc_source\",\"label\"]).size()"
   ]
  },
  {
   "cell_type": "code",
   "execution_count": 296,
   "metadata": {},
   "outputs": [],
   "source": [
    "df = df.reindex(np.arange(df.index.min(), df.index.max() + 1))"
   ]
  },
  {
   "cell_type": "code",
   "execution_count": 158,
   "metadata": {},
   "outputs": [
    {
     "name": "stderr",
     "output_type": "stream",
     "text": [
      "[nltk_data] Downloading package stopwords to\n",
      "[nltk_data]     /Users/rakeshravi/nltk_data...\n",
      "[nltk_data]   Package stopwords is already up-to-date!\n"
     ]
    }
   ],
   "source": [
    "#imporiting all libraries\n",
    "# Run in python console\n",
    "import nltk; nltk.download('stopwords')\n",
    "import re\n",
    "import numpy as np\n",
    "import pandas as pd\n",
    "from pprint import pprint\n",
    "\n",
    "# Gensim\n",
    "import gensim\n",
    "import gensim.corpora as corpora\n",
    "from gensim.utils import simple_preprocess\n",
    "from gensim.models import CoherenceModel\n",
    "\n",
    "# spacy for lemmatization\n",
    "import spacy\n",
    "\n",
    "# Plotting tools\n",
    "import pyLDAvis\n",
    "import pyLDAvis.gensim  # don't skip this\n",
    "import matplotlib.pyplot as plt\n",
    "%matplotlib inline\n",
    "\n",
    "# Enable logging for gensim - optional\n",
    "import logging\n",
    "logging.basicConfig(format='%(asctime)s : %(levelname)s : %(message)s', level=logging.ERROR)\n",
    "\n",
    "import warnings\n",
    "warnings.filterwarnings(\"ignore\",category=DeprecationWarning)\n",
    "# NLTK Stop words\n",
    "from nltk.corpus import stopwords\n",
    "stop_words = stopwords.words('english')\n",
    "stop_words.extend(['from', 'subject', 're', 'edu', 'use'])"
   ]
  },
  {
   "cell_type": "code",
   "execution_count": 256,
   "metadata": {},
   "outputs": [
    {
     "name": "stdout",
     "output_type": "stream",
     "text": [
      "('Professional athletes have a big platform and a growing number of them are '\n",
      " 'using it to protest police violence. The Sunday after a grand jurys decision '\n",
      " 'not to indict Ferguson police officer Darren Wilson in the killing of '\n",
      " 'Michael Brown, five members of the St. Louis Rams went onto the field with '\n",
      " 'their hands up. Now, following a different grand jurys decision not to '\n",
      " 'indict New York City police officer Daniel Pantaleo in the killing of Eric '\n",
      " 'Garner, those Rams have company in using their time on television to make a '\n",
      " 'statement, with most focusing on Garners last words, \"I cant breathe.\" Guard '\n",
      " 'Davin Joseph wrote the words on the cleats he wore during pregame warmups '\n",
      " 'before the Rams beat the Washington Redskins 24-0. Tight end Jared Cook had '\n",
      " 'it written on his wrist tape. Receiver Kenny Britt had several names — '\n",
      " 'including Michael Brown and Trayvon Martin — written on his blue and gold '\n",
      " 'cleats. The names were of black men or teens whose deaths led to protests. '\n",
      " '[...] Players at other NFL games expressed similar sentiments. Detroit Lions '\n",
      " 'running back Reggie Bush had \"I Cant Breathe\" written in black across his '\n",
      " 'blue warmup shirt. Browns cornerback Johnson Bademosi wrote the message on '\n",
      " 'the back of the shirt he wore before a game in Cleveland. In the NBA, Bulls '\n",
      " 'point guard Derrick Rose warmed up in a shirt saying \"I cant breathe, '\n",
      " 'drawing support from teammates and from Cleveland Cavaliers star LeBron '\n",
      " 'James, who said he was looking for a similar shirt and might wear one to a '\n",
      " 'game.')\n"
     ]
    }
   ],
   "source": [
    "# Convert to list\n",
    "data = df.doc_content.values.tolist()\n",
    "\n",
    "# Remove Emails\n",
    "data = [re.sub('\\S*@\\S*\\s?', '', sent) for sent in data]\n",
    "\n",
    "# Remove new line characters\n",
    "data = [re.sub('\\s+', ' ', sent) for sent in data]\n",
    "\n",
    "# Remove distracting single quotes\n",
    "data = [re.sub(\"\\'\", \"\", sent) for sent in data]\n",
    "\n",
    "pprint(data[1837][0:2000])"
   ]
  },
  {
   "cell_type": "code",
   "execution_count": 162,
   "metadata": {},
   "outputs": [
    {
     "name": "stdout",
     "output_type": "stream",
     "text": [
      "[['washington', 'post', 'years', 'on', 'finding', 'profit', 'in', 'truth', 'on', 'jfk', 'caseabc', 'newson', 'the', 'very', 'day', 'john', 'kennedy', 'died', 'cottage', 'industry', 'was', 'born', 'fifty', 'years', 'and', 'hundreds', 'of', 'millions', 'of', 'dollars', 'later', 'its', 'still', 'thriving', 'its', 'product', 'the', 'truth', 'about', 'the', 'presidents', 'assassination', 'by', 'the', 'evening', 'of', 'november', 'found', 'myself', 'being', 'years', 'after', 'jfk', 'dallas', 'sheds', 'shadow', 'of', 'com', 'years', 'later', 'tv', 're', 'examines', 'kennedy', 'assassination', 'theoriessalt', 'lake', 'tribune', 'decades', 'later', 'some', 'jfk', 'probe', 'files', 'still', 'sealedlex', 'lexington', 'ky', 'newsall', 'news', 'articles']]\n"
     ]
    }
   ],
   "source": [
    "def sent_to_words(sentences):\n",
    "    for sentence in sentences:\n",
    "        yield(gensim.utils.simple_preprocess(str(sentence), deacc=True))  # deacc=True removes punctuations\n",
    "\n",
    "data_words = list(sent_to_words(data))\n",
    "\n",
    "print(data_words[:1])"
   ]
  },
  {
   "cell_type": "code",
   "execution_count": 163,
   "metadata": {},
   "outputs": [
    {
     "name": "stdout",
     "output_type": "stream",
     "text": [
      "['washington_post', 'years', 'on', 'finding', 'profit', 'in', 'truth', 'on', 'jfk', 'caseabc', 'newson', 'the', 'very', 'day', 'john_kennedy', 'died', 'cottage', 'industry', 'was', 'born', 'fifty', 'years', 'and', 'hundreds', 'of', 'millions', 'of', 'dollars', 'later', 'its', 'still', 'thriving', 'its', 'product', 'the', 'truth', 'about', 'the', 'presidents', 'assassination', 'by', 'the', 'evening', 'of', 'november', 'found', 'myself', 'being', 'years', 'after', 'jfk', 'dallas', 'sheds', 'shadow', 'of', 'com', 'years', 'later', 'tv', 're', 'examines', 'kennedy', 'assassination', 'theoriessalt', 'lake', 'tribune', 'decades', 'later', 'some', 'jfk', 'probe', 'files', 'still', 'sealedlex', 'lexington', 'ky', 'newsall_news_articles']\n"
     ]
    }
   ],
   "source": [
    "# Build the bigram and trigram models\n",
    "bigram = gensim.models.Phrases(data_words, min_count=5, threshold=100) # higher threshold fewer phrases.\n",
    "trigram = gensim.models.Phrases(bigram[data_words], threshold=100)  \n",
    "\n",
    "# Faster way to get a sentence clubbed as a trigram/bigram\n",
    "bigram_mod = gensim.models.phrases.Phraser(bigram)\n",
    "trigram_mod = gensim.models.phrases.Phraser(trigram)\n",
    "\n",
    "# See trigram example\n",
    "print(trigram_mod[bigram_mod[data_words[0]]])"
   ]
  },
  {
   "cell_type": "code",
   "execution_count": 164,
   "metadata": {},
   "outputs": [],
   "source": [
    "# Define functions for stopwords, bigrams, trigrams and lemmatization\n",
    "def remove_stopwords(texts):\n",
    "    return [[word for word in simple_preprocess(str(doc)) if word not in stop_words] for doc in texts]\n",
    "\n",
    "def make_bigrams(texts):\n",
    "    return [bigram_mod[doc] for doc in texts]\n",
    "\n",
    "def make_trigrams(texts):\n",
    "    return [trigram_mod[bigram_mod[doc]] for doc in texts]\n",
    "\n",
    "def lemmatization(texts, allowed_postags=['NOUN', 'ADJ', 'VERB', 'ADV']):\n",
    "    \"\"\"https://spacy.io/api/annotation\"\"\"\n",
    "    texts_out = []\n",
    "    for sent in texts:\n",
    "        doc = nlp(\" \".join(sent)) \n",
    "        texts_out.append([token.lemma_ for token in doc if token.pos_ in allowed_postags])\n",
    "    return texts_out"
   ]
  },
  {
   "cell_type": "code",
   "execution_count": 165,
   "metadata": {},
   "outputs": [
    {
     "name": "stdout",
     "output_type": "stream",
     "text": [
      "[['washington_post', 'year', 'find', 'profit', 'truth', 'jfk', 'caseabc', 'newson', 'day', 'kennedy', 'die', 'cottage', 'industry', 'bear', 'year', 'hundred', 'million', 'dollar', 'later', 'still', 'thrive', 'product', 'truth', 'president', 'assassination', 'evening', 'november', 'find', 'year', 'jfk', 'dalla', 'shed', 'shadow', 'com', 'year', 'later', 'tv', 'examine', 'kennedy', 'assassination', 'theoriessalt', 'lake', 'tribune', 'decade', 'later', 'jfk', 'probe', 'file', 'still', 'sealedlex', 'lexington', 'ky', 'newsall_new', 'article']]\n"
     ]
    }
   ],
   "source": [
    "# Remove Stop Words\n",
    "data_words_nostops = remove_stopwords(data_words)\n",
    "\n",
    "# Form Bigrams\n",
    "data_words_bigrams = make_bigrams(data_words_nostops)\n",
    "\n",
    "# Initialize spacy 'en' model, keeping only tagger component (for efficiency)\n",
    "# python3 -m spacy download en\n",
    "nlp = spacy.load('en', disable=['parser', 'ner'])\n",
    "\n",
    "# Do lemmatization keeping only noun, adj, vb, adv\n",
    "data_lemmatized = lemmatization(data_words_bigrams, allowed_postags=['NOUN', 'ADJ', 'VERB', 'ADV'])\n",
    "\n",
    "print(data_lemmatized[:1])"
   ]
  },
  {
   "cell_type": "code",
   "execution_count": 166,
   "metadata": {},
   "outputs": [
    {
     "name": "stdout",
     "output_type": "stream",
     "text": [
      "[[(0, 1), (1, 2), (2, 1), (3, 1), (4, 1), (5, 1), (6, 1), (7, 1), (8, 1), (9, 1), (10, 1), (11, 1), (12, 1), (13, 1), (14, 2), (15, 1), (16, 1), (17, 3), (18, 2), (19, 1), (20, 1), (21, 3), (22, 1), (23, 1), (24, 1), (25, 1), (26, 1), (27, 1), (28, 1), (29, 1), (30, 1), (31, 1), (32, 1), (33, 1), (34, 2), (35, 1), (36, 1), (37, 1), (38, 2), (39, 1), (40, 1), (41, 4)]]\n"
     ]
    }
   ],
   "source": [
    "# Create Dictionary\n",
    "id2word = corpora.Dictionary(data_lemmatized)\n",
    "\n",
    "# Create Corpus\n",
    "texts = data_lemmatized\n",
    "\n",
    "# Term Document Frequency\n",
    "corpus = [id2word.doc2bow(text) for text in texts]\n",
    "\n",
    "# View\n",
    "print(corpus[:1])"
   ]
  },
  {
   "cell_type": "code",
   "execution_count": 167,
   "metadata": {},
   "outputs": [],
   "source": [
    "# Build LDA model\n",
    "lda_model = gensim.models.ldamodel.LdaModel(corpus=corpus,\n",
    "                                           id2word=id2word,\n",
    "                                           num_topics=4, \n",
    "                                           random_state=100,\n",
    "                                           update_every=1,\n",
    "                                           chunksize=100,\n",
    "                                           passes=10,\n",
    "                                           alpha='auto',\n",
    "                                           per_word_topics=True)"
   ]
  },
  {
   "cell_type": "code",
   "execution_count": 168,
   "metadata": {},
   "outputs": [
    {
     "name": "stdout",
     "output_type": "stream",
     "text": [
      "[(0,\n",
      "  '0.015*\"say\" + 0.010*\"report\" + 0.009*\"cia\" + 0.009*\"senate\" + '\n",
      "  '0.006*\"torture\" + 0.005*\"release\" + 0.005*\"program\" + 0.005*\"would\" + '\n",
      "  '0.004*\"new\" + 0.004*\"continue_read\"'),\n",
      " (1,\n",
      "  '0.010*\"not\" + 0.009*\"people\" + 0.008*\"say\" + 0.007*\"republican\" + '\n",
      "  '0.007*\"get\" + 0.006*\"year\" + 0.006*\"go\" + 0.006*\"make\" + 0.006*\"do\" + '\n",
      "  '0.006*\"would\"'),\n",
      " (2,\n",
      "  '0.019*\"th_story\" + 0.015*\"link\" + 0.014*\"story\" + 0.012*\"second_column\" + '\n",
      "  '0.008*\"link_related\" + 0.007*\"first_column\" + 0.007*\"china\" + '\n",
      "  '0.007*\"player\" + 0.006*\"mexico\" + 0.006*\"edelman\"'),\n",
      " (3,\n",
      "  '0.011*\"man\" + 0.007*\"police\" + 0.006*\"officer\" + 0.006*\"kill\" + '\n",
      "  '0.006*\"black\" + 0.006*\"terrorist\" + 0.006*\"shirt\" + 0.004*\"crime\" + '\n",
      "  '0.004*\"technique\" + 0.004*\"nypd\"')]\n"
     ]
    }
   ],
   "source": [
    "# Print the Keyword in the 10 topics\n",
    "pprint(lda_model.print_topics())\n",
    "doc_lda = lda_model[corpus]"
   ]
  },
  {
   "cell_type": "code",
   "execution_count": 169,
   "metadata": {},
   "outputs": [
    {
     "name": "stdout",
     "output_type": "stream",
     "text": [
      "\n",
      "Perplexity:  -8.570473601658167\n",
      "\n",
      "Coherence Score:  0.35583421861272835\n"
     ]
    }
   ],
   "source": [
    "# Compute Perplexity\n",
    "print('\\nPerplexity: ', lda_model.log_perplexity(corpus))  # a measure of how good the model is. lower the better.\n",
    "\n",
    "# Compute Coherence Score\n",
    "coherence_model_lda = CoherenceModel(model=lda_model, texts=data_lemmatized, dictionary=id2word, coherence='c_v')\n",
    "coherence_lda = coherence_model_lda.get_coherence()\n",
    "print('\\nCoherence Score: ', coherence_lda)"
   ]
  },
  {
   "cell_type": "code",
   "execution_count": 304,
   "metadata": {},
   "outputs": [
    {
     "name": "stderr",
     "output_type": "stream",
     "text": [
      "/anaconda3/lib/python3.6/site-packages/pyLDAvis/_prepare.py:257: FutureWarning: Sorting because non-concatenation axis is not aligned. A future version\n",
      "of pandas will change to not sort by default.\n",
      "\n",
      "To accept the future behavior, pass 'sort=False'.\n",
      "\n",
      "To retain the current behavior and silence the warning, pass 'sort=True'.\n",
      "\n",
      "  return pd.concat([default_term_info] + list(topic_dfs))\n"
     ]
    },
    {
     "data": {
      "text/html": [
       "\n",
       "<link rel=\"stylesheet\" type=\"text/css\" href=\"https://cdn.rawgit.com/bmabey/pyLDAvis/files/ldavis.v1.0.0.css\">\n",
       "\n",
       "\n",
       "<div id=\"ldavis_el3761280910975129305609141\"></div>\n",
       "<script type=\"text/javascript\">\n",
       "\n",
       "var ldavis_el3761280910975129305609141_data = {\"mdsDat\": {\"x\": [0.20852903584723073, 0.1583221085583672, -0.18462593092800816, -0.18222521347758996], \"y\": [0.10276618222078061, -0.11895998119091203, -0.14794770383836425, 0.16414150280849565], \"topics\": [1, 2, 3, 4], \"cluster\": [1, 1, 1, 1], \"Freq\": [53.324676513671875, 30.778268814086914, 10.651148796081543, 5.245905876159668]}, \"tinfo\": {\"Category\": [\"Default\", \"Default\", \"Default\", \"Default\", \"Default\", \"Default\", \"Default\", \"Default\", \"Default\", \"Default\", \"Default\", \"Default\", \"Default\", \"Default\", \"Default\", \"Default\", \"Default\", \"Default\", \"Default\", \"Default\", \"Default\", \"Default\", \"Default\", \"Default\", \"Default\", \"Default\", \"Default\", \"Default\", \"Default\", \"Default\", \"Topic1\", \"Topic1\", \"Topic1\", \"Topic1\", \"Topic1\", \"Topic1\", \"Topic1\", \"Topic1\", \"Topic1\", \"Topic1\", \"Topic1\", \"Topic1\", \"Topic1\", \"Topic1\", \"Topic1\", \"Topic1\", \"Topic1\", \"Topic1\", \"Topic1\", \"Topic1\", \"Topic1\", \"Topic1\", \"Topic1\", \"Topic1\", \"Topic1\", \"Topic1\", \"Topic1\", \"Topic1\", \"Topic1\", \"Topic1\", \"Topic1\", \"Topic1\", \"Topic1\", \"Topic1\", \"Topic1\", \"Topic1\", \"Topic1\", \"Topic1\", \"Topic1\", \"Topic1\", \"Topic1\", \"Topic1\", \"Topic1\", \"Topic1\", \"Topic1\", \"Topic1\", \"Topic1\", \"Topic1\", \"Topic1\", \"Topic1\", \"Topic1\", \"Topic1\", \"Topic1\", \"Topic1\", \"Topic2\", \"Topic2\", \"Topic2\", \"Topic2\", \"Topic2\", \"Topic2\", \"Topic2\", \"Topic2\", \"Topic2\", \"Topic2\", \"Topic2\", \"Topic2\", \"Topic2\", \"Topic2\", \"Topic2\", \"Topic2\", \"Topic2\", \"Topic2\", \"Topic2\", \"Topic2\", \"Topic2\", \"Topic2\", \"Topic2\", \"Topic2\", \"Topic2\", \"Topic2\", \"Topic2\", \"Topic2\", \"Topic2\", \"Topic2\", \"Topic2\", \"Topic2\", \"Topic2\", \"Topic2\", \"Topic2\", \"Topic2\", \"Topic2\", \"Topic2\", \"Topic2\", \"Topic2\", \"Topic2\", \"Topic2\", \"Topic2\", \"Topic2\", \"Topic2\", \"Topic2\", \"Topic2\", \"Topic2\", \"Topic2\", \"Topic2\", \"Topic2\", \"Topic2\", \"Topic2\", \"Topic2\", \"Topic2\", \"Topic2\", \"Topic3\", \"Topic3\", \"Topic3\", \"Topic3\", \"Topic3\", \"Topic3\", \"Topic3\", \"Topic3\", \"Topic3\", \"Topic3\", \"Topic3\", \"Topic3\", \"Topic3\", \"Topic3\", \"Topic3\", \"Topic3\", \"Topic3\", \"Topic3\", \"Topic3\", \"Topic3\", \"Topic3\", \"Topic3\", \"Topic3\", \"Topic3\", \"Topic3\", \"Topic3\", \"Topic3\", \"Topic3\", \"Topic3\", \"Topic3\", \"Topic3\", \"Topic3\", \"Topic3\", \"Topic3\", \"Topic3\", \"Topic3\", \"Topic3\", \"Topic3\", \"Topic3\", \"Topic3\", \"Topic3\", \"Topic3\", \"Topic3\", \"Topic3\", \"Topic3\", \"Topic3\", \"Topic3\", \"Topic3\", \"Topic3\", \"Topic3\", \"Topic3\", \"Topic3\", \"Topic3\", \"Topic3\", \"Topic3\", \"Topic4\", \"Topic4\", \"Topic4\", \"Topic4\", \"Topic4\", \"Topic4\", \"Topic4\", \"Topic4\", \"Topic4\", \"Topic4\", \"Topic4\", \"Topic4\", \"Topic4\", \"Topic4\", \"Topic4\", \"Topic4\", \"Topic4\", \"Topic4\", \"Topic4\", \"Topic4\", \"Topic4\", \"Topic4\", \"Topic4\", \"Topic4\", \"Topic4\", \"Topic4\", \"Topic4\", \"Topic4\", \"Topic4\", \"Topic4\", \"Topic4\", \"Topic4\", \"Topic4\", \"Topic4\", \"Topic4\", \"Topic4\", \"Topic4\", \"Topic4\", \"Topic4\", \"Topic4\", \"Topic4\", \"Topic4\", \"Topic4\", \"Topic4\", \"Topic4\", \"Topic4\", \"Topic4\"], \"Freq\": [167.0, 275.0, 525.0, 268.0, 97.0, 457.0, 884.0, 147.0, 79.0, 386.0, 139.0, 404.0, 369.0, 167.0, 112.0, 62.0, 303.0, 81.0, 93.0, 89.0, 257.0, 126.0, 242.0, 192.0, 239.0, 61.0, 206.0, 220.0, 59.0, 212.0, 524.6502685546875, 385.946044921875, 302.55560302734375, 456.2678527832031, 256.587158203125, 242.1881866455078, 219.92991638183594, 209.71568298339844, 212.12490844726562, 185.15682983398438, 239.29005432128906, 178.29310607910156, 151.88478088378906, 136.0964813232422, 118.32247924804688, 115.09806060791016, 114.77555847167969, 100.2964859008789, 110.26155853271484, 117.01860809326172, 102.08565521240234, 95.1275863647461, 92.52539825439453, 88.59388732910156, 98.64751434326172, 91.9713134765625, 91.35021209716797, 105.4724349975586, 94.22823333740234, 91.4453125, 365.8156433105469, 147.3821258544922, 111.51253509521484, 180.4241180419922, 159.5125274658203, 283.5782775878906, 121.65666198730469, 194.8326416015625, 316.4136962890625, 192.4044189453125, 282.82708740234375, 225.57504272460938, 260.3967590332031, 303.4752502441406, 327.8704528808594, 151.83203125, 280.3224182128906, 177.74229431152344, 297.1268615722656, 199.29490661621094, 419.6587219238281, 227.00733947753906, 170.15489196777344, 174.88458251953125, 275.3041687011719, 267.6434631347656, 166.43228149414062, 125.52726745605469, 92.9498291015625, 92.35006713867188, 90.34171295166016, 82.15654754638672, 78.48194885253906, 74.03377532958984, 71.2485122680664, 68.8514404296875, 68.85089111328125, 81.21528625488281, 66.90690612792969, 61.28813552856445, 64.23471069335938, 60.75725555419922, 58.89301681518555, 56.36955642700195, 70.64972686767578, 48.6882438659668, 47.6629753112793, 45.4836540222168, 43.70692443847656, 50.13959884643555, 53.5963134765625, 41.383949279785156, 44.898868560791016, 47.92788314819336, 62.94076919555664, 47.864707946777344, 47.3271484375, 78.34722900390625, 85.24227905273438, 81.8123550415039, 303.55401611328125, 156.93795776367188, 115.95646667480469, 155.78958129882812, 102.22493743896484, 460.361328125, 98.4174575805664, 100.85639190673828, 116.5886001586914, 80.42729187011719, 127.33391571044922, 87.47261810302734, 135.79486083984375, 93.8765640258789, 80.08888244628906, 96.04348754882812, 89.04399108886719, 91.37433624267578, 90.03792572021484, 83.34491729736328, 38.89023971557617, 58.00733947753906, 32.359066009521484, 33.96780776977539, 37.950382232666016, 29.112701416015625, 37.712711334228516, 33.960411071777344, 27.869901657104492, 25.519712448120117, 25.508262634277344, 24.641639709472656, 38.167659759521484, 21.42882537841797, 20.069101333618164, 23.543970108032227, 59.25177001953125, 21.775104522705078, 21.569631576538086, 21.88991928100586, 24.619834899902344, 18.117441177368164, 17.182641983032227, 18.149824142456055, 22.18922233581543, 16.128780364990234, 25.252206802368164, 17.55402374267578, 16.62935447692871, 15.762262344360352, 25.965356826782227, 18.011751174926758, 26.46994400024414, 28.285301208496094, 28.082820892333984, 21.0047607421875, 38.749759674072266, 117.74971008300781, 67.35557556152344, 42.129093170166016, 67.71237182617188, 41.39356994628906, 67.52999114990234, 73.54259490966797, 25.817665100097656, 41.661224365234375, 39.86079025268555, 38.415836334228516, 27.111858367919922, 28.792037963867188, 31.515888214111328, 28.026506423950195, 29.93543815612793, 28.1578426361084, 27.1309871673584, 96.92302703857422, 61.5755500793457, 78.69379425048828, 40.575469970703125, 37.856258392333984, 37.317413330078125, 28.24230194091797, 35.250946044921875, 29.454565048217773, 17.978641510009766, 19.16607666015625, 18.323347091674805, 15.46846866607666, 15.902673721313477, 14.413190841674805, 14.413190841674805, 17.033077239990234, 13.971722602844238, 20.59052085876465, 11.831579208374023, 11.82567024230957, 9.454242706298828, 9.749188423156738, 10.344830513000488, 9.680967330932617, 9.680967330932617, 9.680967330932617, 9.680967330932617, 9.680967330932617, 9.680967330932617, 23.165878295898438, 10.675394058227539, 12.91154956817627, 10.804489135742188, 10.154218673706055, 10.190786361694336, 10.235108375549316, 14.43724250793457, 32.25294494628906, 14.979984283447266, 71.39800262451172, 16.817346572875977, 15.061399459838867, 17.838552474975586, 22.379352569580078, 26.229167938232422, 14.54135799407959], \"Term\": [\"story\", \"cia\", \"not\", \"senate\", \"th_story\", \"people\", \"say\", \"man\", \"link\", \"republican\", \"back\", \"report\", \"get\", \"torture\", \"police\", \"second_column\", \"do\", \"black\", \"kill\", \"officer\", \"democrat\", \"continue_read\", \"be\", \"release\", \"s\", \"terrorist\", \"program\", \"obamacare\", \"shirt\", \"good\", \"not\", \"republican\", \"do\", \"people\", \"democrat\", \"be\", \"obamacare\", \"much\", \"good\", \"plan\", \"s\", \"election\", \"poll\", \"percent\", \"political\", \"insurance\", \"race\", \"campaign\", \"bad\", \"party\", \"medium\", \"lose\", \"conservative\", \"governor\", \"something\", \"have\", \"administration\", \"gop\", \"far\", \"exchange\", \"get\", \"many\", \"seem\", \"want\", \"law\", \"american\", \"democratic\", \"run\", \"go\", \"think\", \"time\", \"may\", \"obama\", \"make\", \"year\", \"need\", \"state\", \"know\", \"would\", \"also\", \"say\", \"take\", \"come\", \"president\", \"cia\", \"senate\", \"torture\", \"continue_read\", \"agency\", \"palestinian\", \"rule\", \"secretary\", \"detainee\", \"intelligence\", \"threat\", \"iran\", \"security\", \"abortion\", \"member\", \"military\", \"community\", \"student\", \"court\", \"washington_reuter\", \"torture_report\", \"nuclear\", \"legal\", \"israeli\", \"interrogation\", \"brutal\", \"train\", \"intelligence_committee\", \"feinstein\", \"immigration\", \"brown\", \"protect\", \"chief\", \"protest\", \"leader\", \"new_york\", \"report\", \"release\", \"bill\", \"program\", \"former\", \"say\", \"tuesday\", \"deal\", \"government\", \"war\", \"new\", \"committee\", \"would\", \"talk\", \"official\", \"take\", \"president\", \"state\", \"year\", \"house\", \"husband\", \"shirt\", \"police_officer\", \"sherman\", \"wilson\", \"gun\", \"soldier\", \"muslim\", \"bbc\", \"girl\", \"fox\", \"twitter\", \"allege\", \"grand_jury\", \"shoot\", \"continue_reading\", \"terrorist\", \"indict\", \"fbi\", \"iraq\", \"ferguson\", \"surround\", \"son\", \"jr\", \"albino\", \"film\", \"eric_garner\", \"character\", \"receiver\", \"jihadi\", \"terror\", \"movie\", \"rodriguez\", \"enhanced_interrogation\", \"die\", \"investigate\", \"arrest\", \"man\", \"black\", \"crime\", \"officer\", \"nypd\", \"kill\", \"police\", \"star\", \"technique\", \"white\", \"death\", \"cop\", \"home\", \"word\", \"year_old\", \"write\", \"life\", \"michael\", \"th_story\", \"second_column\", \"link\", \"link_related\", \"first_column\", \"china\", \"link_relat\", \"player\", \"edelman\", \"third_column\", \"chinese\", \"nobel\", \"drug\", \"daily_kos\", \"malala\", \"yousafzai\", \"ram\", \"football\", \"mexican\", \"st_story\", \"trailer\", \"itune\", \"put_dent\", \"nfl\", \"gruesome_moment\", \"agencys_power\", \"bush_kept\", \"condemns_cia\", \"feinstein_strik\", \"spooks_spy\", \"award\", \"taxi\", \"uber\", \"joseph\", \"teammate\", \"nba\", \"uva\", \"rumsfeld\", \"mexico\", \"oil\", \"story\", \"prize\", \"harvard\", \"garner\", \"price\", \"back\", \"listen\"], \"Total\": [167.0, 275.0, 525.0, 268.0, 97.0, 457.0, 884.0, 147.0, 79.0, 386.0, 139.0, 404.0, 369.0, 167.0, 112.0, 62.0, 303.0, 81.0, 93.0, 89.0, 257.0, 126.0, 242.0, 192.0, 239.0, 61.0, 206.0, 220.0, 59.0, 212.0, 525.2113037109375, 386.52142333984375, 303.0840148925781, 457.1139831542969, 257.09326171875, 242.70339965820312, 220.42079162597656, 210.25791931152344, 212.6832275390625, 185.66555786132812, 239.9666290283203, 178.7988739013672, 152.42767333984375, 136.61782836914062, 118.82608795166016, 115.59080505371094, 115.27470397949219, 100.80265808105469, 110.82183074951172, 117.64334869384766, 102.63219451904297, 95.63886260986328, 93.03328704833984, 89.08753967285156, 99.19768524169922, 92.48812103271484, 91.88316345214844, 106.08965301513672, 94.78023529052734, 92.01738739013672, 369.297607421875, 150.39476013183594, 112.98407745361328, 187.16957092285156, 165.3466796875, 311.21917724609375, 124.96753692626953, 212.3958282470703, 377.8179626464844, 214.0119171142578, 337.1060485839844, 259.9227600097656, 311.6697998046875, 378.05889892578125, 432.5443115234375, 164.18089294433594, 372.01165771484375, 207.8572998046875, 433.2411193847656, 252.46044921875, 884.2721557617188, 323.3751525878906, 201.42172241210938, 264.2385559082031, 275.89324951171875, 268.2278747558594, 167.14962768554688, 126.11800384521484, 93.51144409179688, 92.90855407714844, 90.91590881347656, 82.73855590820312, 79.05940246582031, 74.5920639038086, 71.81383514404297, 69.40182495117188, 69.41828918457031, 81.8852310180664, 67.50254821777344, 61.8370361328125, 64.82823181152344, 61.33533477783203, 59.46830749511719, 56.92598342895508, 71.42491912841797, 49.230960845947266, 48.24390411376953, 46.03844451904297, 44.275604248046875, 50.794498443603516, 54.31222152709961, 41.93686294555664, 45.500492095947266, 48.571834564208984, 63.819007873535156, 48.522090911865234, 47.97452163696289, 82.34040832519531, 90.98017883300781, 88.0106430053711, 404.8623962402344, 192.92678833007812, 138.5910186767578, 206.3164825439453, 124.0865478515625, 884.2721557617188, 119.01818084716797, 125.2813949584961, 186.03195190429688, 104.89977264404297, 279.7993469238281, 126.06795501708984, 433.2411193847656, 161.7513427734375, 108.32608795166016, 323.3751525878906, 264.2385559082031, 372.01165771484375, 432.5443115234375, 170.8724365234375, 39.526573181152344, 59.045166015625, 32.99052429199219, 34.63100051879883, 38.709590911865234, 29.73969078063965, 38.55144119262695, 34.726497650146484, 28.520170211791992, 26.11773681640625, 26.13539695739746, 25.258699417114258, 39.1557502746582, 22.028451919555664, 20.642250061035156, 24.21697425842285, 61.041259765625, 22.449012756347656, 22.27920150756836, 22.61628532409668, 25.448972702026367, 18.72841453552246, 17.773279190063477, 18.779132843017578, 22.95950698852539, 16.696332931518555, 26.154821395874023, 18.193784713745117, 17.239151000976562, 16.353513717651367, 27.005693435668945, 18.688867568969727, 27.824371337890625, 29.828157424926758, 29.919260025024414, 21.982025146484375, 42.5577392578125, 147.34327697753906, 81.3788833618164, 49.823917388916016, 89.20966339111328, 49.03776931762695, 93.62113952636719, 112.78644561767578, 28.113574981689453, 55.1137580871582, 52.1094970703125, 63.99640655517578, 33.76974868774414, 51.93193435668945, 94.0639419555664, 49.716163635253906, 114.17533111572266, 83.4573745727539, 52.46805191040039, 97.5050277709961, 62.15989303588867, 79.4838638305664, 41.15680694580078, 38.43740463256836, 38.01461410522461, 28.823562622070312, 35.98846435546875, 30.228832244873047, 18.56013298034668, 19.795520782470703, 18.927059173583984, 16.093727111816406, 16.56698989868164, 15.019096374511719, 15.019096374511719, 17.751211166381836, 14.591894149780273, 21.54585838317871, 12.410959243774414, 12.46145248413086, 10.038969993591309, 10.36978530883789, 11.021522521972656, 10.316326141357422, 10.316326141357422, 10.316326141357422, 10.316326141357422, 10.316326141357422, 10.316326141357422, 24.765838623046875, 11.408186912536621, 13.949233055114746, 11.567375183105469, 10.84248161315918, 10.895326614379883, 10.950421333312988, 16.46131706237793, 43.911277770996094, 18.12458038330078, 167.80728149414062, 22.968788146972656, 19.494972229003906, 30.910669326782227, 48.228919982910156, 139.1267852783203, 42.60464859008789], \"loglift\": [30.0, 29.0, 28.0, 27.0, 26.0, 25.0, 24.0, 23.0, 22.0, 21.0, 20.0, 19.0, 18.0, 17.0, 16.0, 15.0, 14.0, 13.0, 12.0, 11.0, 10.0, 9.0, 8.0, 7.0, 6.0, 5.0, 4.0, 3.0, 2.0, 1.0, 0.6276999711990356, 0.6273000240325928, 0.6269999742507935, 0.6269000172615051, 0.626800000667572, 0.6266000270843506, 0.6265000104904175, 0.6262000203132629, 0.6261000037193298, 0.6259999871253967, 0.6258999705314636, 0.6258999705314636, 0.6251999735832214, 0.6248999834060669, 0.6244999766349792, 0.6244999766349792, 0.6244000196456909, 0.6237000226974487, 0.6237000226974487, 0.6233999729156494, 0.6233999729156494, 0.6233999729156494, 0.6233000159263611, 0.623199999332428, 0.623199999332428, 0.623199999332428, 0.6230000257492065, 0.6229000091552734, 0.6229000091552734, 0.6225000023841858, 0.6193000078201294, 0.6085000038146973, 0.6157000064849854, 0.5921000242233276, 0.5928000211715698, 0.5357999801635742, 0.6018999814987183, 0.5425000190734863, 0.4514000117778778, 0.5223000049591064, 0.45320001244544983, 0.4869999885559082, 0.4490000009536743, 0.4090000092983246, 0.3517000079154968, 0.550599992275238, 0.3458000123500824, 0.4722999930381775, 0.2515999972820282, 0.392300009727478, -0.11659999936819077, 0.27489998936653137, 0.460099995136261, 0.2160000056028366, 1.176200032234192, 1.176200032234192, 1.1741000413894653, 1.173699975013733, 1.1722999811172485, 1.1722999811172485, 1.1720000505447388, 1.1713000535964966, 1.1710000038146973, 1.170799970626831, 1.1705000400543213, 1.1704000234603882, 1.170199990272522, 1.1700999736785889, 1.1694999933242798, 1.1693999767303467, 1.1691999435424805, 1.1689000129699707, 1.1685999631881714, 1.1684999465942383, 1.1674000024795532, 1.1672999858856201, 1.166200041770935, 1.166200041770935, 1.1654000282287598, 1.1654000282287598, 1.1650999784469604, 1.1650999784469604, 1.1650999784469604, 1.1649999618530273, 1.1644999980926514, 1.1647000312805176, 1.1648000478744507, 1.128600001335144, 1.1131999492645264, 1.105299949645996, 0.8903999924659729, 0.9718999862670898, 1.0, 0.8974999785423279, 0.9846000075340271, 0.525600016117096, 0.9883000254631042, 0.9614999890327454, 0.7110999822616577, 0.9126999974250793, 0.3910999894142151, 0.8129000067710876, 0.018200000748038292, 0.6342999935150146, 0.8763999938964844, -0.0357000008225441, 0.09059999883174896, -0.225600004196167, -0.3910999894142151, 0.4603999853134155, 2.223299980163574, 2.2218000888824463, 2.2202000617980957, 2.2202000617980957, 2.2197000980377197, 2.2181999683380127, 2.2174999713897705, 2.2172000408172607, 2.216399908065796, 2.2163000106811523, 2.2151999473571777, 2.2147998809814453, 2.213900089263916, 2.211899995803833, 2.2112998962402344, 2.2112998962402344, 2.209700107574463, 2.2090001106262207, 2.2070999145507812, 2.206899881362915, 2.206399917602539, 2.2063000202178955, 2.205699920654297, 2.205399990081787, 2.205399990081787, 2.204900026321411, 2.204400062561035, 2.203700065612793, 2.2035000324249268, 2.202699899673462, 2.200200080871582, 2.2026000022888184, 2.1895999908447266, 2.1863999366760254, 2.1761999130249023, 2.194000005722046, 2.1458001136779785, 2.0153000354766846, 2.0504000186920166, 2.071700096130371, 1.9637999534606934, 2.069999933242798, 1.9127999544143677, 1.811900019645691, 2.1542999744415283, 1.9596999883651733, 1.971500039100647, 1.729099988937378, 2.01990008354187, 1.6497000455856323, 1.1460000276565552, 1.6663000583648682, 0.9007999897003174, 1.152999997138977, 1.5800000429153442, 2.941699981689453, 2.9382998943328857, 2.937700033187866, 2.933500051498413, 2.932499885559082, 2.9291999340057373, 2.9274001121520996, 2.927000045776367, 2.921799898147583, 2.9158999919891357, 2.9154000282287598, 2.915299892425537, 2.908099889755249, 2.9068000316619873, 2.9065001010894775, 2.9065001010894775, 2.906399965286255, 2.9042999744415283, 2.902400016784668, 2.899899959564209, 2.895400047302246, 2.887700080871582, 2.885999917984009, 2.884399890899658, 2.884200096130371, 2.884200096130371, 2.884200096130371, 2.884200096130371, 2.884200096130371, 2.884200096130371, 2.8808999061584473, 2.8812999725341797, 2.8703999519348145, 2.879499912261963, 2.8821001052856445, 2.8808999061584473, 2.880199909210205, 2.816499948501587, 2.63919997215271, 2.757200002670288, 2.0931999683380127, 2.635999917984009, 2.68969988822937, 2.3980000019073486, 2.1798999309539795, 1.2791999578475952, 1.8727999925613403], \"logprob\": [30.0, 29.0, 28.0, 27.0, 26.0, 25.0, 24.0, 23.0, 22.0, 21.0, 20.0, 19.0, 18.0, 17.0, 16.0, 15.0, 14.0, 13.0, 12.0, 11.0, 10.0, 9.0, 8.0, 7.0, 6.0, 5.0, 4.0, 3.0, 2.0, 1.0, -4.600200176239014, -4.907199859619141, -5.150700092315674, -4.739799976348877, -5.315499782562256, -5.373199939727783, -5.469600200653076, -5.517199993133545, -5.50570011138916, -5.64169979095459, -5.385200023651123, -5.679500102996826, -5.839799880981445, -5.9496002197265625, -6.0894999504089355, -6.117099761962891, -6.119900226593018, -6.254799842834473, -6.160099983215332, -6.100599765777588, -6.237100124359131, -6.307700157165527, -6.335400104522705, -6.378900051116943, -6.271399974822998, -6.341400146484375, -6.348199844360352, -6.204500198364258, -6.317200183868408, -6.3471999168396, -4.9608001708984375, -5.869900226593018, -6.148799896240234, -5.667600154876709, -5.790800094604492, -5.215400218963623, -6.061699867248535, -5.590799808502197, -5.105899810791016, -5.603300094604492, -5.218100070953369, -5.444300174713135, -5.3007001876831055, -5.147600173950195, -5.070300102233887, -5.840099811553955, -5.2270002365112305, -5.682600021362305, -5.168799877166748, -5.5680999755859375, -4.823500156402588, -5.437900066375732, -5.726200103759766, -5.698800086975098, -4.695499897003174, -4.723700046539307, -5.198699951171875, -5.480800151824951, -5.781300067901611, -5.787700176239014, -5.809700012207031, -5.904699802398682, -5.950500011444092, -6.008800029754639, -6.0472002029418945, -6.081399917602539, -6.081399917602539, -5.916200160980225, -6.110000133514404, -6.197700023651123, -6.1508002281188965, -6.206399917602539, -6.237599849700928, -6.281400203704834, -6.055600166320801, -6.4278998374938965, -6.44920015335083, -6.495999813079834, -6.535799980163574, -6.398499965667725, -6.3317999839782715, -6.590400218963623, -6.508900165557861, -6.443600177764893, -6.17110013961792, -6.445000171661377, -6.456200122833252, -5.952199935913086, -5.867800235748291, -5.908899784088135, -4.597799777984619, -5.257500171661377, -5.560100078582764, -5.264800071716309, -5.686200141906738, -4.181300163269043, -5.724100112915039, -5.6996002197265625, -5.554699897766113, -5.926000118255615, -5.4664998054504395, -5.8420000076293945, -5.402200222015381, -5.771299839019775, -5.930200099945068, -5.748499870300293, -5.82420015335083, -5.798399925231934, -5.8130998611450195, -5.8902997970581055, -5.591400146484375, -5.1915998458862305, -5.775300025939941, -5.726799964904785, -5.615900039672852, -5.88100004196167, -5.622200012207031, -5.7270002365112305, -5.924600124359131, -6.012700080871582, -6.013199806213379, -6.047800064086914, -5.610199928283691, -6.1875, -6.252999782562256, -6.093299865722656, -5.170400142669678, -6.17140007019043, -6.1809000968933105, -6.166200160980225, -6.048600196838379, -6.355299949645996, -6.408299922943115, -6.353499889373779, -6.152599811553955, -6.47160005569458, -6.0233001708984375, -6.386899948120117, -6.440999984741211, -6.49459981918335, -5.9953999519348145, -6.361199855804443, -5.976200103759766, -5.909800052642822, -5.916999816894531, -6.207399845123291, -5.595099925994873, -4.48360013961792, -5.042200088500977, -5.511499881744385, -5.036900043487549, -5.529099941253662, -5.039599895477295, -4.9542999267578125, -6.001100063323975, -5.522600173950195, -5.566800117492676, -5.603700160980225, -5.952199935913086, -5.892099857330322, -5.801700115203857, -5.919000148773193, -5.853099822998047, -5.914400100708008, -5.951499938964844, -3.970099925994873, -4.423699855804443, -4.178400039672852, -4.840799808502197, -4.910200119018555, -4.924499988555908, -5.203100204467773, -4.981500148773193, -5.161099910736084, -5.654799938201904, -5.590799808502197, -5.635799884796143, -5.805200099945068, -5.777500152587891, -5.875800132751465, -5.875800132751465, -5.708799839019775, -5.906899929046631, -5.519100189208984, -6.073200225830078, -6.073699951171875, -6.297500133514404, -6.2667999267578125, -6.207499980926514, -6.273799896240234, -6.273799896240234, -6.273799896240234, -6.273799896240234, -6.273799896240234, -6.273799896240234, -5.401299953460693, -6.176000118255615, -5.985799789428711, -6.164000034332275, -6.226099967956543, -6.222499847412109, -6.218100070953369, -5.874199867248535, -5.070400238037109, -5.837299823760986, -4.275700092315674, -5.72160005569458, -5.8317999839782715, -5.662600040435791, -5.435800075531006, -5.277100086212158, -5.867000102996826]}, \"token.table\": {\"Topic\": [2, 1, 2, 4, 3, 2, 3, 1, 2, 1, 2, 3, 4, 3, 4, 1, 2, 4, 1, 3, 1, 1, 2, 1, 3, 2, 2, 4, 1, 3, 2, 4, 4, 2, 1, 2, 1, 2, 2, 4, 1, 2, 3, 3, 4, 2, 2, 3, 4, 1, 2, 2, 3, 1, 1, 2, 2, 1, 3, 1, 4, 4, 1, 2, 3, 3, 1, 1, 3, 2, 4, 3, 3, 4, 4, 1, 2, 3, 1, 4, 1, 2, 3, 1, 2, 1, 1, 1, 2, 1, 3, 4, 3, 3, 4, 1, 2, 3, 1, 2, 3, 2, 3, 1, 2, 2, 2, 3, 2, 3, 2, 4, 3, 4, 3, 1, 2, 3, 1, 2, 3, 1, 2, 1, 2, 2, 1, 2, 3, 4, 4, 4, 1, 4, 1, 1, 2, 4, 1, 2, 3, 4, 1, 2, 1, 2, 3, 1, 2, 4, 2, 4, 2, 3, 2, 3, 1, 3, 4, 1, 2, 1, 2, 4, 1, 2, 3, 4, 4, 1, 2, 3, 4, 1, 2, 1, 2, 3, 1, 2, 3, 1, 4, 2, 1, 1, 2, 1, 1, 4, 2, 3, 3, 1, 1, 1, 2, 1, 4, 1, 4, 1, 2, 2, 2, 3, 4, 1, 4, 3, 1, 2, 1, 2, 3, 1, 1, 2, 3, 2, 1, 2, 4, 1, 2, 1, 1, 2, 3, 4, 2, 2, 1, 3, 2, 3, 3, 4, 3, 3, 1, 3, 4, 4, 3, 4, 1, 2, 1, 3, 4, 2, 3, 1, 2, 1, 2, 4, 4, 2, 3, 2, 3, 2, 3, 4, 1, 2, 3, 4, 2, 1, 2, 3, 2, 2, 4, 2, 1, 2, 3, 4, 4, 1, 2, 2, 3, 2, 1, 3, 3, 1, 3, 1, 2, 1, 2, 3, 1, 2, 3, 1, 3, 4], \"Freq\": [0.9891893863677979, 0.9903882145881653, 0.9945306777954102, 0.9693373441696167, 0.9582087397575378, 0.025539033114910126, 0.9704832434654236, 0.7882422804832458, 0.20993387699127197, 0.9125401377677917, 0.08675558120012283, 0.9164020419120789, 0.0704924687743187, 0.04037820175290108, 0.9286985993385315, 0.7762703895568848, 0.03593844175338745, 0.18687990307807922, 0.992584228515625, 0.9817613363265991, 0.9971018433570862, 0.15874044597148895, 0.8369950652122498, 0.17203480005264282, 0.8233094215393066, 0.987166702747345, 0.984358549118042, 0.9693373441696167, 0.9920373558998108, 0.989348828792572, 0.9796866774559021, 0.9733098745346069, 0.959813117980957, 0.9967623353004456, 0.8440003395080566, 0.1539059430360794, 0.3014247417449951, 0.6901040077209473, 0.9872242212295532, 0.9693373441696167, 0.9996421933174133, 0.9990643262863159, 0.9910404086112976, 0.7995321750640869, 0.1776738166809082, 0.9921250939369202, 0.14049477875232697, 0.8429686427116394, 0.9657759070396423, 0.1915687471628189, 0.8061851263046265, 0.39064693450927734, 0.5937833189964294, 0.999637246131897, 0.9762535095214844, 0.024006234481930733, 0.9865999221801758, 0.0334232859313488, 0.93585205078125, 0.9997227787971497, 0.9320401549339294, 0.9593489766120911, 0.9955319762229919, 0.03352537006139755, 0.9387103319168091, 0.9558467268943787, 0.9889435172080994, 0.991767942905426, 0.9874680638313293, 0.9890003204345703, 0.9693373441696167, 0.982357919216156, 0.9582942724227905, 0.9886203408241272, 0.9594367742538452, 0.17729561030864716, 0.8220069408416748, 0.9948194026947021, 0.42056676745414734, 0.5823231935501099, 0.991070568561554, 0.008123529143631458, 0.9954921007156372, 0.8363816142082214, 0.16145341098308563, 0.9967876076698303, 0.9897289276123047, 0.37090402841567993, 0.6289241909980774, 0.9990173578262329, 0.9533125758171082, 0.9693373441696167, 0.9751278162002563, 0.20518110692501068, 0.7694291472434998, 0.9947223663330078, 0.44288742542266846, 0.5584232807159424, 0.5091517567634583, 0.4857424795627594, 0.9866780042648315, 0.9882270097732544, 0.9799985289573669, 0.9948888421058655, 0.9920626282691956, 0.9776601791381836, 0.9937752485275269, 0.9553260207176208, 0.9942101836204529, 0.9727503657341003, 0.9774439930915833, 0.8965063095092773, 0.9783830046653748, 0.9509503841400146, 0.95851069688797, 0.07476943731307983, 0.20294561982154846, 0.7263317108154297, 0.8563567399978638, 0.1010308489203453, 0.04329893738031387, 0.9676638245582581, 0.03628739342093468, 0.05495702475309372, 0.9342694282531738, 0.9949443340301514, 0.4792865812778473, 0.17973247170448303, 0.3355005979537964, 0.993912398815155, 0.9714274406433105, 0.9961900115013123, 0.6572052836418152, 0.3520742654800415, 0.9933200478553772, 0.8014624118804932, 0.19573669135570526, 0.9321466088294983, 0.04072123393416405, 0.10858995467424393, 0.8008509278297424, 0.054294977337121964, 0.9774276614189148, 0.01994750276207924, 0.8694890737533569, 0.12311349809169769, 0.007694593630731106, 0.993840217590332, 0.9925551414489746, 0.9746652841567993, 0.25050511956214905, 0.7287421822547913, 0.4764804244041443, 0.5145988464355469, 0.9864638447761536, 0.9631401896476746, 0.9987733364105225, 0.9790794253349304, 0.9178246855735779, 0.9258080720901489, 0.07309011369943619, 0.5396724343299866, 0.453896701335907, 0.0035739897284656763, 0.02272452414035797, 0.9317054748535156, 0.04544904828071594, 0.9073156714439392, 0.9510193467140198, 0.9995976686477661, 0.9953086376190186, 0.8360902070999146, 0.14274711906909943, 0.8342162370681763, 0.16363471746444702, 0.9980909824371338, 0.2354005128145218, 0.762249231338501, 0.23078466951847076, 0.7385109066963196, 0.027694160118699074, 0.1655210703611374, 0.8276053667068481, 0.9902209639549255, 0.9945313930511475, 0.9975630044937134, 0.0021876380778849125, 0.9954776763916016, 0.9964152574539185, 0.9725338816642761, 0.3457862436771393, 0.6561071872711182, 0.969975471496582, 0.9930479526519775, 0.997194230556488, 0.6622803211212158, 0.33681684732437134, 0.5183612108230591, 0.4561578333377838, 0.26122406125068665, 0.7401348352432251, 0.2423461228609085, 0.7561199069023132, 0.9892401695251465, 0.9472870230674744, 0.04857882112264633, 0.964340090751648, 0.9976169466972351, 0.9576811194419861, 0.9861274361610413, 0.18659928441047668, 0.8137801885604858, 0.22970767319202423, 0.7508723735809326, 0.019759800285100937, 0.9986509680747986, 0.035939715802669525, 0.035939715802669525, 0.9344326257705688, 0.989925742149353, 0.06074848026037216, 0.06074848026037216, 0.8504787087440491, 0.9180971384048462, 0.08003924041986465, 0.9959717988967896, 0.4749668836593628, 0.5202018618583679, 0.004523494280874729, 0.9974277019500732, 0.9910736083984375, 0.9939743876457214, 0.9912901520729065, 0.008850804530084133, 0.9991504549980164, 0.9817793369293213, 0.9822988510131836, 0.01693618670105934, 0.9688866138458252, 0.9856959581375122, 0.9980071783065796, 0.956492006778717, 0.9693373441696167, 0.9668874144554138, 0.9248201251029968, 0.07114000618457794, 0.7526645660400391, 0.24461598694324493, 0.5244110822677612, 0.04767373576760292, 0.4231044054031372, 0.9945327639579773, 0.9611064791679382, 0.7019710540771484, 0.29686883091926575, 0.4203983545303345, 0.5811389088630676, 0.9642198085784912, 0.9222980737686157, 0.23587577044963837, 0.7620601654052734, 0.03702922910451889, 0.9627599716186523, 0.016382362693548203, 0.9665593504905701, 0.9948204755783081, 0.8971462845802307, 0.07476219534873962, 0.023363184183835983, 0.9698206186294556, 0.9886674284934998, 0.8394984602928162, 0.14535485208034515, 0.014832127839326859, 0.9931221604347229, 0.9940508008003235, 0.9629696011543274, 0.9942513704299927, 0.16804155707359314, 0.8234035968780518, 0.9897580146789551, 0.9319508671760559, 0.9132068753242493, 0.9616947770118713, 0.03205649182200432, 0.7626327276229858, 0.228789821267128, 0.9837335348129272, 0.23028431832790375, 0.7676143646240234, 0.9816688895225525, 0.6591261029243469, 0.34019410610198975, 0.6855304837226868, 0.313912957906723, 0.4992321729660034, 0.23647840321063995, 0.26275378465652466, 0.7583038210868835, 0.20807117223739624, 0.03236662596464157, 0.4223978519439697, 0.563197135925293, 0.9321466088294983], \"Term\": [\"abortion\", \"administration\", \"agency\", \"agencys_power\", \"albino\", \"allege\", \"allege\", \"also\", \"also\", \"american\", \"american\", \"arrest\", \"arrest\", \"award\", \"award\", \"back\", \"back\", \"back\", \"bad\", \"bbc\", \"be\", \"bill\", \"bill\", \"black\", \"black\", \"brown\", \"brutal\", \"bush_kept\", \"campaign\", \"character\", \"chief\", \"china\", \"chinese\", \"cia\", \"come\", \"come\", \"committee\", \"committee\", \"community\", \"condemns_cia\", \"conservative\", \"continue_read\", \"continue_reading\", \"cop\", \"cop\", \"court\", \"crime\", \"crime\", \"daily_kos\", \"deal\", \"deal\", \"death\", \"death\", \"democrat\", \"democratic\", \"democratic\", \"detainee\", \"die\", \"die\", \"do\", \"drug\", \"edelman\", \"election\", \"enhanced_interrogation\", \"enhanced_interrogation\", \"eric_garner\", \"exchange\", \"far\", \"fbi\", \"feinstein\", \"feinstein_strik\", \"ferguson\", \"film\", \"first_column\", \"football\", \"former\", \"former\", \"fox\", \"garner\", \"garner\", \"get\", \"get\", \"girl\", \"go\", \"go\", \"good\", \"gop\", \"government\", \"government\", \"governor\", \"grand_jury\", \"gruesome_moment\", \"gun\", \"harvard\", \"harvard\", \"have\", \"home\", \"home\", \"house\", \"house\", \"husband\", \"immigration\", \"indict\", \"insurance\", \"intelligence\", \"intelligence_committee\", \"interrogation\", \"investigate\", \"iran\", \"iraq\", \"israeli\", \"itune\", \"jihadi\", \"joseph\", \"jr\", \"kill\", \"kill\", \"kill\", \"know\", \"know\", \"know\", \"law\", \"law\", \"leader\", \"leader\", \"legal\", \"life\", \"life\", \"life\", \"link\", \"link_relat\", \"link_related\", \"listen\", \"listen\", \"lose\", \"make\", \"make\", \"malala\", \"man\", \"man\", \"man\", \"man\", \"many\", \"many\", \"may\", \"may\", \"may\", \"medium\", \"member\", \"mexican\", \"mexico\", \"mexico\", \"michael\", \"michael\", \"military\", \"movie\", \"much\", \"muslim\", \"nba\", \"need\", \"need\", \"new\", \"new\", \"new\", \"new_york\", \"new_york\", \"new_york\", \"nfl\", \"nobel\", \"not\", \"nuclear\", \"nypd\", \"nypd\", \"obama\", \"obama\", \"obamacare\", \"officer\", \"officer\", \"official\", \"official\", \"official\", \"oil\", \"oil\", \"palestinian\", \"party\", \"people\", \"people\", \"percent\", \"plan\", \"player\", \"police\", \"police\", \"police_officer\", \"political\", \"poll\", \"president\", \"president\", \"price\", \"price\", \"prize\", \"prize\", \"program\", \"program\", \"protect\", \"protest\", \"protest\", \"put_dent\", \"race\", \"ram\", \"receiver\", \"release\", \"release\", \"report\", \"report\", \"report\", \"republican\", \"rodriguez\", \"rodriguez\", \"rodriguez\", \"rule\", \"rumsfeld\", \"rumsfeld\", \"rumsfeld\", \"run\", \"run\", \"s\", \"say\", \"say\", \"say\", \"second_column\", \"secretary\", \"security\", \"seem\", \"seem\", \"senate\", \"sherman\", \"shirt\", \"shirt\", \"shoot\", \"soldier\", \"something\", \"son\", \"spooks_spy\", \"st_story\", \"star\", \"star\", \"state\", \"state\", \"story\", \"story\", \"story\", \"student\", \"surround\", \"take\", \"take\", \"talk\", \"talk\", \"taxi\", \"teammate\", \"technique\", \"technique\", \"terror\", \"terror\", \"terrorist\", \"terrorist\", \"th_story\", \"think\", \"think\", \"think\", \"third_column\", \"threat\", \"time\", \"time\", \"time\", \"torture\", \"torture_report\", \"trailer\", \"train\", \"tuesday\", \"tuesday\", \"twitter\", \"uber\", \"uva\", \"want\", \"want\", \"war\", \"war\", \"washington_reuter\", \"white\", \"white\", \"wilson\", \"word\", \"word\", \"would\", \"would\", \"write\", \"write\", \"write\", \"year\", \"year\", \"year\", \"year_old\", \"year_old\", \"yousafzai\"]}, \"R\": 30, \"lambda.step\": 0.01, \"plot.opts\": {\"xlab\": \"PC1\", \"ylab\": \"PC2\"}, \"topic.order\": [2, 1, 4, 3]};\n",
       "\n",
       "function LDAvis_load_lib(url, callback){\n",
       "  var s = document.createElement('script');\n",
       "  s.src = url;\n",
       "  s.async = true;\n",
       "  s.onreadystatechange = s.onload = callback;\n",
       "  s.onerror = function(){console.warn(\"failed to load library \" + url);};\n",
       "  document.getElementsByTagName(\"head\")[0].appendChild(s);\n",
       "}\n",
       "\n",
       "if(typeof(LDAvis) !== \"undefined\"){\n",
       "   // already loaded: just create the visualization\n",
       "   !function(LDAvis){\n",
       "       new LDAvis(\"#\" + \"ldavis_el3761280910975129305609141\", ldavis_el3761280910975129305609141_data);\n",
       "   }(LDAvis);\n",
       "}else if(typeof define === \"function\" && define.amd){\n",
       "   // require.js is available: use it to load d3/LDAvis\n",
       "   require.config({paths: {d3: \"https://cdnjs.cloudflare.com/ajax/libs/d3/3.5.5/d3.min\"}});\n",
       "   require([\"d3\"], function(d3){\n",
       "      window.d3 = d3;\n",
       "      LDAvis_load_lib(\"https://cdn.rawgit.com/bmabey/pyLDAvis/files/ldavis.v1.0.0.js\", function(){\n",
       "        new LDAvis(\"#\" + \"ldavis_el3761280910975129305609141\", ldavis_el3761280910975129305609141_data);\n",
       "      });\n",
       "    });\n",
       "}else{\n",
       "    // require.js not available: dynamically load d3 & LDAvis\n",
       "    LDAvis_load_lib(\"https://cdnjs.cloudflare.com/ajax/libs/d3/3.5.5/d3.min.js\", function(){\n",
       "         LDAvis_load_lib(\"https://cdn.rawgit.com/bmabey/pyLDAvis/files/ldavis.v1.0.0.js\", function(){\n",
       "                 new LDAvis(\"#\" + \"ldavis_el3761280910975129305609141\", ldavis_el3761280910975129305609141_data);\n",
       "            })\n",
       "         });\n",
       "}\n",
       "</script>"
      ],
      "text/plain": [
       "PreparedData(topic_coordinates=              x         y  topics  cluster       Freq\n",
       "topic                                                \n",
       "1      0.208529  0.102766       1        1  53.324677\n",
       "0      0.158322 -0.118960       2        1  30.778269\n",
       "3     -0.184626 -0.147948       3        1  10.651149\n",
       "2     -0.182225  0.164142       4        1   5.245906, topic_info=      Category        Freq             Term       Total  loglift  logprob\n",
       "term                                                                     \n",
       "1122   Default  167.000000            story  167.000000  30.0000  30.0000\n",
       "5908   Default  275.000000              cia  275.000000  29.0000  29.0000\n",
       "692    Default  525.000000              not  525.000000  28.0000  28.0000\n",
       "139    Default  268.000000           senate  268.000000  27.0000  27.0000\n",
       "5332   Default   97.000000         th_story   97.000000  26.0000  26.0000\n",
       "61     Default  457.000000           people  457.000000  25.0000  25.0000\n",
       "175    Default  884.000000              say  884.000000  24.0000  24.0000\n",
       "288    Default  147.000000              man  147.000000  23.0000  23.0000\n",
       "1490   Default   79.000000             link   79.000000  22.0000  22.0000\n",
       "480    Default  386.000000       republican  386.000000  21.0000  21.0000\n",
       "523    Default  139.000000             back  139.000000  20.0000  20.0000\n",
       "621    Default  404.000000           report  404.000000  19.0000  19.0000\n",
       "124    Default  369.000000              get  369.000000  18.0000  18.0000\n",
       "7464   Default  167.000000          torture  167.000000  17.0000  17.0000\n",
       "2290   Default  112.000000           police  112.000000  16.0000  16.0000\n",
       "5359   Default   62.000000    second_column   62.000000  15.0000  15.0000\n",
       "684    Default  303.000000               do  303.000000  14.0000  14.0000\n",
       "1576   Default   81.000000            black   81.000000  13.0000  13.0000\n",
       "53     Default   93.000000             kill   93.000000  12.0000  12.0000\n",
       "576    Default   89.000000          officer   89.000000  11.0000  11.0000\n",
       "462    Default  257.000000         democrat  257.000000  10.0000  10.0000\n",
       "10487  Default  126.000000    continue_read  126.000000   9.0000   9.0000\n",
       "1425   Default  242.000000               be  242.000000   8.0000   8.0000\n",
       "366    Default  192.000000          release  192.000000   7.0000   7.0000\n",
       "420    Default  239.000000                s  239.000000   6.0000   6.0000\n",
       "369    Default   61.000000        terrorist   61.000000   5.0000   5.0000\n",
       "1159   Default  206.000000          program  206.000000   4.0000   4.0000\n",
       "507    Default  220.000000        obamacare  220.000000   3.0000   3.0000\n",
       "2915   Default   59.000000            shirt   59.000000   2.0000   2.0000\n",
       "126    Default  212.000000             good  212.000000   1.0000   1.0000\n",
       "...        ...         ...              ...         ...      ...      ...\n",
       "1040    Topic4   13.971723         football   14.591894   2.9043  -5.9069\n",
       "3677    Topic4   20.590521          mexican   21.545858   2.9024  -5.5191\n",
       "5315    Topic4   11.831579         st_story   12.410959   2.8999  -6.0732\n",
       "4505    Topic4   11.825670          trailer   12.461452   2.8954  -6.0737\n",
       "4776    Topic4    9.454243            itune   10.038970   2.8877  -6.2975\n",
       "3603    Topic4    9.749188         put_dent   10.369785   2.8860  -6.2668\n",
       "6905    Topic4   10.344831              nfl   11.021523   2.8844  -6.2075\n",
       "12034   Topic4    9.680967  gruesome_moment   10.316326   2.8842  -6.2738\n",
       "12030   Topic4    9.680967    agencys_power   10.316326   2.8842  -6.2738\n",
       "12031   Topic4    9.680967        bush_kept   10.316326   2.8842  -6.2738\n",
       "12032   Topic4    9.680967     condemns_cia   10.316326   2.8842  -6.2738\n",
       "12033   Topic4    9.680967  feinstein_strik   10.316326   2.8842  -6.2738\n",
       "12035   Topic4    9.680967       spooks_spy   10.316326   2.8842  -6.2738\n",
       "6124    Topic4   23.165878            award   24.765839   2.8809  -5.4013\n",
       "11331   Topic4   10.675394             taxi   11.408187   2.8813  -6.1760\n",
       "12355   Topic4   12.911550             uber   13.949233   2.8704  -5.9858\n",
       "3485    Topic4   10.804489           joseph   11.567375   2.8795  -6.1640\n",
       "8821    Topic4   10.154219         teammate   10.842482   2.8821  -6.2261\n",
       "8782    Topic4   10.190786              nba   10.895327   2.8809  -6.2225\n",
       "11449   Topic4   10.235108              uva   10.950421   2.8802  -6.2181\n",
       "12552   Topic4   14.437243         rumsfeld   16.461317   2.8165  -5.8742\n",
       "4538    Topic4   32.252945           mexico   43.911278   2.6392  -5.0704\n",
       "4166    Topic4   14.979984              oil   18.124580   2.7572  -5.8373\n",
       "1122    Topic4   71.398003            story  167.807281   2.0932  -4.2757\n",
       "3495    Topic4   16.817347            prize   22.968788   2.6360  -5.7216\n",
       "1477    Topic4   15.061399          harvard   19.494972   2.6897  -5.8318\n",
       "8172    Topic4   17.838552           garner   30.910669   2.3980  -5.6626\n",
       "2850    Topic4   22.379353            price   48.228920   2.1799  -5.4358\n",
       "523     Topic4   26.229168             back  139.126785   1.2792  -5.2771\n",
       "3594    Topic4   14.541358           listen   42.604649   1.8728  -5.8670\n",
       "\n",
       "[242 rows x 6 columns], token_table=       Topic      Freq               Term\n",
       "term                                     \n",
       "3688       2  0.989189           abortion\n",
       "564        1  0.990388     administration\n",
       "1256       2  0.994531             agency\n",
       "12030      4  0.969337      agencys_power\n",
       "11893      3  0.958209             albino\n",
       "5895       2  0.025539             allege\n",
       "5895       3  0.970483             allege\n",
       "701        1  0.788242               also\n",
       "701        2  0.209934               also\n",
       "633        1  0.912540           american\n",
       "633        2  0.086756           american\n",
       "1422       3  0.916402             arrest\n",
       "1422       4  0.070492             arrest\n",
       "6124       3  0.040378              award\n",
       "6124       4  0.928699              award\n",
       "523        1  0.776270               back\n",
       "523        2  0.035938               back\n",
       "523        4  0.186880               back\n",
       "1204       1  0.992584                bad\n",
       "3842       3  0.981761                bbc\n",
       "1425       1  0.997102                 be\n",
       "1290       1  0.158740               bill\n",
       "1290       2  0.836995               bill\n",
       "1576       1  0.172035              black\n",
       "1576       3  0.823309              black\n",
       "4628       2  0.987167              brown\n",
       "2453       2  0.984359             brutal\n",
       "12031      4  0.969337          bush_kept\n",
       "75         1  0.992037           campaign\n",
       "1590       3  0.989349          character\n",
       "...      ...       ...                ...\n",
       "7464       2  0.993122            torture\n",
       "11314      2  0.994051     torture_report\n",
       "4505       4  0.962970            trailer\n",
       "5468       2  0.994251              train\n",
       "484        1  0.168042            tuesday\n",
       "484        2  0.823404            tuesday\n",
       "6503       3  0.989758            twitter\n",
       "12355      4  0.931951               uber\n",
       "11449      4  0.913207                uva\n",
       "833        1  0.961695               want\n",
       "833        2  0.032056               want\n",
       "339        2  0.762633                war\n",
       "339        3  0.228790                war\n",
       "1148       2  0.983734  washington_reuter\n",
       "519        1  0.230284              white\n",
       "519        3  0.767614              white\n",
       "1744       3  0.981669             wilson\n",
       "1136       1  0.659126               word\n",
       "1136       3  0.340194               word\n",
       "459        1  0.685530              would\n",
       "459        2  0.313913              would\n",
       "914        1  0.499232              write\n",
       "914        2  0.236478              write\n",
       "914        3  0.262754              write\n",
       "41         1  0.758304               year\n",
       "41         2  0.208071               year\n",
       "41         3  0.032367               year\n",
       "1168       1  0.422398           year_old\n",
       "1168       3  0.563197           year_old\n",
       "11923      4  0.932147          yousafzai\n",
       "\n",
       "[304 rows x 3 columns], R=30, lambda_step=0.01, plot_opts={'xlab': 'PC1', 'ylab': 'PC2'}, topic_order=[2, 1, 4, 3])"
      ]
     },
     "execution_count": 304,
     "metadata": {},
     "output_type": "execute_result"
    }
   ],
   "source": [
    "# Visualize the topics\n",
    "pyLDAvis.enable_notebook()\n",
    "vis = pyLDAvis.gensim.prepare(lda_model, corpus, id2word)\n",
    "vis"
   ]
  },
  {
   "cell_type": "code",
   "execution_count": 178,
   "metadata": {},
   "outputs": [],
   "source": [
    "para_topics = [lda_model[x] for x in corpus]"
   ]
  },
  {
   "cell_type": "code",
   "execution_count": 179,
   "metadata": {},
   "outputs": [],
   "source": [
    "para_topics = np.array(para_topics)"
   ]
  },
  {
   "cell_type": "code",
   "execution_count": 180,
   "metadata": {},
   "outputs": [],
   "source": [
    "topic_df = pd.DataFrame()"
   ]
  },
  {
   "cell_type": "code",
   "execution_count": 298,
   "metadata": {
    "scrolled": true
   },
   "outputs": [],
   "source": [
    "df[\"topic0\"] = 0\n",
    "df[\"topic1\"] = 0\n",
    "df[\"topic2\"] = 0\n",
    "df[\"topic3\"] = 0\n",
    "for index,row in df.iterrows():\n",
    "#     print(index)\n",
    "#     print(row)\n",
    "    try:\n",
    "        mod_output = lda_model[corpus[index]][0]\n",
    "    except IndexError:\n",
    "#         print(mod_output)\n",
    "#         print(index)\n",
    "        break\n",
    "    for (topic,prob) in mod_output:\n",
    "#         print(topic)\n",
    "#         print(prob)\n",
    "        df.loc[index,'topic' + str(topic)] = prob"
   ]
  },
  {
   "cell_type": "code",
   "execution_count": 300,
   "metadata": {},
   "outputs": [
    {
     "data": {
      "text/html": [
       "<div>\n",
       "<style scoped>\n",
       "    .dataframe tbody tr th:only-of-type {\n",
       "        vertical-align: middle;\n",
       "    }\n",
       "\n",
       "    .dataframe tbody tr th {\n",
       "        vertical-align: top;\n",
       "    }\n",
       "\n",
       "    .dataframe thead th {\n",
       "        text-align: right;\n",
       "    }\n",
       "</style>\n",
       "<table border=\"1\" class=\"dataframe\">\n",
       "  <thead>\n",
       "    <tr style=\"text-align: right;\">\n",
       "      <th></th>\n",
       "      <th>doc_id</th>\n",
       "      <th>doc_source</th>\n",
       "      <th>doc_title</th>\n",
       "      <th>doc_content</th>\n",
       "      <th>doc_date</th>\n",
       "      <th>doc_url</th>\n",
       "      <th>label</th>\n",
       "      <th>topic0</th>\n",
       "      <th>topic1</th>\n",
       "      <th>topic2</th>\n",
       "      <th>topic3</th>\n",
       "    </tr>\n",
       "  </thead>\n",
       "  <tbody>\n",
       "    <tr>\n",
       "      <th>0</th>\n",
       "      <td>39.0</td>\n",
       "      <td>Google News</td>\n",
       "      <td>50 Years on, Finding Profit in 'Truth' on JFK ...</td>\n",
       "      <td>Washington Post50 Years on, Finding Profit in ...</td>\n",
       "      <td>11/03/2013</td>\n",
       "      <td>http://news.google.com/news/url?sa=t&amp;fd=R&amp;usg=...</td>\n",
       "      <td>left</td>\n",
       "      <td>0.025262</td>\n",
       "      <td>0.386966</td>\n",
       "      <td>0.044166</td>\n",
       "      <td>0.543606</td>\n",
       "    </tr>\n",
       "    <tr>\n",
       "      <th>1</th>\n",
       "      <td>38.0</td>\n",
       "      <td>Google News</td>\n",
       "      <td>Nearly 10 years later, families and officials ...</td>\n",
       "      <td>Washington PostNearly 10 years later, families...</td>\n",
       "      <td>11/03/2013</td>\n",
       "      <td>http://news.google.com/news/url?sa=t&amp;fd=R&amp;usg=...</td>\n",
       "      <td>left</td>\n",
       "      <td>0.078432</td>\n",
       "      <td>0.374478</td>\n",
       "      <td>0.000000</td>\n",
       "      <td>0.543192</td>\n",
       "    </tr>\n",
       "    <tr>\n",
       "      <th>2</th>\n",
       "      <td>37.0</td>\n",
       "      <td>Google News</td>\n",
       "      <td>Cuccinelli, running hard, has been hobbled in ...</td>\n",
       "      <td>Washington PostCuccinelli, running hard, has b...</td>\n",
       "      <td>11/03/2013</td>\n",
       "      <td>http://news.google.com/news/url?sa=t&amp;fd=R&amp;usg=...</td>\n",
       "      <td>left</td>\n",
       "      <td>0.030634</td>\n",
       "      <td>0.830422</td>\n",
       "      <td>0.044072</td>\n",
       "      <td>0.094873</td>\n",
       "    </tr>\n",
       "    <tr>\n",
       "      <th>3</th>\n",
       "      <td>36.0</td>\n",
       "      <td>Google News</td>\n",
       "      <td>Chuck Schumer endorses Hillary Clinton for Pre...</td>\n",
       "      <td>New York Daily NewsChuck Schumer endorses Hill...</td>\n",
       "      <td>11/03/2013</td>\n",
       "      <td>http://news.google.com/news/url?sa=t&amp;fd=R&amp;usg=...</td>\n",
       "      <td>left</td>\n",
       "      <td>0.663121</td>\n",
       "      <td>0.329360</td>\n",
       "      <td>0.000000</td>\n",
       "      <td>0.000000</td>\n",
       "    </tr>\n",
       "    <tr>\n",
       "      <th>4</th>\n",
       "      <td>35.0</td>\n",
       "      <td>Google News</td>\n",
       "      <td>Sec. Kerry issues apparent warning to Iran - C...</td>\n",
       "      <td>Ahram OnlineSec. Kerry issues apparent warning...</td>\n",
       "      <td>11/03/2013</td>\n",
       "      <td>http://news.google.com/news/url?sa=t&amp;fd=R&amp;usg=...</td>\n",
       "      <td>left</td>\n",
       "      <td>0.949647</td>\n",
       "      <td>0.042389</td>\n",
       "      <td>0.000000</td>\n",
       "      <td>0.000000</td>\n",
       "    </tr>\n",
       "  </tbody>\n",
       "</table>\n",
       "</div>"
      ],
      "text/plain": [
       "   doc_id   doc_source                                          doc_title  \\\n",
       "0    39.0  Google News  50 Years on, Finding Profit in 'Truth' on JFK ...   \n",
       "1    38.0  Google News  Nearly 10 years later, families and officials ...   \n",
       "2    37.0  Google News  Cuccinelli, running hard, has been hobbled in ...   \n",
       "3    36.0  Google News  Chuck Schumer endorses Hillary Clinton for Pre...   \n",
       "4    35.0  Google News  Sec. Kerry issues apparent warning to Iran - C...   \n",
       "\n",
       "                                         doc_content    doc_date  \\\n",
       "0  Washington Post50 Years on, Finding Profit in ...  11/03/2013   \n",
       "1  Washington PostNearly 10 years later, families...  11/03/2013   \n",
       "2  Washington PostCuccinelli, running hard, has b...  11/03/2013   \n",
       "3  New York Daily NewsChuck Schumer endorses Hill...  11/03/2013   \n",
       "4  Ahram OnlineSec. Kerry issues apparent warning...  11/03/2013   \n",
       "\n",
       "                                             doc_url label    topic0  \\\n",
       "0  http://news.google.com/news/url?sa=t&fd=R&usg=...  left  0.025262   \n",
       "1  http://news.google.com/news/url?sa=t&fd=R&usg=...  left  0.078432   \n",
       "2  http://news.google.com/news/url?sa=t&fd=R&usg=...  left  0.030634   \n",
       "3  http://news.google.com/news/url?sa=t&fd=R&usg=...  left  0.663121   \n",
       "4  http://news.google.com/news/url?sa=t&fd=R&usg=...  left  0.949647   \n",
       "\n",
       "     topic1    topic2    topic3  \n",
       "0  0.386966  0.044166  0.543606  \n",
       "1  0.374478  0.000000  0.543192  \n",
       "2  0.830422  0.044072  0.094873  \n",
       "3  0.329360  0.000000  0.000000  \n",
       "4  0.042389  0.000000  0.000000  "
      ]
     },
     "execution_count": 300,
     "metadata": {},
     "output_type": "execute_result"
    }
   ],
   "source": [
    "df.head()"
   ]
  },
  {
   "cell_type": "code",
   "execution_count": 303,
   "metadata": {},
   "outputs": [
    {
     "data": {
      "text/html": [
       "<div>\n",
       "<style scoped>\n",
       "    .dataframe tbody tr th:only-of-type {\n",
       "        vertical-align: middle;\n",
       "    }\n",
       "\n",
       "    .dataframe tbody tr th {\n",
       "        vertical-align: top;\n",
       "    }\n",
       "\n",
       "    .dataframe thead th {\n",
       "        text-align: right;\n",
       "    }\n",
       "</style>\n",
       "<table border=\"1\" class=\"dataframe\">\n",
       "  <thead>\n",
       "    <tr style=\"text-align: right;\">\n",
       "      <th></th>\n",
       "      <th>doc_id</th>\n",
       "      <th>topic0</th>\n",
       "      <th>topic1</th>\n",
       "      <th>topic2</th>\n",
       "      <th>topic3</th>\n",
       "    </tr>\n",
       "    <tr>\n",
       "      <th>label</th>\n",
       "      <th></th>\n",
       "      <th></th>\n",
       "      <th></th>\n",
       "      <th></th>\n",
       "      <th></th>\n",
       "    </tr>\n",
       "  </thead>\n",
       "  <tbody>\n",
       "    <tr>\n",
       "      <th>center</th>\n",
       "      <td>1229.006849</td>\n",
       "      <td>0.459324</td>\n",
       "      <td>0.417250</td>\n",
       "      <td>0.037338</td>\n",
       "      <td>0.080545</td>\n",
       "    </tr>\n",
       "    <tr>\n",
       "      <th>left</th>\n",
       "      <td>1071.817035</td>\n",
       "      <td>0.295869</td>\n",
       "      <td>0.385740</td>\n",
       "      <td>0.076428</td>\n",
       "      <td>0.087438</td>\n",
       "    </tr>\n",
       "    <tr>\n",
       "      <th>left-center</th>\n",
       "      <td>1035.375956</td>\n",
       "      <td>0.354559</td>\n",
       "      <td>0.375154</td>\n",
       "      <td>0.083701</td>\n",
       "      <td>0.125301</td>\n",
       "    </tr>\n",
       "    <tr>\n",
       "      <th>right</th>\n",
       "      <td>973.067989</td>\n",
       "      <td>0.336063</td>\n",
       "      <td>0.346472</td>\n",
       "      <td>0.122589</td>\n",
       "      <td>0.061792</td>\n",
       "    </tr>\n",
       "    <tr>\n",
       "      <th>right-center</th>\n",
       "      <td>1058.672897</td>\n",
       "      <td>0.345682</td>\n",
       "      <td>0.416072</td>\n",
       "      <td>0.067024</td>\n",
       "      <td>0.121423</td>\n",
       "    </tr>\n",
       "  </tbody>\n",
       "</table>\n",
       "</div>"
      ],
      "text/plain": [
       "                   doc_id    topic0    topic1    topic2    topic3\n",
       "label                                                            \n",
       "center        1229.006849  0.459324  0.417250  0.037338  0.080545\n",
       "left          1071.817035  0.295869  0.385740  0.076428  0.087438\n",
       "left-center   1035.375956  0.354559  0.375154  0.083701  0.125301\n",
       "right          973.067989  0.336063  0.346472  0.122589  0.061792\n",
       "right-center  1058.672897  0.345682  0.416072  0.067024  0.121423"
      ]
     },
     "execution_count": 303,
     "metadata": {},
     "output_type": "execute_result"
    }
   ],
   "source": [
    "df.groupby([\"label\"]).mean()"
   ]
  }
 ],
 "metadata": {
  "kernelspec": {
   "display_name": "Python 3",
   "language": "python",
   "name": "python3"
  }
 },
 "nbformat": 4,
 "nbformat_minor": 2
}
