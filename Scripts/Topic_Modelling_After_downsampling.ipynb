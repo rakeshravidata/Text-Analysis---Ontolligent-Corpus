{
 "cells": [
  {
   "cell_type": "code",
   "execution_count": 24,
   "metadata": {},
   "outputs": [],
   "source": [
    "#read data\n",
    "import pandas as pd\n",
    "import matplotlib.pyplot as plt\n",
    "%matplotlib inline\n",
    "import numpy as np\n",
    "\n",
    " \n",
    "from nltk.stem import WordNetLemmatizer, SnowballStemmer\n",
    "from nltk.stem.porter import *\n",
    "\n",
    "from scipy.stats import chisquare"
   ]
  },
  {
   "cell_type": "code",
   "execution_count": 16,
   "metadata": {},
   "outputs": [],
   "source": [
    "df = pd.read_csv(\"/Users/user/Documents/github/Text-Analysis---Ontolligent-Corpus/data/corpus.csv\", sep = \"|\")"
   ]
  },
  {
   "cell_type": "code",
   "execution_count": 17,
   "metadata": {
    "scrolled": false
   },
   "outputs": [
    {
     "data": {
      "text/plain": [
       "<matplotlib.axes._subplots.AxesSubplot at 0x1a35b38e48>"
      ]
     },
     "execution_count": 17,
     "metadata": {},
     "output_type": "execute_result"
    },
    {
     "data": {
      "image/png": "[encoded data removed]",
      "text/plain": [
       "<Figure size 432x288 with 1 Axes>"
      ]
     },
     "metadata": {
      "needs_background": "light"
     },
     "output_type": "display_data"
    }
   ],
   "source": [
    "#what is distribution for sources\n",
    "df.doc_source.value_counts().plot('bar')"
   ]
  },
  {
   "cell_type": "code",
   "execution_count": 18,
   "metadata": {},
   "outputs": [
    {
     "data": {
      "text/plain": [
       "(722410, 6)"
      ]
     },
     "execution_count": 18,
     "metadata": {},
     "output_type": "execute_result"
    }
   ],
   "source": [
    "#drop NaNs\n",
    "df = df.dropna()\n",
    "df.shape"
   ]
  },
  {
   "cell_type": "code",
   "execution_count": 19,
   "metadata": {},
   "outputs": [],
   "source": [
    "# assigning labels of left leaning (L) and right leaning (R)\n",
    "#reducing cardinality of labels to 3\n",
    "# assigning labels of left leaning (L) and right leaning (R)\n",
    "list_of_sources = ['US News', 'UPI Latest','Drudge Report','Fox',\n",
    "'Google News',\n",
    "'Real Clear Politics',\n",
    "'CNN',\n",
    "'NPR',\n",
    "'New York Times',\n",
    "'Reuters',\n",
    "'Daily Kos',\n",
    "'Guardian',\n",
    "'PowerLine',\n",
    "'Politico Magazine',\n",
    "'Breitbart']\n",
    "\n",
    "list_of_labels = ['left-center',\n",
    "'center',\n",
    "'right',\n",
    "'right',\n",
    "'left',\n",
    "'right-center',\n",
    "'left',\n",
    "'left-center',\n",
    "'left-center',\n",
    "'center',\n",
    "'left',\n",
    "'left-center',\n",
    "'right',\n",
    "'center',\n",
    "'right']\n",
    "\n",
    "dictionary = dict(zip(list_of_sources, list_of_labels))\n",
    "df['label']= df['doc_source'].map(dictionary)\n",
    "\n",
    "\n",
    "\n",
    "\n",
    "\n",
    "list_of_sources = ['left', 'left-center','center','right-center',\n",
    "'right']\n",
    "\n",
    "list_of_labels = ['left', 'left','center','right',\n",
    "'right']\n",
    "\n",
    "\n",
    "dictionary = dict(zip(list_of_sources, list_of_labels))\n",
    "df['label_final']= df['label'].map(dictionary)"
   ]
  },
  {
   "cell_type": "code",
   "execution_count": 20,
   "metadata": {},
   "outputs": [
    {
     "data": {
      "text/html": [
       "<div>\n",
       "<style scoped>\n",
       "    .dataframe tbody tr th:only-of-type {\n",
       "        vertical-align: middle;\n",
       "    }\n",
       "\n",
       "    .dataframe tbody tr th {\n",
       "        vertical-align: top;\n",
       "    }\n",
       "\n",
       "    .dataframe thead th {\n",
       "        text-align: right;\n",
       "    }\n",
       "</style>\n",
       "<table border=\"1\" class=\"dataframe\">\n",
       "  <thead>\n",
       "    <tr style=\"text-align: right;\">\n",
       "      <th></th>\n",
       "      <th>doc_id</th>\n",
       "      <th>doc_source</th>\n",
       "      <th>doc_title</th>\n",
       "      <th>doc_content</th>\n",
       "      <th>doc_date</th>\n",
       "      <th>doc_url</th>\n",
       "      <th>label</th>\n",
       "      <th>label_final</th>\n",
       "    </tr>\n",
       "  </thead>\n",
       "  <tbody>\n",
       "    <tr>\n",
       "      <th>0</th>\n",
       "      <td>39</td>\n",
       "      <td>Google News</td>\n",
       "      <td>50 Years on, Finding Profit in 'Truth' on JFK ...</td>\n",
       "      <td>Washington Post50 Years on, Finding Profit in ...</td>\n",
       "      <td>11/03/2013</td>\n",
       "      <td>http://news.google.com/news/url?sa=t&amp;fd=R&amp;usg=...</td>\n",
       "      <td>left</td>\n",
       "      <td>left</td>\n",
       "    </tr>\n",
       "    <tr>\n",
       "      <th>1</th>\n",
       "      <td>38</td>\n",
       "      <td>Google News</td>\n",
       "      <td>Nearly 10 years later, families and officials ...</td>\n",
       "      <td>Washington PostNearly 10 years later, families...</td>\n",
       "      <td>11/03/2013</td>\n",
       "      <td>http://news.google.com/news/url?sa=t&amp;fd=R&amp;usg=...</td>\n",
       "      <td>left</td>\n",
       "      <td>left</td>\n",
       "    </tr>\n",
       "    <tr>\n",
       "      <th>2</th>\n",
       "      <td>37</td>\n",
       "      <td>Google News</td>\n",
       "      <td>Cuccinelli, running hard, has been hobbled in ...</td>\n",
       "      <td>Washington PostCuccinelli, running hard, has b...</td>\n",
       "      <td>11/03/2013</td>\n",
       "      <td>http://news.google.com/news/url?sa=t&amp;fd=R&amp;usg=...</td>\n",
       "      <td>left</td>\n",
       "      <td>left</td>\n",
       "    </tr>\n",
       "    <tr>\n",
       "      <th>3</th>\n",
       "      <td>36</td>\n",
       "      <td>Google News</td>\n",
       "      <td>Chuck Schumer endorses Hillary Clinton for Pre...</td>\n",
       "      <td>New York Daily NewsChuck Schumer endorses Hill...</td>\n",
       "      <td>11/03/2013</td>\n",
       "      <td>http://news.google.com/news/url?sa=t&amp;fd=R&amp;usg=...</td>\n",
       "      <td>left</td>\n",
       "      <td>left</td>\n",
       "    </tr>\n",
       "    <tr>\n",
       "      <th>4</th>\n",
       "      <td>35</td>\n",
       "      <td>Google News</td>\n",
       "      <td>Sec. Kerry issues apparent warning to Iran - C...</td>\n",
       "      <td>Ahram OnlineSec. Kerry issues apparent warning...</td>\n",
       "      <td>11/03/2013</td>\n",
       "      <td>http://news.google.com/news/url?sa=t&amp;fd=R&amp;usg=...</td>\n",
       "      <td>left</td>\n",
       "      <td>left</td>\n",
       "    </tr>\n",
       "  </tbody>\n",
       "</table>\n",
       "</div>"
      ],
      "text/plain": [
       "   doc_id   doc_source                                          doc_title  \\\n",
       "0      39  Google News  50 Years on, Finding Profit in 'Truth' on JFK ...   \n",
       "1      38  Google News  Nearly 10 years later, families and officials ...   \n",
       "2      37  Google News  Cuccinelli, running hard, has been hobbled in ...   \n",
       "3      36  Google News  Chuck Schumer endorses Hillary Clinton for Pre...   \n",
       "4      35  Google News  Sec. Kerry issues apparent warning to Iran - C...   \n",
       "\n",
       "                                         doc_content    doc_date  \\\n",
       "0  Washington Post50 Years on, Finding Profit in ...  11/03/2013   \n",
       "1  Washington PostNearly 10 years later, families...  11/03/2013   \n",
       "2  Washington PostCuccinelli, running hard, has b...  11/03/2013   \n",
       "3  New York Daily NewsChuck Schumer endorses Hill...  11/03/2013   \n",
       "4  Ahram OnlineSec. Kerry issues apparent warning...  11/03/2013   \n",
       "\n",
       "                                             doc_url label label_final  \n",
       "0  http://news.google.com/news/url?sa=t&fd=R&usg=...  left        left  \n",
       "1  http://news.google.com/news/url?sa=t&fd=R&usg=...  left        left  \n",
       "2  http://news.google.com/news/url?sa=t&fd=R&usg=...  left        left  \n",
       "3  http://news.google.com/news/url?sa=t&fd=R&usg=...  left        left  \n",
       "4  http://news.google.com/news/url?sa=t&fd=R&usg=...  left        left  "
      ]
     },
     "execution_count": 20,
     "metadata": {},
     "output_type": "execute_result"
    }
   ],
   "source": [
    "df.head()"
   ]
  },
  {
   "cell_type": "code",
   "execution_count": 21,
   "metadata": {},
   "outputs": [],
   "source": [
    "#balancing classes by downsampling \"left\" news \n",
    "left = df[df[\"label_final\"] == \"left\"]\n",
    "other = df[df[\"label_final\"] != \"left\"]\n",
    "\n"
   ]
  },
  {
   "cell_type": "code",
   "execution_count": 22,
   "metadata": {},
   "outputs": [
    {
     "data": {
      "text/plain": [
       "494189"
      ]
     },
     "execution_count": 22,
     "metadata": {},
     "output_type": "execute_result"
    }
   ],
   "source": [
    "len(left)"
   ]
  },
  {
   "cell_type": "code",
   "execution_count": 25,
   "metadata": {},
   "outputs": [],
   "source": [
    "#code to ensure that the distribution of news sources is preserved while downsampling\n",
    "div = []\n",
    "for i in range(500):\n",
    "    sample = left.sample(136305, random_state=i)\n",
    "    p = chisquare(sample[\"doc_source\"].value_counts(normalize = True).tolist(), f_exp=left[\"doc_source\"].value_counts(normalize = True).tolist())[0]\n",
    "    div.append(p)\n",
    "    if len(div) == 0:\n",
    "        continue\n",
    "    if p < min(div):\n",
    "         break\n",
    "lowest_div = min(div)\n",
    "\n"
   ]
  },
  {
   "cell_type": "code",
   "execution_count": 26,
   "metadata": {},
   "outputs": [],
   "source": [
    "\n",
    "#code to ensure that the distribution of news sources is preserved while downsampling\n",
    "for i in range(500):\n",
    "    sample = left.sample(136305, random_state=i)\n",
    "    p = chisquare(sample[\"doc_source\"].value_counts(normalize = True).tolist(), f_exp=left[\"doc_source\"].value_counts(normalize = True).tolist())[0]\n",
    "    if p <= lowest_div:\n",
    "        break"
   ]
  },
  {
   "cell_type": "code",
   "execution_count": 41,
   "metadata": {},
   "outputs": [
    {
     "data": {
      "text/plain": [
       "<matplotlib.axes._subplots.AxesSubplot at 0x1afaab9320>"
      ]
     },
     "execution_count": 41,
     "metadata": {},
     "output_type": "execute_result"
    },
    {
     "data": {
      "image/png": "[encoded data removed]",
      "text/plain": [
       "<Figure size 432x288 with 1 Axes>"
      ]
     },
     "metadata": {
      "needs_background": "light"
     },
     "output_type": "display_data"
    }
   ],
   "source": [
    "#df = pd.concat([sample,other], axis = 0)\n",
    "\n",
    "#distribution of different labels\n",
    "\n",
    "df.label_final.value_counts(normalize = True).plot('bar')"
   ]
  },
  {
   "cell_type": "code",
   "execution_count": 42,
   "metadata": {},
   "outputs": [
    {
     "data": {
      "text/plain": [
       "(0, 8)"
      ]
     },
     "execution_count": 42,
     "metadata": {},
     "output_type": "execute_result"
    }
   ],
   "source": [
    "#chcking for null values after labeling\n",
    "df[df[\"label_final\"].isnull()].shape"
   ]
  },
  {
   "cell_type": "code",
   "execution_count": 43,
   "metadata": {
    "scrolled": true
   },
   "outputs": [
    {
     "data": {
      "text/plain": [
       "doc_source           label       \n",
       "Breitbart            right              146\n",
       "CNN                  left              7330\n",
       "Daily Kos            left              3412\n",
       "Drudge Report        right            64733\n",
       "Fox                  right            37356\n",
       "Google News          left              9199\n",
       "Guardian             left-center       2629\n",
       "NPR                  left-center       5469\n",
       "New York Times       left-center       4106\n",
       "Politico Magazine    center            2737\n",
       "PowerLine            right             7334\n",
       "Real Clear Politics  right-center     26736\n",
       "Reuters              center           13348\n",
       "UPI Latest           center           75831\n",
       "US News              left-center     104160\n",
       "dtype: int64"
      ]
     },
     "execution_count": 43,
     "metadata": {},
     "output_type": "execute_result"
    }
   ],
   "source": [
    "df.label.value_counts()\n",
    "df.groupby([\"doc_source\",\"label\"]).size()"
   ]
  },
  {
   "cell_type": "code",
   "execution_count": 44,
   "metadata": {},
   "outputs": [],
   "source": [
    "df = df.reindex(np.arange(df.index.min(), df.index.max() + 1))"
   ]
  },
  {
   "cell_type": "code",
   "execution_count": 45,
   "metadata": {},
   "outputs": [
    {
     "name": "stderr",
     "output_type": "stream",
     "text": [
      "[nltk_data] Downloading package stopwords to /Users/user/nltk_data...\n",
      "[nltk_data]   Package stopwords is already up-to-date!\n"
     ]
    }
   ],
   "source": [
    "#imporiting all libraries\n",
    "# Run in python console\n",
    "import nltk; nltk.download('stopwords')\n",
    "import re\n",
    "import numpy as np\n",
    "import pandas as pd\n",
    "from pprint import pprint\n",
    "\n",
    "# Gensim\n",
    "import gensim\n",
    "import gensim.corpora as corpora\n",
    "from gensim.utils import simple_preprocess\n",
    "from gensim.models import CoherenceModel\n",
    "\n",
    "# spacy for lemmatization\n",
    "import spacy\n",
    "\n",
    "# Plotting tools\n",
    "import pyLDAvis\n",
    "import pyLDAvis.gensim  # don't skip this\n",
    "import matplotlib.pyplot as plt\n",
    "%matplotlib inline\n",
    "\n",
    "# Enable logging for gensim - optional\n",
    "import logging\n",
    "logging.basicConfig(format='%(asctime)s : %(levelname)s : %(message)s', level=logging.ERROR)\n",
    "\n",
    "import warnings\n",
    "warnings.filterwarnings(\"ignore\",category=DeprecationWarning)\n",
    "# NLTK Stop words\n",
    "from nltk.corpus import stopwords\n",
    "stop_words = stopwords.words('english')\n",
    "stop_words.extend(['from', 'subject', 're', 'edu', 'use', 'say', 'not', 'go', 'do'])"
   ]
  },
  {
   "cell_type": "code",
   "execution_count": 46,
   "metadata": {},
   "outputs": [
    {
     "name": "stdout",
     "output_type": "stream",
     "text": [
      "'nan'\n"
     ]
    }
   ],
   "source": [
    "# Convert to list\n",
    "data = df.doc_content.values.tolist()\n",
    "\n",
    "# Remove Emails\n",
    "data = [re.sub('\\S*@\\S*\\s?', '', str(sent)) for sent in data]\n",
    "\n",
    "# Remove new line characters\n",
    "data = [re.sub('\\s+', ' ', sent) for sent in data]\n",
    "\n",
    "# Remove distracting single quotes\n",
    "data = [re.sub(\"\\'\", \"\", sent) for sent in data]\n",
    "\n",
    "pprint(data[1837][0:2000])"
   ]
  },
  {
   "cell_type": "code",
   "execution_count": 47,
   "metadata": {},
   "outputs": [
    {
     "name": "stdout",
     "output_type": "stream",
     "text": [
      "[['washington', 'postcuccinelli', 'running', 'hard', 'has', 'been', 'hobbled', 'in', 'raceroanoke', 'timesthe', 'big', 'money', 'donors', 'that', 'helped', 'moderate', 'bob', 'mcdonnell', 'have', 'not', 'turned', 'out', 'for', 'him', 'related', 'coverage', 'gubernatorial', 'election', 'puts', 'virginia', 'at', 'crucial', 'crossroads', 'november', 'cuccinelli', 'mcauliffe', 'try', 'to', 'fire', 'up', 'their', 'bases', 'november', 'obama', 'heads', 'to', 'virginia', 'to', 'campaign', 'for', 'analyst', 'talks', 'about', 'importance', 'of', 'women', 'voterswhsvrace', 'for', 'virginia', 'governor', 'could', 'hinge', 'on', 'womenwwlpatch', 'comall', 'news', 'articles']]\n"
     ]
    }
   ],
   "source": [
    "def sent_to_words(sentences):\n",
    "    for sentence in sentences:\n",
    "        yield(gensim.utils.simple_preprocess(str(sentence), deacc=True))  # deacc=True removes punctuations\n",
    "\n",
    "data_words = list(sent_to_words(data))\n",
    "\n",
    "print(data_words[:1])"
   ]
  },
  {
   "cell_type": "code",
   "execution_count": 48,
   "metadata": {},
   "outputs": [
    {
     "name": "stderr",
     "output_type": "stream",
     "text": [
      "/Applications/anaconda3/lib/python3.6/site-packages/gensim/models/phrases.py:494: UserWarning: For a faster implementation, use the gensim.models.phrases.Phraser class\n",
      "  warnings.warn(\"For a faster implementation, use the gensim.models.phrases.Phraser class\")\n"
     ]
    },
    {
     "name": "stdout",
     "output_type": "stream",
     "text": [
      "['washington', 'postcuccinelli', 'running', 'hard', 'has', 'been', 'hobbled', 'in', 'raceroanoke', 'timesthe', 'big', 'money', 'donors', 'that', 'helped', 'moderate', 'bob', 'mcdonnell', 'have', 'not', 'turned', 'out', 'for', 'him', 'related', 'coverage', 'gubernatorial', 'election', 'puts', 'virginia', 'at', 'crucial', 'crossroads', 'november', 'cuccinelli', 'mcauliffe', 'try', 'to', 'fire', 'up', 'their', 'bases', 'november', 'obama', 'heads', 'to', 'virginia', 'to', 'campaign', 'for', 'analyst', 'talks', 'about', 'importance', 'of', 'women', 'voterswhsvrace', 'for', 'virginia', 'governor', 'could', 'hinge', 'on', 'womenwwlpatch', 'comall_news_articles']\n"
     ]
    }
   ],
   "source": [
    "# Build the bigram and trigram models\n",
    "bigram = gensim.models.Phrases(data_words, min_count=5, threshold=100) # higher threshold fewer phrases.\n",
    "trigram = gensim.models.Phrases(bigram[data_words], threshold=100)  \n",
    "\n",
    "# Faster way to get a sentence clubbed as a trigram/bigram\n",
    "bigram_mod = gensim.models.phrases.Phraser(bigram)\n",
    "trigram_mod = gensim.models.phrases.Phraser(trigram)\n",
    "\n",
    "# See trigram example\n",
    "print(trigram_mod[bigram_mod[data_words[0]]])"
   ]
  },
  {
   "cell_type": "code",
   "execution_count": 49,
   "metadata": {},
   "outputs": [],
   "source": [
    "# Define functions for stopwords, bigrams, trigrams and lemmatization\n",
    "def remove_stopwords(texts):\n",
    "    return [[word for word in simple_preprocess(str(doc)) if word not in stop_words] for doc in texts]\n",
    "\n",
    "def make_bigrams(texts):\n",
    "    return [bigram_mod[doc] for doc in texts]\n",
    "\n",
    "def make_trigrams(texts):\n",
    "    return [trigram_mod[bigram_mod[doc]] for doc in texts]\n",
    "\n",
    "def lemmatization(texts, allowed_postags=['NOUN', 'ADJ', 'VERB', 'ADV']):\n",
    "    \"\"\"https://spacy.io/api/annotation\"\"\"\n",
    "    texts_out = []\n",
    "    for sent in texts:\n",
    "        doc = nlp(\" \".join(sent)) \n",
    "        texts_out.append([token.lemma_ for token in doc if token.pos_ in allowed_postags])\n",
    "    return texts_out"
   ]
  },
  {
   "cell_type": "code",
   "execution_count": 51,
   "metadata": {},
   "outputs": [
    {
     "name": "stdout",
     "output_type": "stream",
     "text": [
      "[['washington', 'postcuccinelli', 'run', 'hard', 'hobble', 'raceroanoke', 'big', 'money', 'donor', 'help', 'moderate', 'bob', 'mcdonnell', 'turn', 'related', 'coverage', 'gubernatorial', 'election', 'put', 'virginia', 'crucial', 'crossroad', 'november', 'cuccinelli', 'mcauliffe', 'try', 'fire', 'basis', 'november', 'obama', 'head', 'virginia', 'campaign', 'analyst', 'talk', 'importance', 'woman', 'voterswhsvrace', 'virginia', 'governor', 'could', 'hinge', 'womenwwlpatch', 'comall_news', 'article']]\n"
     ]
    }
   ],
   "source": [
    "# Remove Stop Words\n",
    "data_words_nostops = remove_stopwords(data_words)\n",
    "\n",
    "# Form Bigrams\n",
    "data_words_bigrams = make_bigrams(data_words_nostops)\n",
    "\n",
    "# Initialize spacy 'en' model, keeping only tagger component (for efficiency)\n",
    "# python3 -m spacy download en\n",
    "nlp = spacy.load('en', disable=['parser', 'ner'])\n",
    "\n",
    "# Do lemmatization keeping only noun, adj, vb, adv\n",
    "data_lemmatized = lemmatization(data_words_bigrams, allowed_postags=['NOUN', 'ADJ', 'VERB', 'ADV'])\n",
    "\n",
    "print(data_lemmatized[:1])"
   ]
  },
  {
   "cell_type": "code",
   "execution_count": 52,
   "metadata": {},
   "outputs": [
    {
     "name": "stdout",
     "output_type": "stream",
     "text": [
      "[[(0, 1), (1, 1), (2, 1), (3, 1), (4, 1), (5, 1), (6, 1), (7, 1), (8, 1), (9, 1), (10, 1), (11, 1), (12, 1), (13, 1), (14, 1), (15, 1), (16, 1), (17, 1), (18, 1), (19, 1), (20, 1), (21, 1), (22, 1), (23, 1), (24, 1), (25, 1), (26, 1), (27, 2), (28, 1), (29, 1), (30, 1), (31, 1), (32, 1), (33, 1), (34, 1), (35, 1), (36, 1), (37, 3), (38, 1), (39, 1), (40, 1), (41, 1)]]\n"
     ]
    }
   ],
   "source": [
    "# Create Dictionary\n",
    "id2word = corpora.Dictionary(data_lemmatized)\n",
    "\n",
    "# Create Corpus\n",
    "texts = data_lemmatized\n",
    "\n",
    "# Term Document Frequency\n",
    "corpus = [id2word.doc2bow(text) for text in texts]\n",
    "\n",
    "# View\n",
    "print(corpus[:1])"
   ]
  },
  {
   "cell_type": "code",
   "execution_count": 53,
   "metadata": {},
   "outputs": [],
   "source": [
    "lda_model# Build LDA model\n",
    "lda_model = gensim.models.ldamodel.LdaModel(corpus=corpus,\n",
    "                                           id2word=id2word,\n",
    "                                           num_topics=4, \n",
    "                                           random_state=100,\n",
    "                                           update_every=1,\n",
    "                                           chunksize=100,\n",
    "                                           passes=10,\n",
    "                                           alpha='auto',\n",
    "                                           per_word_topics=True)"
   ]
  },
  {
   "cell_type": "code",
   "execution_count": 57,
   "metadata": {},
   "outputs": [],
   "source": [
    "lda_model.save('lda.model')"
   ]
  },
  {
   "cell_type": "code",
   "execution_count": 54,
   "metadata": {},
   "outputs": [
    {
     "name": "stdout",
     "output_type": "stream",
     "text": [
      "[(0,\n",
      "  '0.014*\"new\" + 0.008*\"news\" + 0.007*\"state\" + 0.007*\"year\" + 0.006*\"say\" + '\n",
      "  '0.006*\"time\" + 0.006*\"people\" + 0.006*\"make\" + 0.005*\"get\" + 0.004*\"take\"'),\n",
      " (1,\n",
      "  '0.025*\"man\" + 0.020*\"year\" + 0.020*\"police\" + 0.016*\"charge\" + 0.015*\"kill\" '\n",
      "  '+ 0.013*\"authority\" + 0.012*\"old\" + 0.011*\"woman\" + 0.011*\"say\" + '\n",
      "  '0.009*\"arrest\"'),\n",
      " (2,\n",
      "  '0.033*\"trump\" + 0.030*\"president\" + 0.019*\"say\" + 0.014*\"donald\" + '\n",
      "  '0.013*\"house\" + 0.013*\"reuter\" + 0.011*\"former\" + 0.009*\"democratic\" + '\n",
      "  '0.009*\"democrat\" + 0.008*\"thursday\"'),\n",
      " (3,\n",
      "  '0.308*\"nan\" + 0.008*\"game\" + 0.007*\"star\" + 0.006*\"team\" + 0.005*\"season\" + '\n",
      "  '0.005*\"announce\" + 0.004*\"win\" + 0.004*\"first\" + 0.004*\"final\" + '\n",
      "  '0.004*\"home\"')]\n"
     ]
    }
   ],
   "source": [
    "# Print the Keyword in the 10 topics\n",
    "pprint(lda_model.print_topics())\n",
    "doc_lda = lda_model[corpus]"
   ]
  },
  {
   "cell_type": "code",
   "execution_count": 55,
   "metadata": {},
   "outputs": [
    {
     "name": "stdout",
     "output_type": "stream",
     "text": [
      "\n",
      "Perplexity:  -8.60032159987445\n",
      "\n",
      "Coherence Score:  0.6130458213450425\n"
     ]
    }
   ],
   "source": [
    "# Compute Perplexity\n",
    "print('\\nPerplexity: ', lda_model.log_perplexity(corpus))  # a measure of how good the model is. lower the better.\n",
    "\n",
    "# Compute Coherence Score\n",
    "coherence_model_lda = CoherenceModel(model=lda_model, texts=data_lemmatized, dictionary=id2word, coherence='c_v')\n",
    "coherence_lda = coherence_model_lda.get_coherence()\n",
    "print('\\nCoherence Score: ', coherence_lda)"
   ]
  },
  {
   "cell_type": "code",
   "execution_count": 74,
   "metadata": {},
   "outputs": [
    {
     "data": {
      "text/plain": [
       "<gensim.models.ldamodel.LdaModel at 0x1b57d96ac8>"
      ]
     },
     "execution_count": 74,
     "metadata": {},
     "output_type": "execute_result"
    }
   ],
   "source": [
    "lda_model"
   ]
  },
  {
   "cell_type": "code",
   "execution_count": 61,
   "metadata": {},
   "outputs": [
    {
     "name": "stderr",
     "output_type": "stream",
     "text": [
      "/Applications/anaconda3/lib/python3.6/site-packages/pyLDAvis/_prepare.py:257: FutureWarning: Sorting because non-concatenation axis is not aligned. A future version\n",
      "of pandas will change to not sort by default.\n",
      "\n",
      "To accept the future behavior, pass 'sort=False'.\n",
      "\n",
      "To retain the current behavior and silence the warning, pass 'sort=True'.\n",
      "\n",
      "  return pd.concat([default_term_info] + list(topic_dfs))\n"
     ]
    },
    {
     "data": {
      "text/html": [
       "\n",
       "<link rel=\"stylesheet\" type=\"text/css\" href=\"https://cdn.rawgit.com/bmabey/pyLDAvis/files/ldavis.v1.0.0.css\">\n",
       "\n",
       "\n",
       "<div id=\"ldavis_el58474112363542352563166673\"></div>\n",
       "<script type=\"text/javascript\">\n",
       "\n",
       "var ldavis_el58474112363542352563166673_data = {\"mdsDat\": {\"x\": [-0.14229042425710273, -0.10771383539625931, -0.1267891746971295, 0.3767934343504916], \"y\": [0.08242971549830043, 0.2492064211127299, -0.3247337269862056, -0.006902409624824719], \"topics\": [1, 2, 3, 4], \"cluster\": [1, 1, 1, 1], \"Freq\": [46.526084899902344, 22.000741958618164, 15.951638221740723, 15.521537780761719]}, \"tinfo\": {\"Category\": [\"Default\", \"Default\", \"Default\", \"Default\", \"Default\", \"Default\", \"Default\", \"Default\", \"Default\", \"Default\", \"Default\", \"Default\", \"Default\", \"Default\", \"Default\", \"Default\", \"Default\", \"Default\", \"Default\", \"Default\", \"Default\", \"Default\", \"Default\", \"Default\", \"Default\", \"Default\", \"Default\", \"Default\", \"Default\", \"Default\", \"Topic1\", \"Topic1\", \"Topic1\", \"Topic1\", \"Topic1\", \"Topic1\", \"Topic1\", \"Topic1\", \"Topic1\", \"Topic1\", \"Topic1\", \"Topic1\", \"Topic1\", \"Topic1\", \"Topic1\", \"Topic1\", \"Topic1\", \"Topic1\", \"Topic1\", \"Topic1\", \"Topic1\", \"Topic1\", \"Topic1\", \"Topic1\", \"Topic1\", \"Topic1\", \"Topic1\", \"Topic1\", \"Topic1\", \"Topic1\", \"Topic1\", \"Topic1\", \"Topic1\", \"Topic1\", \"Topic1\", \"Topic1\", \"Topic1\", \"Topic1\", \"Topic1\", \"Topic1\", \"Topic1\", \"Topic1\", \"Topic1\", \"Topic1\", \"Topic1\", \"Topic1\", \"Topic1\", \"Topic1\", \"Topic1\", \"Topic1\", \"Topic2\", \"Topic2\", \"Topic2\", \"Topic2\", \"Topic2\", \"Topic2\", \"Topic2\", \"Topic2\", \"Topic2\", \"Topic2\", \"Topic2\", \"Topic2\", \"Topic2\", \"Topic2\", \"Topic2\", \"Topic2\", \"Topic2\", \"Topic2\", \"Topic2\", \"Topic2\", \"Topic2\", \"Topic2\", \"Topic2\", \"Topic2\", \"Topic2\", \"Topic2\", \"Topic2\", \"Topic2\", \"Topic2\", \"Topic2\", \"Topic2\", \"Topic2\", \"Topic2\", \"Topic2\", \"Topic2\", \"Topic2\", \"Topic2\", \"Topic2\", \"Topic2\", \"Topic2\", \"Topic2\", \"Topic2\", \"Topic2\", \"Topic3\", \"Topic3\", \"Topic3\", \"Topic3\", \"Topic3\", \"Topic3\", \"Topic3\", \"Topic3\", \"Topic3\", \"Topic3\", \"Topic3\", \"Topic3\", \"Topic3\", \"Topic3\", \"Topic3\", \"Topic3\", \"Topic3\", \"Topic3\", \"Topic3\", \"Topic3\", \"Topic3\", \"Topic3\", \"Topic3\", \"Topic3\", \"Topic3\", \"Topic3\", \"Topic3\", \"Topic3\", \"Topic3\", \"Topic3\", \"Topic3\", \"Topic3\", \"Topic3\", \"Topic3\", \"Topic3\", \"Topic3\", \"Topic3\", \"Topic3\", \"Topic3\", \"Topic3\", \"Topic3\", \"Topic3\", \"Topic3\", \"Topic3\", \"Topic3\", \"Topic3\", \"Topic3\", \"Topic3\", \"Topic4\", \"Topic4\", \"Topic4\", \"Topic4\", \"Topic4\", \"Topic4\", \"Topic4\", \"Topic4\", \"Topic4\", \"Topic4\", \"Topic4\", \"Topic4\", \"Topic4\", \"Topic4\", \"Topic4\", \"Topic4\", \"Topic4\", \"Topic4\", \"Topic4\", \"Topic4\", \"Topic4\", \"Topic4\", \"Topic4\", \"Topic4\", \"Topic4\", \"Topic4\", \"Topic4\", \"Topic4\", \"Topic4\", \"Topic4\", \"Topic4\", \"Topic4\", \"Topic4\", \"Topic4\", \"Topic4\", \"Topic4\", \"Topic4\", \"Topic4\", \"Topic4\", \"Topic4\", \"Topic4\", \"Topic4\", \"Topic4\", \"Topic4\", \"Topic4\", \"Topic4\", \"Topic4\", \"Topic4\", \"Topic4\", \"Topic4\", \"Topic4\", \"Topic4\", \"Topic4\", \"Topic4\", \"Topic4\", \"Topic4\"], \"Freq\": [388565.0, 58349.0, 53191.0, 31944.0, 50817.0, 25346.0, 20907.0, 24979.0, 19790.0, 23439.0, 22875.0, 71540.0, 16834.0, 16512.0, 19127.0, 16554.0, 55407.0, 16089.0, 21861.0, 12239.0, 12200.0, 13745.0, 11206.0, 13105.0, 10755.0, 12997.0, 10560.0, 13980.0, 12729.0, 12416.0, 23906.623046875, 22567.548828125, 17947.24609375, 15633.775390625, 14026.6015625, 13684.0029296875, 13240.1435546875, 12738.26953125, 11569.669921875, 11516.5087890625, 11364.5712890625, 11470.2412109375, 10918.55078125, 11127.8984375, 10977.9853515625, 10904.7578125, 9518.5849609375, 9175.794921875, 8898.8203125, 8867.5888671875, 8521.7373046875, 8410.0966796875, 8155.541015625, 7868.53173828125, 8150.587890625, 7777.76806640625, 7625.0927734375, 7650.1904296875, 7333.8671875, 7780.42919921875, 8162.076171875, 16318.7783203125, 13951.8681640625, 31673.875, 51209.1640625, 22170.751953125, 15965.6181640625, 16971.826171875, 10836.1376953125, 26415.3515625, 9092.0927734375, 11091.0341796875, 10077.7841796875, 24650.87890625, 10743.3330078125, 24278.9296875, 13709.44921875, 12897.423828125, 12508.4619140625, 12009.8828125, 58348.859375, 53190.4609375, 24978.666015625, 23438.580078125, 22874.97265625, 16553.60546875, 16088.525390625, 13744.7099609375, 13104.755859375, 12728.833984375, 12996.8193359375, 12116.4248046875, 12415.8662109375, 10896.828125, 9981.255859375, 9557.7021484375, 8652.765625, 8495.5400390625, 8208.6220703125, 7574.4091796875, 7421.09716796875, 7582.44189453125, 6901.35595703125, 6702.51953125, 6682.51708984375, 6936.2431640625, 5682.51416015625, 5431.744140625, 4981.48486328125, 4973.56298828125, 5266.39501953125, 10961.359375, 10963.0400390625, 18878.5859375, 12416.814453125, 14468.53515625, 33215.69921875, 10007.9384765625, 9227.48046875, 9291.00390625, 10006.6982421875, 9094.77734375, 8682.361328125, 25345.833984375, 19790.01953125, 16833.45703125, 12238.201171875, 11206.1689453125, 12199.9208984375, 10559.466796875, 10136.154296875, 10754.4892578125, 7641.39111328125, 7182.890625, 6762.54052734375, 6235.9443359375, 5929.4775390625, 5562.951171875, 5165.2109375, 4960.51220703125, 4985.896484375, 5608.8310546875, 5577.5556640625, 4665.13427734375, 4441.37939453125, 4232.31005859375, 3710.794677734375, 3721.85205078125, 3631.5791015625, 3411.479736328125, 3409.6572265625, 3442.774658203125, 3301.168212890625, 31927.80859375, 20890.0625, 8565.40625, 6777.2861328125, 16174.396484375, 5173.2490234375, 6588.35107421875, 10324.400390625, 11668.552734375, 14126.9990234375, 8852.0322265625, 25958.337890625, 8086.22705078125, 9333.7529296875, 14045.669921875, 6357.64013671875, 6699.48828125, 6589.31982421875, 388564.4375, 9506.365234375, 9123.697265625, 6749.8603515625, 3920.078125, 3794.186279296875, 3231.30029296875, 3260.240234375, 3305.052490234375, 2565.258544921875, 2596.4423828125, 2304.874755859375, 2498.694580078125, 2202.27734375, 2128.171875, 2207.735595703125, 2111.98388671875, 2101.990478515625, 2134.406982421875, 1965.0587158203125, 1802.395751953125, 2000.6856689453125, 2092.515625, 2254.99658203125, 1829.8896484375, 1760.84912109375, 1878.7437744140625, 1860.0069580078125, 1769.8326416015625, 1715.3697509765625, 2095.772216796875, 2004.528564453125, 1927.702880859375, 1845.1807861328125, 7656.49169921875, 4948.970703125, 2573.23486328125, 4480.7568359375, 6688.09521484375, 5272.73974609375, 3705.11474609375, 4877.33642578125, 2512.390625, 3237.456298828125, 3347.451416015625, 2366.73681640625, 3082.142578125, 4985.447265625, 2928.87255859375, 2960.084228515625, 2573.40966796875, 3963.177734375, 3051.452880859375, 3229.959228515625, 2982.014404296875, 2764.315185546875], \"Term\": [\"nan\", \"trump\", \"president\", \"man\", \"year\", \"police\", \"charge\", \"donald\", \"kill\", \"house\", \"reuter\", \"say\", \"authority\", \"old\", \"woman\", \"democratic\", \"new\", \"democrat\", \"former\", \"arrest\", \"second\", \"election\", \"death\", \"campaign\", \"story\", \"white\", \"officer\", \"die\", \"presidential\", \"washington\", \"time\", \"people\", \"get\", \"american\", \"coverage\", \"not\", \"federal\", \"case\", \"come\", \"know\", \"see\", \"government\", \"good\", \"public\", \"work\", \"department\", \"also\", \"go\", \"think\", \"way\", \"long\", \"company\", \"right\", \"even\", \"help\", \"do\", \"many\", \"student\", \"well\", \"point\", \"family\", \"last\", \"york\", \"news\", \"new\", \"make\", \"may\", \"take\", \"show\", \"state\", \"judge\", \"could\", \"want\", \"year\", \"month\", \"say\", \"report\", \"first\", \"would\", \"week\", \"trump\", \"president\", \"donald\", \"house\", \"reuter\", \"democratic\", \"democrat\", \"election\", \"campaign\", \"presidential\", \"white\", \"party\", \"washington\", \"republican\", \"investigation\", \"vote\", \"attorney_general\", \"lawmaker\", \"russia\", \"senate\", \"special_counsel\", \"leader\", \"robert_mueller\", \"mueller\", \"candidate\", \"office\", \"congress\", \"senator\", \"william_barr\", \"secretary\", \"chief\", \"administration\", \"border\", \"former\", \"tuesday\", \"thursday\", \"say\", \"wednesday\", \"monday\", \"friday\", \"would\", \"report\", \"state\", \"police\", \"kill\", \"authority\", \"arrest\", \"death\", \"second\", \"officer\", \"shoot\", \"story\", \"prison\", \"car\", \"sentence\", \"crash\", \"murder\", \"dead\", \"county\", \"boy\", \"jail\", \"third\", \"tech\", \"link\", \"migrant\", \"steal\", \"injure\", \"girl\", \"allegedly\", \"vehicle\", \"pleaded_guilty\", \"jury\", \"inmate\", \"man\", \"charge\", \"trial\", \"suspect\", \"old\", \"chicago\", \"florida\", \"fire\", \"die\", \"woman\", \"accuse\", \"year\", \"child\", \"find\", \"say\", \"texas\", \"city\", \"official\", \"nan\", \"game\", \"star\", \"season\", \"coach\", \"series\", \"player\", \"award\", \"south\", \"music\", \"contract\", \"film\", \"beat\", \"fan\", \"basketball\", \"actor\", \"auburn\", \"north\", \"northern\", \"song\", \"championship\", \"oregon\", \"owner\", \"georgia\", \"movie\", \"nba\", \"island\", \"tennessee\", \"kentucky\", \"rescue\", \"south_carolina\", \"ohio\", \"injury\", \"indiana\", \"team\", \"final\", \"score\", \"play\", \"announce\", \"win\", \"virginia\", \"home\", \"wife\", \"night\", \"saturday\", \"weekend\", \"hit\", \"first\", \"sunday\", \"sign\", \"return\", \"new\", \"friday\", \"thursday\", \"former\", \"wednesday\"], \"Total\": [388565.0, 58349.0, 53191.0, 31944.0, 50817.0, 25346.0, 20907.0, 24979.0, 19790.0, 23439.0, 22875.0, 71540.0, 16834.0, 16512.0, 19127.0, 16554.0, 55407.0, 16089.0, 21861.0, 12239.0, 12200.0, 13745.0, 11206.0, 13105.0, 10755.0, 12997.0, 10560.0, 13980.0, 12729.0, 12416.0, 23907.525390625, 22568.5234375, 17948.13671875, 15634.6689453125, 14027.5126953125, 13684.8984375, 13241.09765625, 12739.20703125, 11570.552734375, 11517.3916015625, 11365.4619140625, 11471.16015625, 10919.4365234375, 11128.8056640625, 10978.8818359375, 10905.7353515625, 9519.4697265625, 9176.6923828125, 8899.697265625, 8868.486328125, 8522.6337890625, 8410.9931640625, 8156.4228515625, 7869.404296875, 8151.49365234375, 7778.66064453125, 7625.96923828125, 7651.0810546875, 7334.7421875, 7781.3701171875, 8163.14892578125, 16445.501953125, 14116.7958984375, 33042.68359375, 55407.2578125, 24609.970703125, 17664.8046875, 19584.3359375, 11582.1484375, 35098.34375, 9356.357421875, 12673.44140625, 10948.1025390625, 50817.91796875, 12413.95703125, 71540.5390625, 22804.84765625, 23158.658203125, 22515.748046875, 19400.009765625, 58349.72265625, 53191.32421875, 24979.529296875, 23439.458984375, 22875.869140625, 16554.47265625, 16089.39453125, 13745.5703125, 13105.623046875, 12729.697265625, 12997.7080078125, 12117.302734375, 12416.7900390625, 10897.693359375, 9982.1416015625, 9558.5703125, 8653.6328125, 8496.4208984375, 8209.4853515625, 7575.2763671875, 7421.95166015625, 7583.3515625, 6902.21142578125, 6703.3828125, 6683.38720703125, 6937.1689453125, 5683.38720703125, 5432.6181640625, 4982.34619140625, 4974.43017578125, 5267.3427734375, 11208.63671875, 11216.4892578125, 21861.2890625, 14477.650390625, 17699.171875, 71540.5390625, 12772.9560546875, 11382.806640625, 12343.181640625, 22515.748046875, 22804.84765625, 35098.34375, 25346.623046875, 19790.814453125, 16834.259765625, 12239.001953125, 11206.970703125, 12200.8193359375, 10560.2646484375, 10136.9560546875, 10755.369140625, 7642.1923828125, 7183.69189453125, 6763.3427734375, 6236.74072265625, 5930.2783203125, 5563.75537109375, 5166.017578125, 4961.31982421875, 4986.7109375, 5609.78076171875, 5578.52880859375, 4665.955078125, 4442.24853515625, 4233.14013671875, 3711.5908203125, 3722.6533203125, 3632.3779296875, 3412.273193359375, 3410.454833984375, 3443.587646484375, 3301.967041015625, 31944.00390625, 20907.1640625, 8568.13671875, 6788.80859375, 16512.84765625, 5222.39794921875, 6711.86279296875, 11593.859375, 13980.53125, 19127.84765625, 10700.5849609375, 50817.91796875, 11787.7841796875, 16060.875, 71540.5390625, 9032.7158203125, 13639.697265625, 19457.15234375, 388565.3125, 9507.2783203125, 9124.6103515625, 6750.767578125, 3921.00048828125, 3795.208740234375, 3232.203857421875, 3261.197509765625, 3306.044189453125, 2566.180419921875, 2597.382080078125, 2305.77978515625, 2499.685546875, 2203.201904296875, 2129.0732421875, 2208.674560546875, 2112.9150390625, 2102.96728515625, 2135.44189453125, 1966.0235595703125, 1803.29638671875, 2001.6859130859375, 2093.56591796875, 2256.143310546875, 1830.822021484375, 1761.7493896484375, 1879.7244873046875, 1861.00390625, 1770.7896728515625, 1716.301513671875, 2097.147216796875, 2005.6572265625, 1928.9434814453125, 1846.3387451171875, 8276.1396484375, 5485.201171875, 2665.084716796875, 5462.1650390625, 9707.962890625, 7153.869140625, 4595.849609375, 8297.1396484375, 2883.087158203125, 4645.046875, 5030.50390625, 2685.34228515625, 5537.2138671875, 23158.658203125, 5977.6162109375, 7085.572265625, 4665.3447265625, 55407.2578125, 12343.181640625, 17699.171875, 21861.2890625, 12772.9560546875], \"loglift\": [30.0, 29.0, 28.0, 27.0, 26.0, 25.0, 24.0, 23.0, 22.0, 21.0, 20.0, 19.0, 18.0, 17.0, 16.0, 15.0, 14.0, 13.0, 12.0, 11.0, 10.0, 9.0, 8.0, 7.0, 6.0, 5.0, 4.0, 3.0, 2.0, 1.0, 0.7651000022888184, 0.7651000022888184, 0.7651000022888184, 0.7651000022888184, 0.7651000022888184, 0.7651000022888184, 0.7651000022888184, 0.7651000022888184, 0.7651000022888184, 0.7651000022888184, 0.7651000022888184, 0.7651000022888184, 0.7651000022888184, 0.7651000022888184, 0.7651000022888184, 0.7651000022888184, 0.7651000022888184, 0.7651000022888184, 0.7651000022888184, 0.7651000022888184, 0.7651000022888184, 0.7651000022888184, 0.7649999856948853, 0.7649999856948853, 0.7649999856948853, 0.7649999856948853, 0.7649999856948853, 0.7649999856948853, 0.7649999856948853, 0.7649999856948853, 0.7649999856948853, 0.7573999762535095, 0.7534000277519226, 0.7228000164031982, 0.6863999962806702, 0.6607999801635742, 0.6639999747276306, 0.621999979019165, 0.6985999941825867, 0.48089998960494995, 0.7365000247955322, 0.6317999958992004, 0.6822999715805054, 0.04170000180602074, 0.6205999851226807, -0.3154999911785126, 0.2563000023365021, 0.17980000376701355, 0.17730000615119934, 0.2856000065803528, 1.5140999555587769, 1.5140999555587769, 1.5140999555587769, 1.5140999555587769, 1.5140999555587769, 1.5140000581741333, 1.5140000581741333, 1.5140000581741333, 1.5140000581741333, 1.5140000581741333, 1.5140000581741333, 1.5140000581741333, 1.5140000581741333, 1.5140000581741333, 1.5140000581741333, 1.5140000581741333, 1.5140000581741333, 1.5140000581741333, 1.5140000581741333, 1.5140000581741333, 1.5140000581741333, 1.5140000581741333, 1.5140000581741333, 1.5140000581741333, 1.5140000581741333, 1.5140000581741333, 1.5139000415802002, 1.5139000415802002, 1.5139000415802002, 1.5139000415802002, 1.5139000415802002, 1.4917999505996704, 1.4911999702453613, 1.367400050163269, 1.3604999780654907, 1.312600016593933, 0.7469000220298767, 1.2700999975204468, 1.3042000532150269, 1.2300000190734863, 0.7031000256538391, 0.5947999954223633, 0.11720000207424164, 1.8356000185012817, 1.8356000185012817, 1.8356000185012817, 1.8355000019073486, 1.8355000019073486, 1.8355000019073486, 1.8355000019073486, 1.8355000019073486, 1.8355000019073486, 1.8355000019073486, 1.8355000019073486, 1.8355000019073486, 1.8355000019073486, 1.8355000019073486, 1.8355000019073486, 1.8355000019073486, 1.8353999853134155, 1.8353999853134155, 1.8353999853134155, 1.8353999853134155, 1.8353999853134155, 1.8353999853134155, 1.8353999853134155, 1.8353999853134155, 1.8353999853134155, 1.8353999853134155, 1.8353999853134155, 1.8353999853134155, 1.8353999853134155, 1.8353999853134155, 1.8351000547409058, 1.8348000049591064, 1.8352999687194824, 1.833899974822998, 1.8149000406265259, 1.826200008392334, 1.8170000314712524, 1.719599962234497, 1.6548000574111938, 1.5326000452041626, 1.6460000276565552, 1.1639000177383423, 1.4586999416351318, 1.2928999662399292, 0.2076999992132187, 1.4844000339508057, 1.1246999502182007, 0.7527999877929688, 1.8629000186920166, 1.8628000020980835, 1.8628000020980835, 1.8628000020980835, 1.8626999855041504, 1.8626999855041504, 1.8626999855041504, 1.8625999689102173, 1.8625999689102173, 1.8625999689102173, 1.8625999689102173, 1.8624999523162842, 1.8624999523162842, 1.8624999523162842, 1.8624999523162842, 1.8624999523162842, 1.8624999523162842, 1.8624999523162842, 1.8624999523162842, 1.8624999523162842, 1.8624000549316406, 1.8624000549316406, 1.8624000549316406, 1.8624000549316406, 1.8624000549316406, 1.8624000549316406, 1.8624000549316406, 1.8624000549316406, 1.8624000549316406, 1.8624000549316406, 1.8623000383377075, 1.8624000549316406, 1.8623000383377075, 1.8623000383377075, 1.785099983215332, 1.76010000705719, 1.8279000520706177, 1.6648999452590942, 1.4903000593185425, 1.557800054550171, 1.6475000381469727, 1.3315999507904053, 1.7252999544143677, 1.5018999576568604, 1.4556000232696533, 1.7366000413894653, 1.2770999670028687, 0.32710000872612, 1.1495000123977661, 0.9901000261306763, 1.2680000066757202, -0.7746999859809875, 0.46549999713897705, 0.16189999878406525, -0.12919999659061432, 0.33239999413490295], \"logprob\": [30.0, 29.0, 28.0, 27.0, 26.0, 25.0, 24.0, 23.0, 22.0, 21.0, 20.0, 19.0, 18.0, 17.0, 16.0, 15.0, 14.0, 13.0, 12.0, 11.0, 10.0, 9.0, 8.0, 7.0, 6.0, 5.0, 4.0, 3.0, 2.0, 1.0, -5.063000202178955, -5.12060022354126, -5.349699974060059, -5.48769998550415, -5.596199989318848, -5.6209001541137695, -5.653900146484375, -5.692500114440918, -5.78879976272583, -5.793399810791016, -5.806600093841553, -5.797399997711182, -5.846700191497803, -5.827700138092041, -5.841300010681152, -5.847899913787842, -5.98390007019043, -6.020599842071533, -6.051199913024902, -6.054699897766113, -6.0945000648498535, -6.107699871063232, -6.138500213623047, -6.174300193786621, -6.139100074768066, -6.1859002113342285, -6.205699920654297, -6.202400207519531, -6.24459981918335, -6.185500144958496, -6.137599945068359, -5.444799900054932, -5.601500034332275, -4.781700134277344, -4.301199913024902, -5.138400077819824, -5.466700077056885, -5.405600070953369, -5.854300022125244, -4.963200092315674, -6.029699802398682, -5.830999851226807, -5.926799774169922, -5.032299995422363, -5.8628997802734375, -5.047500133514404, -5.619100093841553, -5.680099964141846, -5.710700035095215, -5.751399993896484, -3.421799898147583, -3.5143001079559326, -4.270199775695801, -4.333799839019775, -4.3582000732421875, -4.681600093841553, -4.710100173950195, -4.867599964141846, -4.915200233459473, -4.944300174713135, -4.923500061035156, -4.993599891662598, -4.969200134277344, -5.099699974060059, -5.1875, -5.230899810791016, -5.3302998542785645, -5.348700046539307, -5.382999897003174, -5.463399887084961, -5.48390007019043, -5.462399959564209, -5.55649995803833, -5.585700035095215, -5.588699817657471, -5.551499843597412, -5.750800132751465, -5.796000003814697, -5.882500171661377, -5.884099960327148, -5.826900005340576, -5.093800067901611, -5.093699932098389, -4.55019998550415, -4.969200134277344, -4.816199779510498, -3.9851999282836914, -5.184800148010254, -5.265999794006348, -5.259200096130371, -5.184999942779541, -5.2804999351501465, -5.326900005340576, -3.9340999126434326, -4.18149995803833, -4.343299865722656, -4.662099838256836, -4.750199794769287, -4.665299892425537, -4.809700012207031, -4.850599765777588, -4.791399955749512, -5.1331000328063965, -5.195000171661377, -5.255300045013428, -5.336400032043457, -5.3867998123168945, -5.4506001472473145, -5.524799823760986, -5.565199851989746, -5.560100078582764, -5.442399978637695, -5.44789981842041, -5.6265997886657715, -5.6757001876831055, -5.723899841308594, -5.855500221252441, -5.852499961853027, -5.876999855041504, -5.939599990844727, -5.940100193023682, -5.9303998947143555, -5.972400188446045, -3.703200101852417, -4.127399921417236, -5.019000053405762, -5.2530999183654785, -4.383299827575684, -5.523200035095215, -5.281400203704834, -4.832200050354004, -4.709799766540527, -4.518599987030029, -4.986000061035156, -3.9102001190185547, -5.076499938964844, -4.93310022354126, -4.524400234222412, -5.316999912261963, -5.264699935913086, -5.281199932098389, -1.176900029182434, -4.887400150299072, -4.928500175476074, -5.229800224304199, -5.7733001708984375, -5.8059000968933105, -5.9664998054504395, -5.957600116729736, -5.943900108337402, -6.197299957275391, -6.185200214385986, -6.304299831390381, -6.223599910736084, -6.349899768829346, -6.384099960327148, -6.347400188446045, -6.39169979095459, -6.396500110626221, -6.381199836730957, -6.463799953460693, -6.55019998550415, -6.445899963378906, -6.401000022888184, -6.326200008392334, -6.535099983215332, -6.573599815368652, -6.508800029754639, -6.518799781799316, -6.56850004196167, -6.599699974060059, -6.399400234222412, -6.443999767303467, -6.482999801635742, -6.526800155639648, -5.103799819946289, -5.540200233459473, -6.194200038909912, -5.639599800109863, -5.238999843597412, -5.476799964904785, -5.829599857330322, -5.554800033569336, -6.218100070953369, -5.964600086212158, -5.93120002746582, -6.277900218963623, -6.013700008392334, -5.532800197601318, -6.064700126647949, -6.054100036621094, -6.1940999031066895, -5.76230001449585, -6.02370023727417, -5.966899871826172, -6.046800136566162, -6.122600078582764]}, \"token.table\": {\"Topic\": [2, 3, 4, 1, 2, 3, 1, 1, 2, 4, 3, 2, 4, 3, 4, 4, 4, 2, 3, 3, 2, 2, 3, 1, 4, 1, 3, 3, 4, 2, 1, 3, 1, 3, 4, 4, 1, 1, 2, 4, 1, 2, 3, 1, 3, 3, 3, 2, 2, 1, 3, 4, 1, 2, 2, 1, 1, 3, 4, 1, 4, 2, 4, 1, 3, 1, 2, 3, 1, 2, 3, 4, 3, 4, 2, 4, 2, 4, 4, 3, 4, 1, 3, 1, 1, 1, 1, 3, 4, 1, 3, 4, 2, 3, 4, 3, 3, 4, 3, 2, 4, 3, 1, 3, 3, 4, 3, 1, 1, 2, 2, 2, 3, 1, 1, 2, 1, 3, 1, 1, 2, 3, 2, 4, 1, 2, 4, 2, 3, 4, 4, 4, 1, 2, 4, 1, 2, 2, 4, 4, 4, 1, 2, 3, 1, 2, 3, 4, 1, 3, 4, 4, 2, 1, 1, 4, 4, 3, 1, 3, 2, 2, 3, 1, 1, 2, 2, 4, 1, 4, 2, 1, 2, 2, 2, 4, 1, 2, 3, 1, 4, 4, 3, 2, 1, 2, 2, 3, 4, 3, 1, 3, 4, 1, 2, 4, 4, 4, 3, 4, 2, 4, 1, 2, 3, 3, 1, 2, 4, 1, 3, 1, 2, 3, 2, 4, 3, 4, 1, 3, 4, 1, 3, 2, 4, 1, 2, 3, 2, 2, 4, 3, 2, 4, 2, 1, 2, 2, 1, 2, 4, 1, 2, 4, 2, 4, 1, 2, 1, 3, 4, 2, 2, 4, 1, 3, 1, 1, 2, 1, 3, 4, 1, 2, 4], \"Freq\": [0.17270083725452423, 0.8272445201873779, 0.9996945858001709, 0.022036578506231308, 0.9779066443443298, 0.9998959302902222, 0.999950647354126, 0.9999572038650513, 0.310981810092926, 0.6889190077781677, 0.9999181628227234, 0.9999268651008606, 0.999566912651062, 0.9999251961708069, 0.9996327757835388, 0.9994959235191345, 0.9997257590293884, 0.9774003028869629, 0.02255607768893242, 0.999935507774353, 0.9999524354934692, 0.9999420642852783, 0.999903678894043, 0.9999052286148071, 0.999281108379364, 0.000813118414953351, 0.9991790056228638, 0.9905411601066589, 0.009382663294672966, 0.9997450709342957, 0.31396910548210144, 0.6859643459320068, 0.4671657979488373, 0.4911399185657501, 0.04164315387606621, 0.9997448325157166, 0.9999522566795349, 0.9998819231987, 0.9999318718910217, 0.9994679093360901, 0.875137209892273, 0.12482797354459763, 0.9998030066490173, 0.9999634623527527, 0.9998812079429626, 0.9998642206192017, 0.9999133944511414, 0.9999755024909973, 0.9999714493751526, 0.999932587146759, 0.8346607089042664, 0.16530130803585052, 0.9999150633811951, 0.9999788403511047, 0.9999585151672363, 0.9999486207962036, 0.9998592734336853, 0.00012250174768269062, 0.9994544982910156, 0.9999170899391174, 0.9996618032455444, 0.09771747142076492, 0.9022458791732788, 0.41884392499923706, 0.5811638236045837, 0.020183097571134567, 0.08927139639854431, 0.8904713988304138, 0.5568975210189819, 0.11952333152294159, 0.10829643160104752, 0.2152542620897293, 0.9815456867218018, 0.018325762823224068, 0.8635812997817993, 0.13640549778938293, 0.7527232766151428, 0.2471809983253479, 0.9998655319213867, 0.0004432342539075762, 0.9994932413101196, 0.9999366402626038, 0.9998245239257812, 0.9999245405197144, 0.9999600052833557, 0.9998988509178162, 0.9999394416809082, 0.44318318367004395, 0.5565975904464722, 0.412069708108902, 0.00012052346573909745, 0.5877929329872131, 0.9999803900718689, 0.0005416124477051198, 0.9992749094963074, 0.9998407959938049, 0.0005184184992685914, 0.9995108842849731, 0.9997071027755737, 0.999885618686676, 0.9996145963668823, 0.9998574256896973, 0.9717456698417664, 0.028216108679771423, 0.9998293519020081, 0.9995540380477905, 0.999958872795105, 0.999966025352478, 0.9923077821731567, 0.007661669515073299, 0.9999504685401917, 0.9998217821121216, 0.9997953176498413, 0.9999256134033203, 0.9008949995040894, 0.09910617023706436, 0.0005008764564990997, 0.9994990229606628, 0.9998729228973389, 0.9038311243057251, 0.09617994725704193, 0.999718964099884, 0.8106085062026978, 0.1893206238746643, 0.8653969168663025, 0.13452599942684174, 0.999550998210907, 0.9999428987503052, 0.9997844696044922, 0.9995400309562683, 0.9999966025352478, 0.9995746612548828, 0.924229085445404, 0.004241321701556444, 0.07152492552995682, 0.9585782885551453, 0.04140099510550499, 0.30290329456329346, 0.6968713402748108, 0.9995400309562683, 0.9993247985839844, 0.9999343752861023, 0.99983149766922, 0.9998802542686462, 0.3835093677043915, 0.2778412699699402, 0.33864152431488037, 0.9996722936630249, 0.02046891115605831, 0.9794797301292419, 0.9996573328971863, 0.9997296929359436, 0.9998924732208252, 0.9999768137931824, 0.1795991063117981, 0.8203706741333008, 0.9996275305747986, 0.9998666644096375, 0.9998239278793335, 0.9999754428863525, 0.9999750852584839, 0.9999452233314514, 0.999843955039978, 0.9999275803565979, 0.6011441349983215, 0.398818701505661, 0.9999364018440247, 0.9992416501045227, 0.4481983780860901, 0.5515133738517761, 0.9999620318412781, 0.9999481439590454, 0.9998244643211365, 0.9999408721923828, 0.33436015248298645, 0.6653409004211426, 0.33937400579452515, 0.4642961919307709, 0.19633623957633972, 0.034145254641771317, 0.965447723865509, 0.9998862743377686, 0.9999328255653381, 0.9999135136604309, 0.9999593496322632, 0.99983149766922, 0.9998862147331238, 0.9999493360519409, 0.9996815323829651, 0.9999057054519653, 0.9355776906013489, 0.013296323828399181, 0.05111314356327057, 0.26419883966445923, 0.3179700970649719, 0.4177502989768982, 0.999479353427887, 0.9996841549873352, 0.0004768382350448519, 0.9994529485702515, 0.9998717904090881, 0.999933123588562, 0.7525995969772339, 0.24736209213733673, 0.99973064661026, 0.9998726844787598, 0.9998586773872375, 0.5099022388458252, 0.4899946451187134, 0.0016203137347474694, 0.9982605576515198, 0.8666109442710876, 0.1142750009894371, 0.019147956743836403, 0.07479332387447357, 0.9250689744949341, 0.9999052286148071, 0.9994605779647827, 0.29548144340515137, 0.7038857340812683, 0.0005535433883778751, 0.9999216794967651, 0.9998608231544495, 0.8174958825111389, 0.1824944168329239, 0.9999780058860779, 0.0002334229793632403, 0.9996339082717896, 0.9999876022338867, 0.8576667904853821, 0.14228828251361847, 0.999626874923706, 0.19365298748016357, 0.8061621785163879, 0.9999403357505798, 0.9205248355865479, 0.0794658213853836, 0.9999364018440247, 0.9999451637268066, 0.7835304737091064, 0.21639470756053925, 0.6190718412399292, 0.32391735911369324, 0.05701028183102608, 0.11842066049575806, 0.8814519047737122, 0.9998987913131714, 0.9999455213546753, 0.127987802028656, 0.0003468504291959107, 0.8712882399559021, 0.9997298121452332, 0.2627948522567749, 0.7370836734771729, 0.2613990008831024, 0.7385566830635071, 0.9999196529388428, 0.5555223226547241, 0.444444477558136, 0.48508480191230774, 0.5108040571212769, 0.004093044437468052, 0.9883262515068054, 0.0024793162010610104, 0.009208888746798038], \"Term\": [\"accuse\", \"accuse\", \"actor\", \"administration\", \"administration\", \"allegedly\", \"also\", \"american\", \"announce\", \"announce\", \"arrest\", \"attorney_general\", \"auburn\", \"authority\", \"award\", \"basketball\", \"beat\", \"border\", \"border\", \"boy\", \"campaign\", \"candidate\", \"car\", \"case\", \"championship\", \"charge\", \"charge\", \"chicago\", \"chicago\", \"chief\", \"child\", \"child\", \"city\", \"city\", \"city\", \"coach\", \"come\", \"company\", \"congress\", \"contract\", \"could\", \"could\", \"county\", \"coverage\", \"crash\", \"dead\", \"death\", \"democrat\", \"democratic\", \"department\", \"die\", \"die\", \"do\", \"donald\", \"election\", \"even\", \"family\", \"family\", \"fan\", \"federal\", \"film\", \"final\", \"final\", \"find\", \"find\", \"fire\", \"fire\", \"fire\", \"first\", \"first\", \"first\", \"first\", \"florida\", \"florida\", \"former\", \"former\", \"friday\", \"friday\", \"game\", \"georgia\", \"georgia\", \"get\", \"girl\", \"go\", \"good\", \"government\", \"help\", \"hit\", \"hit\", \"home\", \"home\", \"home\", \"house\", \"indiana\", \"indiana\", \"injure\", \"injury\", \"injury\", \"inmate\", \"investigation\", \"island\", \"jail\", \"judge\", \"judge\", \"jury\", \"kentucky\", \"kill\", \"know\", \"last\", \"last\", \"lawmaker\", \"leader\", \"link\", \"long\", \"make\", \"make\", \"man\", \"man\", \"many\", \"may\", \"may\", \"migrant\", \"monday\", \"monday\", \"month\", \"month\", \"movie\", \"mueller\", \"murder\", \"music\", \"nan\", \"nba\", \"new\", \"new\", \"new\", \"news\", \"news\", \"night\", \"night\", \"north\", \"northern\", \"not\", \"office\", \"officer\", \"official\", \"official\", \"official\", \"ohio\", \"old\", \"old\", \"oregon\", \"owner\", \"party\", \"people\", \"play\", \"play\", \"player\", \"pleaded_guilty\", \"point\", \"police\", \"president\", \"presidential\", \"prison\", \"public\", \"report\", \"report\", \"republican\", \"rescue\", \"return\", \"return\", \"reuter\", \"right\", \"robert_mueller\", \"russia\", \"saturday\", \"saturday\", \"say\", \"say\", \"say\", \"score\", \"score\", \"season\", \"second\", \"secretary\", \"see\", \"senate\", \"senator\", \"sentence\", \"series\", \"shoot\", \"show\", \"show\", \"show\", \"sign\", \"sign\", \"sign\", \"song\", \"south\", \"south_carolina\", \"south_carolina\", \"special_counsel\", \"star\", \"state\", \"state\", \"steal\", \"story\", \"student\", \"sunday\", \"sunday\", \"suspect\", \"suspect\", \"take\", \"take\", \"take\", \"team\", \"team\", \"tech\", \"tennessee\", \"texas\", \"texas\", \"texas\", \"think\", \"third\", \"thursday\", \"thursday\", \"time\", \"trial\", \"trial\", \"trump\", \"tuesday\", \"tuesday\", \"vehicle\", \"virginia\", \"virginia\", \"vote\", \"want\", \"want\", \"washington\", \"way\", \"wednesday\", \"wednesday\", \"week\", \"week\", \"week\", \"weekend\", \"weekend\", \"well\", \"white\", \"wife\", \"wife\", \"wife\", \"william_barr\", \"win\", \"win\", \"woman\", \"woman\", \"work\", \"would\", \"would\", \"year\", \"year\", \"year\", \"york\", \"york\", \"york\"]}, \"R\": 30, \"lambda.step\": 0.01, \"plot.opts\": {\"xlab\": \"PC1\", \"ylab\": \"PC2\"}, \"topic.order\": [1, 3, 2, 4]};\n",
       "\n",
       "function LDAvis_load_lib(url, callback){\n",
       "  var s = document.createElement('script');\n",
       "  s.src = url;\n",
       "  s.async = true;\n",
       "  s.onreadystatechange = s.onload = callback;\n",
       "  s.onerror = function(){console.warn(\"failed to load library \" + url);};\n",
       "  document.getElementsByTagName(\"head\")[0].appendChild(s);\n",
       "}\n",
       "\n",
       "if(typeof(LDAvis) !== \"undefined\"){\n",
       "   // already loaded: just create the visualization\n",
       "   !function(LDAvis){\n",
       "       new LDAvis(\"#\" + \"ldavis_el58474112363542352563166673\", ldavis_el58474112363542352563166673_data);\n",
       "   }(LDAvis);\n",
       "}else if(typeof define === \"function\" && define.amd){\n",
       "   // require.js is available: use it to load d3/LDAvis\n",
       "   require.config({paths: {d3: \"https://cdnjs.cloudflare.com/ajax/libs/d3/3.5.5/d3.min\"}});\n",
       "   require([\"d3\"], function(d3){\n",
       "      window.d3 = d3;\n",
       "      LDAvis_load_lib(\"https://cdn.rawgit.com/bmabey/pyLDAvis/files/ldavis.v1.0.0.js\", function(){\n",
       "        new LDAvis(\"#\" + \"ldavis_el58474112363542352563166673\", ldavis_el58474112363542352563166673_data);\n",
       "      });\n",
       "    });\n",
       "}else{\n",
       "    // require.js not available: dynamically load d3 & LDAvis\n",
       "    LDAvis_load_lib(\"https://cdnjs.cloudflare.com/ajax/libs/d3/3.5.5/d3.min.js\", function(){\n",
       "         LDAvis_load_lib(\"https://cdn.rawgit.com/bmabey/pyLDAvis/files/ldavis.v1.0.0.js\", function(){\n",
       "                 new LDAvis(\"#\" + \"ldavis_el58474112363542352563166673\", ldavis_el58474112363542352563166673_data);\n",
       "            })\n",
       "         });\n",
       "}\n",
       "</script>"
      ],
      "text/plain": [
       "PreparedData(topic_coordinates=              x         y  topics  cluster       Freq\n",
       "topic                                                \n",
       "0     -0.142290  0.082430       1        1  46.526085\n",
       "2     -0.107714  0.249206       2        1  22.000742\n",
       "1     -0.126789 -0.324734       3        1  15.951638\n",
       "3      0.376793 -0.006902       4        1  15.521538, topic_info=      Category           Freq            Term          Total  loglift  logprob\n",
       "82     Default  388565.000000             nan  388565.000000  30.0000  30.0000\n",
       "2608   Default   58349.000000           trump   58349.000000  29.0000  29.0000\n",
       "70     Default   53191.000000       president   53191.000000  28.0000  28.0000\n",
       "149    Default   31944.000000             man   31944.000000  27.0000  27.0000\n",
       "352    Default   50817.000000            year   50817.000000  26.0000  26.0000\n",
       "2496   Default   25346.000000          police   25346.000000  25.0000  25.0000\n",
       "369    Default   20907.000000          charge   20907.000000  24.0000  24.0000\n",
       "5214   Default   24979.000000          donald   24979.000000  23.0000  23.0000\n",
       "145    Default   19790.000000            kill   19790.000000  22.0000  22.0000\n",
       "105    Default   23439.000000           house   23439.000000  21.0000  21.0000\n",
       "263    Default   22875.000000          reuter   22875.000000  20.0000  20.0000\n",
       "121    Default   71540.000000             say   71540.000000  19.0000  19.0000\n",
       "133    Default   16834.000000       authority   16834.000000  18.0000  18.0000\n",
       "68     Default   16512.000000             old   16512.000000  17.0000  17.0000\n",
       "40     Default   19127.000000           woman   19127.000000  16.0000  16.0000\n",
       "1724   Default   16554.000000      democratic   16554.000000  15.0000  15.0000\n",
       "65     Default   55407.000000             new   55407.000000  14.0000  14.0000\n",
       "209    Default   16089.000000        democrat   16089.000000  13.0000  13.0000\n",
       "713    Default   21861.000000          former   21861.000000  12.0000  12.0000\n",
       "2377   Default   12239.000000          arrest   12239.000000  11.0000  11.0000\n",
       "122    Default   12200.000000          second   12200.000000  10.0000  10.0000\n",
       "13     Default   13745.000000        election   13745.000000   9.0000   9.0000\n",
       "140    Default   11206.000000           death   11206.000000   8.0000   8.0000\n",
       "5      Default   13105.000000        campaign   13105.000000   7.0000   7.0000\n",
       "665    Default   10755.000000           story   10755.000000   6.0000   6.0000\n",
       "731    Default   12997.000000           white   12997.000000   5.0000   5.0000\n",
       "153    Default   10560.000000         officer   10560.000000   4.0000   4.0000\n",
       "1239   Default   13980.000000             die   13980.000000   3.0000   3.0000\n",
       "2443   Default   12729.000000    presidential   12729.000000   2.0000   2.0000\n",
       "39     Default   12416.000000      washington   12416.000000   1.0000   1.0000\n",
       "...        ...            ...             ...            ...      ...      ...\n",
       "864     Topic4    1878.743774          island    1879.724487   1.8624  -6.5088\n",
       "3804    Topic4    1860.006958       tennessee    1861.003906   1.8624  -6.5188\n",
       "3637    Topic4    1769.832642        kentucky    1770.789673   1.8624  -6.5685\n",
       "1871    Topic4    1715.369751          rescue    1716.301514   1.8624  -6.5997\n",
       "2369    Topic4    2095.772217  south_carolina    2097.147217   1.8623  -6.3994\n",
       "2190    Topic4    2004.528564            ohio    2005.657227   1.8624  -6.4440\n",
       "5365    Topic4    1927.702881          injury    1928.943481   1.8623  -6.4830\n",
       "10864   Topic4    1845.180786         indiana    1846.338745   1.8623  -6.5268\n",
       "674     Topic4    7656.491699            team    8276.139648   1.7851  -5.1038\n",
       "3042    Topic4    4948.970703           final    5485.201172   1.7601  -5.5402\n",
       "1767    Topic4    2573.234863           score    2665.084717   1.8279  -6.1942\n",
       "630     Topic4    4480.756836            play    5462.165039   1.6649  -5.6396\n",
       "43      Topic4    6688.095215        announce    9707.962891   1.4903  -5.2390\n",
       "1779    Topic4    5272.739746             win    7153.869141   1.5578  -5.4768\n",
       "37      Topic4    3705.114746        virginia    4595.849609   1.6475  -5.8296\n",
       "1324    Topic4    4877.336426            home    8297.139648   1.3316  -5.5548\n",
       "4286    Topic4    2512.390625            wife    2883.087158   1.7253  -6.2181\n",
       "1944    Topic4    3237.456299           night    4645.046875   1.5019  -5.9646\n",
       "71      Topic4    3347.451416        saturday    5030.503906   1.4556  -5.9312\n",
       "4584    Topic4    2366.736816         weekend    2685.342285   1.7366  -6.2779\n",
       "1321    Topic4    3082.142578             hit    5537.213867   1.2771  -6.0137\n",
       "56      Topic4    4985.447266           first   23158.658203   0.3271  -5.5328\n",
       "268     Topic4    2928.872559          sunday    5977.616211   1.1495  -6.0647\n",
       "265     Topic4    2960.084229            sign    7085.572266   0.9901  -6.0541\n",
       "158     Topic4    2573.409668          return    4665.344727   1.2680  -6.1941\n",
       "65      Topic4    3963.177734             new   55407.257812  -0.7747  -5.7623\n",
       "714     Topic4    3051.452881          friday   12343.181641   0.4655  -6.0237\n",
       "823     Topic4    3229.959229        thursday   17699.171875   0.1619  -5.9669\n",
       "713     Topic4    2982.014404          former   21861.289062  -0.1292  -6.0468\n",
       "127     Topic4    2764.315186       wednesday   12772.956055   0.3324  -6.1226\n",
       "\n",
       "[227 rows x 6 columns], token_table=       Topic      Freq              Term\n",
       "term                                    \n",
       "83         2  0.172701            accuse\n",
       "83         3  0.827245            accuse\n",
       "930        4  0.999695             actor\n",
       "358        1  0.022037    administration\n",
       "358        2  0.977907    administration\n",
       "2559       3  0.999896         allegedly\n",
       "276        1  0.999951              also\n",
       "447        1  0.999957          american\n",
       "43         2  0.310982          announce\n",
       "43         4  0.688919          announce\n",
       "2377       3  0.999918            arrest\n",
       "3184       2  0.999927  attorney_general\n",
       "5299       4  0.999567            auburn\n",
       "133        3  0.999925         authority\n",
       "4749       4  0.999633             award\n",
       "8695       4  0.999496        basketball\n",
       "3135       4  0.999726              beat\n",
       "2384       2  0.977400            border\n",
       "2384       3  0.022556            border\n",
       "2765       3  0.999936               boy\n",
       "5          2  0.999952          campaign\n",
       "1714       2  0.999942         candidate\n",
       "1166       3  0.999904               car\n",
       "366        1  0.999905              case\n",
       "12449      4  0.999281      championship\n",
       "369        1  0.000813            charge\n",
       "369        3  0.999179            charge\n",
       "2817       3  0.990541           chicago\n",
       "2817       4  0.009383           chicago\n",
       "2387       2  0.999745             chief\n",
       "...      ...       ...               ...\n",
       "350        1  0.920525              want\n",
       "350        2  0.079466              want\n",
       "39         2  0.999936        washington\n",
       "681        1  0.999945               way\n",
       "127        2  0.783530         wednesday\n",
       "127        4  0.216395         wednesday\n",
       "498        1  0.619072              week\n",
       "498        2  0.323917              week\n",
       "498        4  0.057010              week\n",
       "4584       2  0.118421           weekend\n",
       "4584       4  0.881452           weekend\n",
       "444        1  0.999899              well\n",
       "731        2  0.999946             white\n",
       "4286       1  0.127988              wife\n",
       "4286       3  0.000347              wife\n",
       "4286       4  0.871288              wife\n",
       "66874      2  0.999730      william_barr\n",
       "1779       2  0.262795               win\n",
       "1779       4  0.737084               win\n",
       "40         1  0.261399             woman\n",
       "40         3  0.738557             woman\n",
       "1617       1  0.999920              work\n",
       "684        1  0.555522             would\n",
       "684        2  0.444444             would\n",
       "352        1  0.485085              year\n",
       "352        3  0.510804              year\n",
       "352        4  0.004093              year\n",
       "81         1  0.988326              york\n",
       "81         2  0.002479              york\n",
       "81         4  0.009209              york\n",
       "\n",
       "[265 rows x 3 columns], R=30, lambda_step=0.01, plot_opts={'xlab': 'PC1', 'ylab': 'PC2'}, topic_order=[1, 3, 2, 4])"
      ]
     },
     "execution_count": 61,
     "metadata": {},
     "output_type": "execute_result"
    }
   ],
   "source": [
    "# Visualize the topics\n",
    "pyLDAvis.enable_notebook()\n",
    "vis = pyLDAvis.gensim.prepare(lda_model, corpus, id2word)\n",
    "vis"
   ]
  },
  {
   "cell_type": "code",
   "execution_count": 62,
   "metadata": {},
   "outputs": [],
   "source": [
    "para_topics = [lda_model[x] for x in corpus]"
   ]
  },
  {
   "cell_type": "code",
   "execution_count": 63,
   "metadata": {},
   "outputs": [],
   "source": [
    "para_topics = np.array(para_topics)"
   ]
  },
  {
   "cell_type": "code",
   "execution_count": 70,
   "metadata": {},
   "outputs": [],
   "source": [
    "topic_df = pd.DataFrame(para_topics)"
   ]
  },
  {
   "cell_type": "code",
   "execution_count": 72,
   "metadata": {},
   "outputs": [
    {
     "data": {
      "text/html": [
       "<div>\n",
       "<style scoped>\n",
       "    .dataframe tbody tr th:only-of-type {\n",
       "        vertical-align: middle;\n",
       "    }\n",
       "\n",
       "    .dataframe tbody tr th {\n",
       "        vertical-align: top;\n",
       "    }\n",
       "\n",
       "    .dataframe thead th {\n",
       "        text-align: right;\n",
       "    }\n",
       "</style>\n",
       "<table border=\"1\" class=\"dataframe\">\n",
       "  <thead>\n",
       "    <tr style=\"text-align: right;\">\n",
       "      <th></th>\n",
       "      <th>0</th>\n",
       "      <th>1</th>\n",
       "      <th>2</th>\n",
       "    </tr>\n",
       "  </thead>\n",
       "  <tbody>\n",
       "    <tr>\n",
       "      <th>0</th>\n",
       "      <td>[(0, 0.34463984), (1, 0.08631404), (2, 0.50630...</td>\n",
       "      <td>[(0, [0]), (1, [0, 2]), (2, [0]), (3, [0, 3]),...</td>\n",
       "      <td>[(0, [(0, 0.9997804)]), (1, [(0, 0.8942551), (...</td>\n",
       "    </tr>\n",
       "    <tr>\n",
       "      <th>1</th>\n",
       "      <td>[(0, 0.3381671), (1, 0.05498609), (2, 0.5869),...</td>\n",
       "      <td>[(33, [2, 0, 3]), (42, [2, 3]), (43, [2, 3]), ...</td>\n",
       "      <td>[(33, [(0, 0.40202126), (2, 1.5707555), (3, 0....</td>\n",
       "    </tr>\n",
       "    <tr>\n",
       "      <th>2</th>\n",
       "      <td>[(0, 0.24028614), (1, 0.093497135), (2, 0.1184...</td>\n",
       "      <td>[(82, [3])]</td>\n",
       "      <td>[(82, [(3, 1.0)])]</td>\n",
       "    </tr>\n",
       "    <tr>\n",
       "      <th>3</th>\n",
       "      <td>[(0, 0.24028614), (1, 0.093497135), (2, 0.1184...</td>\n",
       "      <td>[(82, [3])]</td>\n",
       "      <td>[(82, [(3, 1.0)])]</td>\n",
       "    </tr>\n",
       "    <tr>\n",
       "      <th>4</th>\n",
       "      <td>[(0, 0.3756923), (1, 0.06528475), (2, 0.520028...</td>\n",
       "      <td>[(28, [2, 0]), (30, [0, 2]), (39, [2]), (66, [...</td>\n",
       "      <td>[(28, [(0, 0.054247666), (2, 0.9457506)]), (30...</td>\n",
       "    </tr>\n",
       "  </tbody>\n",
       "</table>\n",
       "</div>"
      ],
      "text/plain": [
       "                                                   0  \\\n",
       "0  [(0, 0.34463984), (1, 0.08631404), (2, 0.50630...   \n",
       "1  [(0, 0.3381671), (1, 0.05498609), (2, 0.5869),...   \n",
       "2  [(0, 0.24028614), (1, 0.093497135), (2, 0.1184...   \n",
       "3  [(0, 0.24028614), (1, 0.093497135), (2, 0.1184...   \n",
       "4  [(0, 0.3756923), (1, 0.06528475), (2, 0.520028...   \n",
       "\n",
       "                                                   1  \\\n",
       "0  [(0, [0]), (1, [0, 2]), (2, [0]), (3, [0, 3]),...   \n",
       "1  [(33, [2, 0, 3]), (42, [2, 3]), (43, [2, 3]), ...   \n",
       "2                                        [(82, [3])]   \n",
       "3                                        [(82, [3])]   \n",
       "4  [(28, [2, 0]), (30, [0, 2]), (39, [2]), (66, [...   \n",
       "\n",
       "                                                   2  \n",
       "0  [(0, [(0, 0.9997804)]), (1, [(0, 0.8942551), (...  \n",
       "1  [(33, [(0, 0.40202126), (2, 1.5707555), (3, 0....  \n",
       "2                                 [(82, [(3, 1.0)])]  \n",
       "3                                 [(82, [(3, 1.0)])]  \n",
       "4  [(28, [(0, 0.054247666), (2, 0.9457506)]), (30...  "
      ]
     },
     "execution_count": 72,
     "metadata": {},
     "output_type": "execute_result"
    }
   ],
   "source": [
    "topic_df.head()"
   ]
  },
  {
   "cell_type": "code",
   "execution_count": 79,
   "metadata": {},
   "outputs": [],
   "source": [
    "df[\"topic0\"] = 0\n",
    "df[\"topic1\"] = 0\n",
    "df[\"topic2\"] = 0\n",
    "df[\"topic3\"] = 0\n",
    "printcounter = 0\n",
    "for index,row in df.iterrows():\n",
    "    if (printcounter == 1000000):\n",
    "        print(printcounter)\n",
    "        printcounter = 0\n",
    "    try:\n",
    "        mod_output = lda_model[corpus[index]][0]\n",
    "    except IndexError:\n",
    "        break\n",
    "    for (topic,prob) in mod_output:\n",
    "        df.loc[index,'topic' + str(topic)] = prob\n",
    "    printcounter += 1\n",
    "df.to_csv(\"/Users/user/Documents/github/Text-Analysis---Ontolligent-Corpus/data/corpus_topics.csv\")"
   ]
  },
  {
   "cell_type": "code",
   "execution_count": 65,
   "metadata": {
    "scrolled": true
   },
   "outputs": [],
   "source": [
    "df[\"topic0\"] = 0\n",
    "df[\"topic1\"] = 0\n",
    "df[\"topic2\"] = 0\n",
    "df[\"topic3\"] = 0\n",
    "for index,row in df.iterrows():\n",
    "#     print(index)\n",
    "#     print(row)\n",
    "    try:\n",
    "        mod_output = lda_model[corpus[index]][0]\n",
    "    except IndexError:\n",
    "#         print(mod_output)\n",
    "#         print(index)\n",
    "        break\n",
    "    for (topic,prob) in mod_output:\n",
    "#         print(topic)\n",
    "#         print(prob)\n",
    "        df.loc[index,'topic' + str(topic)] = prob"
   ]
  },
  {
   "cell_type": "code",
   "execution_count": 66,
   "metadata": {},
   "outputs": [
    {
     "data": {
      "text/html": [
       "<div>\n",
       "<style scoped>\n",
       "    .dataframe tbody tr th:only-of-type {\n",
       "        vertical-align: middle;\n",
       "    }\n",
       "\n",
       "    .dataframe tbody tr th {\n",
       "        vertical-align: top;\n",
       "    }\n",
       "\n",
       "    .dataframe thead th {\n",
       "        text-align: right;\n",
       "    }\n",
       "</style>\n",
       "<table border=\"1\" class=\"dataframe\">\n",
       "  <thead>\n",
       "    <tr style=\"text-align: right;\">\n",
       "      <th></th>\n",
       "      <th>doc_id</th>\n",
       "      <th>doc_source</th>\n",
       "      <th>doc_title</th>\n",
       "      <th>doc_content</th>\n",
       "      <th>doc_date</th>\n",
       "      <th>doc_url</th>\n",
       "      <th>label</th>\n",
       "      <th>label_final</th>\n",
       "      <th>topic0</th>\n",
       "      <th>topic1</th>\n",
       "      <th>topic2</th>\n",
       "      <th>topic3</th>\n",
       "    </tr>\n",
       "  </thead>\n",
       "  <tbody>\n",
       "    <tr>\n",
       "      <th>2</th>\n",
       "      <td>37.0</td>\n",
       "      <td>Google News</td>\n",
       "      <td>Cuccinelli, running hard, has been hobbled in ...</td>\n",
       "      <td>Washington PostCuccinelli, running hard, has b...</td>\n",
       "      <td>11/03/2013</td>\n",
       "      <td>http://news.google.com/news/url?sa=t&amp;fd=R&amp;usg=...</td>\n",
       "      <td>left</td>\n",
       "      <td>left</td>\n",
       "      <td>0.240286</td>\n",
       "      <td>0.093497</td>\n",
       "      <td>0.118454</td>\n",
       "      <td>0.547763</td>\n",
       "    </tr>\n",
       "    <tr>\n",
       "      <th>3</th>\n",
       "      <td>36.0</td>\n",
       "      <td>Google News</td>\n",
       "      <td>Chuck Schumer endorses Hillary Clinton for Pre...</td>\n",
       "      <td>New York Daily NewsChuck Schumer endorses Hill...</td>\n",
       "      <td>11/03/2013</td>\n",
       "      <td>http://news.google.com/news/url?sa=t&amp;fd=R&amp;usg=...</td>\n",
       "      <td>left</td>\n",
       "      <td>left</td>\n",
       "      <td>0.240286</td>\n",
       "      <td>0.093497</td>\n",
       "      <td>0.118454</td>\n",
       "      <td>0.547763</td>\n",
       "    </tr>\n",
       "    <tr>\n",
       "      <th>4</th>\n",
       "      <td>NaN</td>\n",
       "      <td>NaN</td>\n",
       "      <td>NaN</td>\n",
       "      <td>NaN</td>\n",
       "      <td>NaN</td>\n",
       "      <td>NaN</td>\n",
       "      <td>NaN</td>\n",
       "      <td>NaN</td>\n",
       "      <td>0.375696</td>\n",
       "      <td>0.065267</td>\n",
       "      <td>0.520043</td>\n",
       "      <td>0.038995</td>\n",
       "    </tr>\n",
       "    <tr>\n",
       "      <th>5</th>\n",
       "      <td>NaN</td>\n",
       "      <td>NaN</td>\n",
       "      <td>NaN</td>\n",
       "      <td>NaN</td>\n",
       "      <td>NaN</td>\n",
       "      <td>NaN</td>\n",
       "      <td>NaN</td>\n",
       "      <td>NaN</td>\n",
       "      <td>0.260153</td>\n",
       "      <td>0.590841</td>\n",
       "      <td>0.058296</td>\n",
       "      <td>0.090710</td>\n",
       "    </tr>\n",
       "    <tr>\n",
       "      <th>6</th>\n",
       "      <td>33.0</td>\n",
       "      <td>Google News</td>\n",
       "      <td>ObamaCare architect defends plan, says preside...</td>\n",
       "      <td>Washington PostObamaCare architect defends pla...</td>\n",
       "      <td>11/03/2013</td>\n",
       "      <td>http://news.google.com/news/url?sa=t&amp;fd=R&amp;usg=...</td>\n",
       "      <td>left</td>\n",
       "      <td>left</td>\n",
       "      <td>0.240286</td>\n",
       "      <td>0.093497</td>\n",
       "      <td>0.118454</td>\n",
       "      <td>0.547763</td>\n",
       "    </tr>\n",
       "  </tbody>\n",
       "</table>\n",
       "</div>"
      ],
      "text/plain": [
       "   doc_id   doc_source                                          doc_title  \\\n",
       "2    37.0  Google News  Cuccinelli, running hard, has been hobbled in ...   \n",
       "3    36.0  Google News  Chuck Schumer endorses Hillary Clinton for Pre...   \n",
       "4     NaN          NaN                                                NaN   \n",
       "5     NaN          NaN                                                NaN   \n",
       "6    33.0  Google News  ObamaCare architect defends plan, says preside...   \n",
       "\n",
       "                                         doc_content    doc_date  \\\n",
       "2  Washington PostCuccinelli, running hard, has b...  11/03/2013   \n",
       "3  New York Daily NewsChuck Schumer endorses Hill...  11/03/2013   \n",
       "4                                                NaN         NaN   \n",
       "5                                                NaN         NaN   \n",
       "6  Washington PostObamaCare architect defends pla...  11/03/2013   \n",
       "\n",
       "                                             doc_url label label_final  \\\n",
       "2  http://news.google.com/news/url?sa=t&fd=R&usg=...  left        left   \n",
       "3  http://news.google.com/news/url?sa=t&fd=R&usg=...  left        left   \n",
       "4                                                NaN   NaN         NaN   \n",
       "5                                                NaN   NaN         NaN   \n",
       "6  http://news.google.com/news/url?sa=t&fd=R&usg=...  left        left   \n",
       "\n",
       "     topic0    topic1    topic2    topic3  \n",
       "2  0.240286  0.093497  0.118454  0.547763  \n",
       "3  0.240286  0.093497  0.118454  0.547763  \n",
       "4  0.375696  0.065267  0.520043  0.038995  \n",
       "5  0.260153  0.590841  0.058296  0.090710  \n",
       "6  0.240286  0.093497  0.118454  0.547763  "
      ]
     },
     "execution_count": 66,
     "metadata": {},
     "output_type": "execute_result"
    }
   ],
   "source": [
    "df.head()"
   ]
  },
  {
   "cell_type": "code",
   "execution_count": 68,
   "metadata": {},
   "outputs": [
    {
     "data": {
      "text/html": [
       "<div>\n",
       "<style scoped>\n",
       "    .dataframe tbody tr th:only-of-type {\n",
       "        vertical-align: middle;\n",
       "    }\n",
       "\n",
       "    .dataframe tbody tr th {\n",
       "        vertical-align: top;\n",
       "    }\n",
       "\n",
       "    .dataframe thead th {\n",
       "        text-align: right;\n",
       "    }\n",
       "</style>\n",
       "<table border=\"1\" class=\"dataframe\">\n",
       "  <thead>\n",
       "    <tr style=\"text-align: right;\">\n",
       "      <th></th>\n",
       "      <th>doc_id</th>\n",
       "      <th>topic0</th>\n",
       "      <th>topic1</th>\n",
       "      <th>topic2</th>\n",
       "      <th>topic3</th>\n",
       "    </tr>\n",
       "    <tr>\n",
       "      <th>label_final</th>\n",
       "      <th></th>\n",
       "      <th></th>\n",
       "      <th></th>\n",
       "      <th></th>\n",
       "      <th></th>\n",
       "    </tr>\n",
       "  </thead>\n",
       "  <tbody>\n",
       "    <tr>\n",
       "      <th>center</th>\n",
       "      <td>369471.296575</td>\n",
       "      <td>0.382938</td>\n",
       "      <td>0.112885</td>\n",
       "      <td>0.174311</td>\n",
       "      <td>0.329816</td>\n",
       "    </tr>\n",
       "    <tr>\n",
       "      <th>left</th>\n",
       "      <td>388048.268295</td>\n",
       "      <td>0.295698</td>\n",
       "      <td>0.121843</td>\n",
       "      <td>0.150407</td>\n",
       "      <td>0.432003</td>\n",
       "    </tr>\n",
       "    <tr>\n",
       "      <th>right</th>\n",
       "      <td>393270.381901</td>\n",
       "      <td>0.347730</td>\n",
       "      <td>0.290793</td>\n",
       "      <td>0.175834</td>\n",
       "      <td>0.185477</td>\n",
       "    </tr>\n",
       "  </tbody>\n",
       "</table>\n",
       "</div>"
      ],
      "text/plain": [
       "                    doc_id    topic0    topic1    topic2    topic3\n",
       "label_final                                                       \n",
       "center       369471.296575  0.382938  0.112885  0.174311  0.329816\n",
       "left         388048.268295  0.295698  0.121843  0.150407  0.432003\n",
       "right        393270.381901  0.347730  0.290793  0.175834  0.185477"
      ]
     },
     "execution_count": 68,
     "metadata": {},
     "output_type": "execute_result"
    }
   ],
   "source": [
    "df.groupby([\"label_final\"]).mean()"
   ]
  },
  {
   "cell_type": "code",
   "execution_count": 71,
   "metadata": {},
   "outputs": [
    {
     "data": {
      "text/html": [
       "<div>\n",
       "<style scoped>\n",
       "    .dataframe tbody tr th:only-of-type {\n",
       "        vertical-align: middle;\n",
       "    }\n",
       "\n",
       "    .dataframe tbody tr th {\n",
       "        vertical-align: top;\n",
       "    }\n",
       "\n",
       "    .dataframe thead th {\n",
       "        text-align: right;\n",
       "    }\n",
       "</style>\n",
       "<table border=\"1\" class=\"dataframe\">\n",
       "  <thead>\n",
       "    <tr style=\"text-align: right;\">\n",
       "      <th></th>\n",
       "      <th>0</th>\n",
       "      <th>1</th>\n",
       "      <th>2</th>\n",
       "    </tr>\n",
       "  </thead>\n",
       "  <tbody>\n",
       "    <tr>\n",
       "      <th>0</th>\n",
       "      <td>[(0, 0.34463984), (1, 0.08631404), (2, 0.50630...</td>\n",
       "      <td>[(0, [0]), (1, [0, 2]), (2, [0]), (3, [0, 3]),...</td>\n",
       "      <td>[(0, [(0, 0.9997804)]), (1, [(0, 0.8942551), (...</td>\n",
       "    </tr>\n",
       "    <tr>\n",
       "      <th>1</th>\n",
       "      <td>[(0, 0.3381671), (1, 0.05498609), (2, 0.5869),...</td>\n",
       "      <td>[(33, [2, 0, 3]), (42, [2, 3]), (43, [2, 3]), ...</td>\n",
       "      <td>[(33, [(0, 0.40202126), (2, 1.5707555), (3, 0....</td>\n",
       "    </tr>\n",
       "    <tr>\n",
       "      <th>2</th>\n",
       "      <td>[(0, 0.24028614), (1, 0.093497135), (2, 0.1184...</td>\n",
       "      <td>[(82, [3])]</td>\n",
       "      <td>[(82, [(3, 1.0)])]</td>\n",
       "    </tr>\n",
       "    <tr>\n",
       "      <th>3</th>\n",
       "      <td>[(0, 0.24028614), (1, 0.093497135), (2, 0.1184...</td>\n",
       "      <td>[(82, [3])]</td>\n",
       "      <td>[(82, [(3, 1.0)])]</td>\n",
       "    </tr>\n",
       "    <tr>\n",
       "      <th>4</th>\n",
       "      <td>[(0, 0.3756923), (1, 0.06528475), (2, 0.520028...</td>\n",
       "      <td>[(28, [2, 0]), (30, [0, 2]), (39, [2]), (66, [...</td>\n",
       "      <td>[(28, [(0, 0.054247666), (2, 0.9457506)]), (30...</td>\n",
       "    </tr>\n",
       "  </tbody>\n",
       "</table>\n",
       "</div>"
      ],
      "text/plain": [
       "                                                   0  \\\n",
       "0  [(0, 0.34463984), (1, 0.08631404), (2, 0.50630...   \n",
       "1  [(0, 0.3381671), (1, 0.05498609), (2, 0.5869),...   \n",
       "2  [(0, 0.24028614), (1, 0.093497135), (2, 0.1184...   \n",
       "3  [(0, 0.24028614), (1, 0.093497135), (2, 0.1184...   \n",
       "4  [(0, 0.3756923), (1, 0.06528475), (2, 0.520028...   \n",
       "\n",
       "                                                   1  \\\n",
       "0  [(0, [0]), (1, [0, 2]), (2, [0]), (3, [0, 3]),...   \n",
       "1  [(33, [2, 0, 3]), (42, [2, 3]), (43, [2, 3]), ...   \n",
       "2                                        [(82, [3])]   \n",
       "3                                        [(82, [3])]   \n",
       "4  [(28, [2, 0]), (30, [0, 2]), (39, [2]), (66, [...   \n",
       "\n",
       "                                                   2  \n",
       "0  [(0, [(0, 0.9997804)]), (1, [(0, 0.8942551), (...  \n",
       "1  [(33, [(0, 0.40202126), (2, 1.5707555), (3, 0....  \n",
       "2                                 [(82, [(3, 1.0)])]  \n",
       "3                                 [(82, [(3, 1.0)])]  \n",
       "4  [(28, [(0, 0.054247666), (2, 0.9457506)]), (30...  "
      ]
     },
     "execution_count": 71,
     "metadata": {},
     "output_type": "execute_result"
    }
   ],
   "source": [
    "topic_df.head()"
   ]
  },
  {
   "cell_type": "code",
   "execution_count": null,
   "metadata": {},
   "outputs": [],
   "source": []
  }
 ],
 "metadata": {
  "kernelspec": {
   "display_name": "Python 3",
   "language": "python",
   "name": "python3"
  },
  "language_info": {
   "codemirror_mode": {
    "name": "ipython",
    "version": 3
   },
   "file_extension": ".py",
   "mimetype": "text/x-python",
   "name": "python",
   "nbconvert_exporter": "python",
   "pygments_lexer": "ipython3",
   "version": "3.6.8"
  }
 },
 "nbformat": 4,
 "nbformat_minor": 2
}
