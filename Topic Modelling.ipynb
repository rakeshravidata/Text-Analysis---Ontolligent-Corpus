{
 "cells": [
  {
   "cell_type": "code",
   "execution_count": 7,
   "metadata": {},
   "outputs": [],
   "source": [
    "#read data\n",
    "import pandas as pd\n",
    "import matplotlib.pyplot as plt\n",
    "import numpy as np\n",
    "%matplotlib inline\n",
    "df = pd.read_csv(\"/Users/rakeshravi/Documents/Spring/Text Analytics/Project/corpus.csv\", sep = \"|\")"
   ]
  },
  {
   "cell_type": "code",
   "execution_count": 8,
   "metadata": {
    "scrolled": false
   },
   "outputs": [
    {
     "data": {
      "text/plain": [
       "<matplotlib.axes._subplots.AxesSubplot at 0x1245dd278>"
      ]
     },
     "execution_count": 8,
     "metadata": {},
     "output_type": "execute_result"
    },
    {
     "data": {
      "image/png": "[encoded data removed]",
      "text/plain": [
       "<Figure size 432x288 with 1 Axes>"
      ]
     },
     "metadata": {
      "needs_background": "light"
     },
     "output_type": "display_data"
    }
   ],
   "source": [
    "#what is distribution for sources\n",
    "df.doc_source.value_counts(normalize = True).plot('bar')"
   ]
  },
  {
   "cell_type": "code",
   "execution_count": 9,
   "metadata": {},
   "outputs": [
    {
     "data": {
      "text/plain": [
       "(722410, 6)"
      ]
     },
     "execution_count": 9,
     "metadata": {},
     "output_type": "execute_result"
    }
   ],
   "source": [
    "#drop NaNs\n",
    "df = df.dropna()\n",
    "df.shape"
   ]
  },
  {
   "cell_type": "code",
   "execution_count": 10,
   "metadata": {},
   "outputs": [],
   "source": [
    "# assigning labels of left leaning (L) and right leaning (R)\n",
    "list_of_sources = ['US News', 'UPI Latest','Drudge Report','Fox',\n",
    "'Google News',\n",
    "'Real Clear Politics',\n",
    "'CNN',\n",
    "'NPR',\n",
    "'New York Times',\n",
    "'Reuters',\n",
    "'Daily Kos',\n",
    "'Guardian',\n",
    "'PowerLine',\n",
    "'Politico Magazine',\n",
    "'Breitbart']\n",
    "\n",
    "list_of_labels = ['left-center',\n",
    "'center',\n",
    "'right',\n",
    "'right',\n",
    "'left',\n",
    "'right-center',\n",
    "'left',\n",
    "'left-center',\n",
    "'left-center',\n",
    "'center',\n",
    "'left',\n",
    "'left-center',\n",
    "'right',\n",
    "'center',\n",
    "'right']\n",
    "\n",
    "dictionary = dict(zip(list_of_sources, list_of_labels))\n",
    "df['label']= df['doc_source'].map(dictionary)"
   ]
  },
  {
   "cell_type": "code",
   "execution_count": 11,
   "metadata": {},
   "outputs": [
    {
     "data": {
      "text/plain": [
       "<matplotlib.axes._subplots.AxesSubplot at 0x103238cf8>"
      ]
     },
     "execution_count": 11,
     "metadata": {},
     "output_type": "execute_result"
    },
    {
     "data": {
      "image/png": "[encoded data removed]",
      "text/plain": [
       "<Figure size 432x288 with 1 Axes>"
      ]
     },
     "metadata": {
      "needs_background": "light"
     },
     "output_type": "display_data"
    }
   ],
   "source": [
    "#distribution of different labels\n",
    "df.label.value_counts(normalize = True).plot('bar')"
   ]
  },
  {
   "cell_type": "code",
   "execution_count": 12,
   "metadata": {},
   "outputs": [],
   "source": [
    "#reindexing the dataframe to account for missing indices present in the dataframe\n",
    "df = df.reindex(np.arange(df.index.min(), df.index.max() + 1))"
   ]
  },
  {
   "cell_type": "code",
   "execution_count": 13,
   "metadata": {},
   "outputs": [
    {
     "name": "stderr",
     "output_type": "stream",
     "text": [
      "[nltk_data] Downloading package stopwords to\n",
      "[nltk_data]     /Users/rakeshravi/nltk_data...\n",
      "[nltk_data]   Package stopwords is already up-to-date!\n"
     ]
    }
   ],
   "source": [
    "#imporiting all libraries\n",
    "# Run in python console\n",
    "import nltk; nltk.download('stopwords')\n",
    "import re\n",
    "import numpy as np\n",
    "import pandas as pd\n",
    "from pprint import pprint\n",
    "\n",
    "# Gensim\n",
    "import gensim\n",
    "import gensim.corpora as corpora\n",
    "from gensim.utils import simple_preprocess\n",
    "from gensim.models import CoherenceModel\n",
    "\n",
    "# spacy for lemmatization\n",
    "import spacy\n",
    "\n",
    "# Plotting tools\n",
    "import pyLDAvis\n",
    "import pyLDAvis.gensim  # don't skip this\n",
    "import matplotlib.pyplot as plt\n",
    "%matplotlib inline\n",
    "\n",
    "# Enable logging for gensim - optional\n",
    "import logging\n",
    "logging.basicConfig(format='%(asctime)s : %(levelname)s : %(message)s', level=logging.ERROR)\n",
    "\n",
    "import warnings\n",
    "warnings.filterwarnings(\"ignore\",category=DeprecationWarning)\n",
    "# NLTK Stop words\n",
    "from nltk.corpus import stopwords\n",
    "stop_words = stopwords.words('english')\n",
    "stop_words.extend(['from', 'subject', 're', 'edu', 'use'])"
   ]
  },
  {
   "cell_type": "code",
   "execution_count": 14,
   "metadata": {},
   "outputs": [
    {
     "name": "stdout",
     "output_type": "stream",
     "text": [
      "('George W. Bush went home to Texas nearly six years ago, but the nation is '\n",
      " 'still working through the contentious national security legacy he left '\n",
      " 'behind.')\n"
     ]
    }
   ],
   "source": [
    "# Convert to list\n",
    "data = df.doc_content.values.tolist()\n",
    "\n",
    "# Remove Emails\n",
    "data = [re.sub('\\S*@\\S*\\s?', '', str(sent)) for sent in data]\n",
    "\n",
    "# Remove new line characters\n",
    "data = [re.sub('\\s+', ' ', sent) for sent in data]\n",
    "\n",
    "# Remove distracting single quotes\n",
    "data = [re.sub(\"\\'\", \"\", sent) for sent in data]\n",
    "\n",
    "pprint(data[1837][0:2000])"
   ]
  },
  {
   "cell_type": "code",
   "execution_count": 15,
   "metadata": {},
   "outputs": [
    {
     "name": "stdout",
     "output_type": "stream",
     "text": [
      "[['washington', 'post', 'years', 'on', 'finding', 'profit', 'in', 'truth', 'on', 'jfk', 'caseabc', 'newson', 'the', 'very', 'day', 'john', 'kennedy', 'died', 'cottage', 'industry', 'was', 'born', 'fifty', 'years', 'and', 'hundreds', 'of', 'millions', 'of', 'dollars', 'later', 'its', 'still', 'thriving', 'its', 'product', 'the', 'truth', 'about', 'the', 'presidents', 'assassination', 'by', 'the', 'evening', 'of', 'november', 'found', 'myself', 'being', 'years', 'after', 'jfk', 'dallas', 'sheds', 'shadow', 'of', 'com', 'years', 'later', 'tv', 're', 'examines', 'kennedy', 'assassination', 'theoriessalt', 'lake', 'tribune', 'decades', 'later', 'some', 'jfk', 'probe', 'files', 'still', 'sealedlex', 'lexington', 'ky', 'newsall', 'news', 'articles']]\n"
     ]
    }
   ],
   "source": [
    "def sent_to_words(sentences):\n",
    "    for sentence in sentences:\n",
    "        yield(gensim.utils.simple_preprocess(str(sentence), deacc=True))  # deacc=True removes punctuations\n",
    "\n",
    "data_words = list(sent_to_words(data))\n",
    "\n",
    "print(data_words[:1])"
   ]
  },
  {
   "cell_type": "code",
   "execution_count": 16,
   "metadata": {},
   "outputs": [
    {
     "name": "stdout",
     "output_type": "stream",
     "text": [
      "['washington', 'post', 'years', 'on', 'finding', 'profit', 'in', 'truth', 'on', 'jfk', 'caseabc', 'newson', 'the', 'very', 'day', 'john_kennedy', 'died', 'cottage_industry', 'was', 'born', 'fifty', 'years', 'and', 'hundreds', 'of', 'millions', 'of', 'dollars', 'later', 'its', 'still', 'thriving', 'its', 'product', 'the', 'truth', 'about', 'the', 'presidents', 'assassination', 'by', 'the', 'evening', 'of', 'november', 'found', 'myself', 'being', 'years', 'after', 'jfk', 'dallas', 'sheds', 'shadow', 'of', 'com', 'years', 'later', 'tv', 're', 'examines', 'kennedy_assassination', 'theoriessalt', 'lake', 'tribune', 'decades', 'later', 'some', 'jfk', 'probe', 'files', 'still', 'sealedlex', 'lexington_ky', 'newsall', 'news', 'articles']\n"
     ]
    }
   ],
   "source": [
    "# Build the bigram and trigram models\n",
    "bigram = gensim.models.Phrases(data_words, min_count=5, threshold=100) # higher threshold fewer phrases.\n",
    "trigram = gensim.models.Phrases(bigram[data_words], threshold=100)  \n",
    "\n",
    "# Faster way to get a sentence clubbed as a trigram/bigram\n",
    "bigram_mod = gensim.models.phrases.Phraser(bigram)\n",
    "trigram_mod = gensim.models.phrases.Phraser(trigram)\n",
    "\n",
    "# See trigram example\n",
    "print(trigram_mod[bigram_mod[data_words[0]]])"
   ]
  },
  {
   "cell_type": "code",
   "execution_count": 17,
   "metadata": {},
   "outputs": [],
   "source": [
    "# Define functions for stopwords, bigrams, trigrams and lemmatization\n",
    "def remove_stopwords(texts):\n",
    "    return [[word for word in simple_preprocess(str(doc)) if word not in stop_words] for doc in texts]\n",
    "\n",
    "def make_bigrams(texts):\n",
    "    return [bigram_mod[doc] for doc in texts]\n",
    "\n",
    "def make_trigrams(texts):\n",
    "    return [trigram_mod[bigram_mod[doc]] for doc in texts]\n",
    "\n",
    "def lemmatization(texts, allowed_postags=['NOUN', 'ADJ', 'VERB', 'ADV']):\n",
    "    \"\"\"https://spacy.io/api/annotation\"\"\"\n",
    "    texts_out = []\n",
    "    for sent in texts:\n",
    "        doc = nlp(\" \".join(sent)) \n",
    "        texts_out.append([token.lemma_ for token in doc if token.pos_ in allowed_postags])\n",
    "    return texts_out"
   ]
  },
  {
   "cell_type": "code",
   "execution_count": 18,
   "metadata": {},
   "outputs": [
    {
     "name": "stdout",
     "output_type": "stream",
     "text": [
      "[['washington', 'post', 'year', 'find', 'profit', 'truth', 'jfk', 'caseabc', 'newson', 'day', 'kennedy', 'die', 'cottage_industry', 'bear', 'year', 'hundred', 'million', 'dollar', 'later', 'still', 'thrive', 'product', 'truth', 'president', 'assassination', 'evening', 'november', 'find', 'year', 'jfk', 'dalla', 'shed', 'shadow', 'com', 'year', 'later', 'tv', 'examine', 'kennedy', 'assassination', 'theoriessalt', 'lake', 'tribune', 'decade', 'later', 'jfk', 'probe', 'file', 'still', 'sealedlex', 'lexington_ky', 'newsall', 'news', 'article']]\n"
     ]
    }
   ],
   "source": [
    "# Remove Stop Words\n",
    "data_words_nostops = remove_stopwords(data_words)\n",
    "\n",
    "# Form Bigrams\n",
    "data_words_bigrams = make_bigrams(data_words_nostops)\n",
    "\n",
    "# Initialize spacy 'en' model, keeping only tagger component (for efficiency)\n",
    "# python3 -m spacy download en\n",
    "nlp = spacy.load('en', disable=['parser', 'ner'])\n",
    "\n",
    "# Do lemmatization keeping only noun, adj, vb, adv\n",
    "data_lemmatized = lemmatization(data_words_bigrams, allowed_postags=['NOUN', 'ADJ', 'VERB', 'ADV'])\n",
    "\n",
    "print(data_lemmatized[:1])"
   ]
  },
  {
   "cell_type": "code",
   "execution_count": 19,
   "metadata": {},
   "outputs": [
    {
     "name": "stdout",
     "output_type": "stream",
     "text": [
      "[[(0, 1), (1, 2), (2, 1), (3, 1), (4, 1), (5, 1), (6, 1), (7, 1), (8, 1), (9, 1), (10, 1), (11, 1), (12, 1), (13, 1), (14, 2), (15, 1), (16, 3), (17, 2), (18, 1), (19, 3), (20, 1), (21, 1), (22, 1), (23, 1), (24, 1), (25, 1), (26, 1), (27, 1), (28, 1), (29, 1), (30, 1), (31, 1), (32, 1), (33, 1), (34, 2), (35, 1), (36, 1), (37, 1), (38, 2), (39, 1), (40, 1), (41, 4)]]\n"
     ]
    }
   ],
   "source": [
    "# Create Dictionary\n",
    "id2word = corpora.Dictionary(data_lemmatized)\n",
    "\n",
    "# Create Corpus\n",
    "texts = data_lemmatized\n",
    "\n",
    "# Term Document Frequency\n",
    "corpus = [id2word.doc2bow(text) for text in texts]\n",
    "\n",
    "# View\n",
    "print(corpus[:1])"
   ]
  },
  {
   "cell_type": "code",
   "execution_count": 21,
   "metadata": {},
   "outputs": [],
   "source": [
    "# Build LDA model\n",
    "lda_model = gensim.models.ldamodel.LdaModel(corpus=corpus,\n",
    "                                           id2word=id2word,\n",
    "                                           num_topics=4, \n",
    "                                           random_state=100,\n",
    "                                           update_every=1,\n",
    "                                           chunksize=100,\n",
    "                                           passes=10,\n",
    "                                           alpha='auto',\n",
    "                                           per_word_topics=True)\n",
    "lda_model.save('lda.model')"
   ]
  },
  {
   "cell_type": "code",
   "execution_count": 22,
   "metadata": {},
   "outputs": [
    {
     "name": "stdout",
     "output_type": "stream",
     "text": [
      "[(0,\n",
      "  '0.023*\"trump\" + 0.022*\"president\" + 0.014*\"say\" + 0.011*\"state\" + '\n",
      "  '0.011*\"house\" + 0.008*\"would\" + 0.006*\"former\" + 0.006*\"democratic\" + '\n",
      "  '0.006*\"washington\" + 0.006*\"donald\"'),\n",
      " (1,\n",
      "  '0.028*\"say\" + 0.017*\"year\" + 0.016*\"reuter\" + 0.013*\"man\" + 0.010*\"new\" + '\n",
      "  '0.010*\"police\" + 0.008*\"charge\" + 0.008*\"woman\" + 0.008*\"kill\" + '\n",
      "  '0.007*\"authority\"'),\n",
      " (2,\n",
      "  '0.023*\"news\" + 0.011*\"new\" + 0.010*\"coverage\" + 0.008*\"time\" + '\n",
      "  '0.007*\"first\" + 0.007*\"get\" + 0.007*\"make\" + 0.006*\"not\" + 0.006*\"go\" + '\n",
      "  '0.006*\"full_coverage\"'),\n",
      " (3,\n",
      "  '0.024*\"second\" + 0.017*\"health\" + 0.015*\"story\" + 0.013*\"tech\" + '\n",
      "  '0.012*\"coverage\" + 0.012*\"third\" + 0.011*\"price\" + 0.011*\"apple\" + '\n",
      "  '0.010*\"link\" + 0.009*\"sale\"')]\n"
     ]
    }
   ],
   "source": [
    "# Print the Keyword in the 10 topics\n",
    "pprint(lda_model.print_topics())\n",
    "doc_lda = lda_model[corpus]"
   ]
  },
  {
   "cell_type": "code",
   "execution_count": 23,
   "metadata": {},
   "outputs": [
    {
     "name": "stdout",
     "output_type": "stream",
     "text": [
      "\n",
      "Perplexity:  -8.78036026266503\n",
      "\n",
      "Coherence Score:  0.42940940376333075\n"
     ]
    }
   ],
   "source": [
    "# Compute Perplexity\n",
    "print('\\nPerplexity: ', lda_model.log_perplexity(corpus))  # a measure of how good the model is. lower the better.\n",
    "\n",
    "# Compute Coherence Score\n",
    "coherence_model_lda = CoherenceModel(model=lda_model, texts=data_lemmatized, dictionary=id2word, coherence='c_v')\n",
    "coherence_lda = coherence_model_lda.get_coherence()\n",
    "print('\\nCoherence Score: ', coherence_lda)"
   ]
  },
  {
   "cell_type": "code",
   "execution_count": 24,
   "metadata": {
    "scrolled": false
   },
   "outputs": [
    {
     "name": "stderr",
     "output_type": "stream",
     "text": [
      "/anaconda3/lib/python3.6/site-packages/pyLDAvis/_prepare.py:257: FutureWarning: Sorting because non-concatenation axis is not aligned. A future version\n",
      "of pandas will change to not sort by default.\n",
      "\n",
      "To accept the future behavior, pass 'sort=False'.\n",
      "\n",
      "To retain the current behavior and silence the warning, pass 'sort=True'.\n",
      "\n",
      "  return pd.concat([default_term_info] + list(topic_dfs))\n"
     ]
    },
    {
     "data": {
      "text/html": [
       "\n",
       "<link rel=\"stylesheet\" type=\"text/css\" href=\"https://cdn.rawgit.com/bmabey/pyLDAvis/files/ldavis.v1.0.0.css\">\n",
       "\n",
       "\n",
       "<div id=\"ldavis_el5089550257032804731696789\"></div>\n",
       "<script type=\"text/javascript\">\n",
       "\n",
       "var ldavis_el5089550257032804731696789_data = {\"mdsDat\": {\"x\": [-0.18640303155583135, -0.03058192428197333, -0.17927128511881216, 0.39625624095661677], \"y\": [0.025290661857697537, -0.32163018747079064, 0.21293195357948985, 0.08340757203360359], \"topics\": [1, 2, 3, 4], \"cluster\": [1, 1, 1, 1], \"Freq\": [32.55275344848633, 31.901702880859375, 30.362558364868164, 5.182989597320557]}, \"tinfo\": {\"Category\": [\"Default\", \"Default\", \"Default\", \"Default\", \"Default\", \"Default\", \"Default\", \"Default\", \"Default\", \"Default\", \"Default\", \"Default\", \"Default\", \"Default\", \"Default\", \"Default\", \"Default\", \"Default\", \"Default\", \"Default\", \"Default\", \"Default\", \"Default\", \"Default\", \"Default\", \"Default\", \"Default\", \"Default\", \"Default\", \"Default\", \"Topic1\", \"Topic1\", \"Topic1\", \"Topic1\", \"Topic1\", \"Topic1\", \"Topic1\", \"Topic1\", \"Topic1\", \"Topic1\", \"Topic1\", \"Topic1\", \"Topic1\", \"Topic1\", \"Topic1\", \"Topic1\", \"Topic1\", \"Topic1\", \"Topic1\", \"Topic1\", \"Topic1\", \"Topic1\", \"Topic1\", \"Topic1\", \"Topic1\", \"Topic1\", \"Topic1\", \"Topic1\", \"Topic1\", \"Topic1\", \"Topic1\", \"Topic1\", \"Topic1\", \"Topic1\", \"Topic1\", \"Topic1\", \"Topic1\", \"Topic1\", \"Topic1\", \"Topic1\", \"Topic1\", \"Topic1\", \"Topic1\", \"Topic2\", \"Topic2\", \"Topic2\", \"Topic2\", \"Topic2\", \"Topic2\", \"Topic2\", \"Topic2\", \"Topic2\", \"Topic2\", \"Topic2\", \"Topic2\", \"Topic2\", \"Topic2\", \"Topic2\", \"Topic2\", \"Topic2\", \"Topic2\", \"Topic2\", \"Topic2\", \"Topic2\", \"Topic2\", \"Topic2\", \"Topic2\", \"Topic2\", \"Topic2\", \"Topic2\", \"Topic2\", \"Topic2\", \"Topic2\", \"Topic2\", \"Topic2\", \"Topic2\", \"Topic2\", \"Topic2\", \"Topic2\", \"Topic2\", \"Topic2\", \"Topic2\", \"Topic2\", \"Topic2\", \"Topic2\", \"Topic2\", \"Topic2\", \"Topic2\", \"Topic2\", \"Topic2\", \"Topic2\", \"Topic3\", \"Topic3\", \"Topic3\", \"Topic3\", \"Topic3\", \"Topic3\", \"Topic3\", \"Topic3\", \"Topic3\", \"Topic3\", \"Topic3\", \"Topic3\", \"Topic3\", \"Topic3\", \"Topic3\", \"Topic3\", \"Topic3\", \"Topic3\", \"Topic3\", \"Topic3\", \"Topic3\", \"Topic3\", \"Topic3\", \"Topic3\", \"Topic3\", \"Topic3\", \"Topic3\", \"Topic3\", \"Topic3\", \"Topic3\", \"Topic3\", \"Topic3\", \"Topic3\", \"Topic3\", \"Topic3\", \"Topic3\", \"Topic3\", \"Topic3\", \"Topic3\", \"Topic3\", \"Topic3\", \"Topic3\", \"Topic3\", \"Topic3\", \"Topic4\", \"Topic4\", \"Topic4\", \"Topic4\", \"Topic4\", \"Topic4\", \"Topic4\", \"Topic4\", \"Topic4\", \"Topic4\", \"Topic4\", \"Topic4\", \"Topic4\", \"Topic4\", \"Topic4\", \"Topic4\", \"Topic4\", \"Topic4\", \"Topic4\", \"Topic4\", \"Topic4\", \"Topic4\", \"Topic4\", \"Topic4\", \"Topic4\", \"Topic4\", \"Topic4\", \"Topic4\", \"Topic4\", \"Topic4\", \"Topic4\", \"Topic4\", \"Topic4\", \"Topic4\", \"Topic4\", \"Topic4\", \"Topic4\", \"Topic4\", \"Topic4\", \"Topic4\", \"Topic4\", \"Topic4\", \"Topic4\", \"Topic4\", \"Topic4\", \"Topic4\", \"Topic4\", \"Topic4\"], \"Freq\": [111592.0, 112242.0, 105196.0, 193475.0, 57232.0, 92349.0, 58291.0, 84482.0, 51220.0, 18887.0, 45576.0, 32182.0, 37422.0, 35250.0, 22954.0, 81915.0, 34646.0, 13342.0, 36650.0, 32156.0, 31733.0, 39421.0, 11919.0, 30990.0, 28972.0, 29615.0, 43861.0, 17836.0, 29096.0, 28606.0, 111591.453125, 105195.3515625, 51219.66015625, 30989.169921875, 29096.01953125, 28605.279296875, 26115.015625, 25953.830078125, 25037.427734375, 24584.107421875, 23750.8828125, 23470.75, 23815.857421875, 22766.8203125, 21650.7421875, 21490.88671875, 20888.451171875, 20104.611328125, 19790.123046875, 18356.388671875, 16610.12890625, 16920.46875, 17708.41796875, 14725.4189453125, 14736.45703125, 13249.4208984375, 13349.0810546875, 12692.75390625, 12851.7275390625, 12287.7666015625, 21168.458984375, 38856.4609375, 29598.8203125, 22121.357421875, 20742.783203125, 51905.07421875, 22822.736328125, 28022.3046875, 31334.4765625, 67015.546875, 25238.013671875, 20717.908203125, 25999.802734375, 34645.26953125, 29614.822265625, 26975.455078125, 23682.693359375, 21301.580078125, 21527.87890625, 19784.208984375, 17942.724609375, 17223.349609375, 17005.8046875, 15162.71875, 15313.21484375, 14776.8916015625, 14675.8486328125, 13455.6953125, 14560.3486328125, 12945.486328125, 12541.5869140625, 11445.2265625, 11438.626953125, 10292.3037109375, 10169.4384765625, 9552.068359375, 10102.63671875, 9170.599609375, 8425.6640625, 8355.1640625, 8239.857421875, 7901.54345703125, 8044.61572265625, 110764.984375, 10033.986328125, 12189.736328125, 18260.12890625, 36972.37890625, 18278.123046875, 47711.48046875, 16138.357421875, 26675.033203125, 35232.15234375, 16772.763671875, 31360.326171875, 24795.263671875, 17436.958984375, 53063.0390625, 16553.7734375, 18891.150390625, 16697.134765625, 58290.14453125, 45575.7421875, 37421.4375, 35249.81640625, 32155.76171875, 31732.169921875, 28971.970703125, 24305.15234375, 22119.859375, 20780.490234375, 20190.216796875, 19495.517578125, 19338.57421875, 18828.845703125, 18202.123046875, 17964.603515625, 14251.521484375, 14706.6796875, 12964.1015625, 13114.9541015625, 12691.5830078125, 11977.1796875, 12159.41015625, 12098.2490234375, 11886.9677734375, 11737.611328125, 11231.794921875, 11261.861328125, 11237.5478515625, 10668.4375, 25392.310546875, 20189.533203125, 35648.70703125, 78536.3203125, 70277.0234375, 126459.5625, 25529.9453125, 31118.5078125, 26728.8984375, 23807.083984375, 47334.65234375, 20249.984375, 30010.291015625, 17711.455078125, 18886.458984375, 13342.0126953125, 11918.4072265625, 10267.447265625, 9038.03125, 8159.923828125, 8190.08447265625, 7753.2578125, 7142.92919921875, 6169.1884765625, 5568.912109375, 5166.8525390625, 4812.3212890625, 4734.080078125, 4773.3974609375, 4717.1318359375, 3815.8798828125, 3781.9658203125, 3732.491455078125, 3735.8935546875, 3135.658203125, 3233.322265625, 3092.31884765625, 2810.3369140625, 2712.615966796875, 2773.297119140625, 2525.430908203125, 2838.783447265625, 2595.4306640625, 2476.2509765625, 2629.517578125, 3428.197998046875, 4797.20361328125, 6248.13916015625, 5449.8447265625, 2917.11279296875, 4437.84765625, 3995.871337890625, 5869.00830078125, 4187.52685546875, 6370.3955078125, 4511.18017578125, 9520.9384765625, 5034.53857421875, 5061.037109375, 6399.9111328125, 5190.58349609375, 4012.729248046875], \"Term\": [\"trump\", \"news\", \"president\", \"say\", \"coverage\", \"year\", \"man\", \"reuter\", \"house\", \"second\", \"police\", \"full_coverage\", \"charge\", \"kill\", \"google\", \"state\", \"get\", \"health\", \"woman\", \"authority\", \"old\", \"time\", \"story\", \"democratic\", \"city\", \"not\", \"would\", \"company\", \"donald\", \"election\", \"trump\", \"president\", \"house\", \"democratic\", \"donald\", \"election\", \"democrat\", \"government\", \"campaign\", \"presidential\", \"republican\", \"administration\", \"party\", \"bill\", \"lawmaker\", \"law\", \"vote\", \"leader\", \"investigation\", \"senate\", \"attorney_general\", \"rule\", \"deal\", \"russia\", \"candidate\", \"gov\", \"immigration\", \"special_counsel\", \"policy\", \"justice\", \"border\", \"would\", \"washington\", \"white\", \"public\", \"state\", \"plan\", \"federal\", \"former\", \"say\", \"report\", \"court\", \"new\", \"get\", \"not\", \"go\", \"show\", \"game\", \"good\", \"see\", \"know\", \"win\", \"image_credit\", \"star\", \"look\", \"do\", \"world\", \"season\", \"team\", \"think\", \"many\", \"play\", \"point\", \"much\", \"be\", \"america\", \"hear\", \"series\", \"write\", \"medium\", \"event\", \"player\", \"thing\", \"news\", \"share\", \"turn\", \"fox\", \"time\", \"post\", \"coverage\", \"big\", \"full_coverage\", \"first\", \"view_full\", \"make\", \"may\", \"come\", \"new\", \"google\", \"take\", \"american\", \"man\", \"police\", \"charge\", \"kill\", \"authority\", \"old\", \"city\", \"arrest\", \"die\", \"home\", \"death\", \"child\", \"accuse\", \"south\", \"shoot\", \"officer\", \"prison\", \"texas\", \"california\", \"prosecutor\", \"car\", \"suspect\", \"florida\", \"county\", \"sentence\", \"crash\", \"london\", \"brexit\", \"southern\", \"prime_minister\", \"school\", \"fire\", \"woman\", \"year\", \"reuter\", \"say\", \"find\", \"people\", \"official\", \"york\", \"new\", \"last\", \"state\", \"month\", \"second\", \"health\", \"story\", \"tech\", \"third\", \"apple\", \"price\", \"link\", \"sale\", \"market\", \"medical\", \"stock\", \"patient\", \"amazon\", \"researcher\", \"doctor\", \"cancer\", \"app\", \"android\", \"inc\", \"investor\", \"surge\", \"venezuelan\", \"user\", \"iphone\", \"purchase\", \"measl\", \"column\", \"collapse\", \"consumer\", \"netanyahu\", \"device\", \"ceo\", \"facebook\", \"risk\", \"product\", \"wall_street\", \"store\", \"launch\", \"buy\", \"company\", \"drug\", \"coverage\", \"study\", \"china\", \"google\", \"full_coverage\", \"sell\"], \"Total\": [111592.0, 112242.0, 105196.0, 193475.0, 57232.0, 92349.0, 58291.0, 84482.0, 51220.0, 18887.0, 45576.0, 32182.0, 37422.0, 35250.0, 22954.0, 81915.0, 34646.0, 13342.0, 36650.0, 32156.0, 31733.0, 39421.0, 11919.0, 30990.0, 28972.0, 29615.0, 43861.0, 17836.0, 29096.0, 28606.0, 111592.3046875, 105196.203125, 51220.51953125, 30990.0234375, 29096.869140625, 28606.134765625, 26115.87109375, 25954.70703125, 25038.28125, 24584.95703125, 23751.732421875, 23471.609375, 23816.73046875, 22767.6796875, 21651.595703125, 21491.75390625, 20889.306640625, 20105.4921875, 19790.990234375, 18357.23828125, 16610.978515625, 16921.345703125, 17709.337890625, 14726.2724609375, 14737.318359375, 13250.271484375, 13349.94921875, 12693.5947265625, 12852.5947265625, 12288.619140625, 21798.294921875, 43861.390625, 32622.1875, 24664.826171875, 23331.267578125, 81915.9765625, 26778.53515625, 35564.5546875, 44230.4296875, 193475.734375, 40867.94140625, 26644.9375, 126397.8359375, 34646.171875, 29615.71875, 26976.353515625, 23683.591796875, 21302.443359375, 21528.76171875, 19785.103515625, 17943.623046875, 17224.224609375, 17006.70703125, 15163.5771484375, 15314.1201171875, 14777.7822265625, 14676.751953125, 13456.5546875, 14561.3173828125, 12946.369140625, 12542.482421875, 11446.0966796875, 11439.50390625, 10293.1884765625, 10170.341796875, 9552.9716796875, 10103.5927734375, 9171.498046875, 8426.541015625, 8356.052734375, 8240.7490234375, 7902.408203125, 8045.49560546875, 112242.0234375, 10035.2861328125, 12218.1650390625, 18586.94921875, 39421.9765625, 18892.802734375, 57232.98828125, 17539.486328125, 32182.77734375, 48213.91015625, 19136.208984375, 47892.1484375, 35219.9609375, 21271.7890625, 126397.8359375, 22954.25390625, 36601.53125, 27424.037109375, 58291.03125, 45576.62109375, 37422.34765625, 35250.703125, 32156.650390625, 31733.06640625, 28972.869140625, 24306.044921875, 22120.755859375, 20781.40625, 20191.123046875, 19496.439453125, 19339.4921875, 18829.748046875, 18203.013671875, 17965.486328125, 14252.412109375, 14707.6494140625, 12965.0048828125, 13115.876953125, 12692.49609375, 11978.0654296875, 12160.310546875, 12099.1494140625, 11887.853515625, 11738.5009765625, 11232.703125, 11262.78125, 11238.47265625, 10669.3505859375, 25475.34765625, 20250.138671875, 36650.265625, 92349.9921875, 84482.7890625, 193475.734375, 30594.4765625, 41353.96875, 39550.8515625, 37434.55859375, 126397.8359375, 28516.546875, 81915.9765625, 24939.9375, 18887.3671875, 13342.8642578125, 11919.3564453125, 10268.3203125, 9038.9462890625, 8160.75, 8190.92626953125, 7754.11669921875, 7143.77392578125, 6170.0322265625, 5569.7646484375, 5167.6923828125, 4813.158203125, 4734.916015625, 4774.2470703125, 4717.97900390625, 3816.711181640625, 3782.7958984375, 3733.317626953125, 3736.738525390625, 3136.49609375, 3234.213134765625, 3093.1748046875, 2811.17529296875, 2713.44091796875, 2774.168701171875, 2526.260009765625, 2839.71826171875, 2596.306396484375, 2477.098876953125, 2630.92529296875, 3469.652587890625, 4965.009765625, 6839.99609375, 7703.1201171875, 3024.45263671875, 6335.58203125, 5452.28369140625, 11538.353515625, 6253.7138671875, 17836.44140625, 7713.0322265625, 57232.98828125, 10471.935546875, 10804.4765625, 22954.25390625, 32182.77734375, 7891.34765625], \"loglift\": [30.0, 29.0, 28.0, 27.0, 26.0, 25.0, 24.0, 23.0, 22.0, 21.0, 20.0, 19.0, 18.0, 17.0, 16.0, 15.0, 14.0, 13.0, 12.0, 11.0, 10.0, 9.0, 8.0, 7.0, 6.0, 5.0, 4.0, 3.0, 2.0, 1.0, 1.1223000288009644, 1.1223000288009644, 1.1223000288009644, 1.1223000288009644, 1.1223000288009644, 1.1223000288009644, 1.1223000288009644, 1.1223000288009644, 1.1223000288009644, 1.1223000288009644, 1.1223000288009644, 1.1223000288009644, 1.1223000288009644, 1.1223000288009644, 1.1223000288009644, 1.1223000288009644, 1.1223000288009644, 1.1223000288009644, 1.1223000288009644, 1.1223000288009644, 1.1223000288009644, 1.1223000288009644, 1.1223000288009644, 1.1223000288009644, 1.1222000122070312, 1.1222000122070312, 1.1222000122070312, 1.1222000122070312, 1.1222000122070312, 1.1222000122070312, 1.093000054359436, 1.001099944114685, 1.024999976158142, 1.0134999752044678, 1.004699945449829, 0.6660000085830688, 0.9624999761581421, 0.8840000033378601, 0.7775999903678894, 0.06210000067949295, 0.6402999758720398, 0.8707000017166138, -0.45899999141693115, 1.1425000429153442, 1.1425000429153442, 1.1425000429153442, 1.1425000429153442, 1.1425000429153442, 1.1425000429153442, 1.1425000429153442, 1.1425000429153442, 1.1425000429153442, 1.1425000429153442, 1.1425000429153442, 1.1425000429153442, 1.1425000429153442, 1.1424000263214111, 1.1424000263214111, 1.1424000263214111, 1.1424000263214111, 1.1424000263214111, 1.1424000263214111, 1.1424000263214111, 1.1424000263214111, 1.1424000263214111, 1.1424000263214111, 1.1424000263214111, 1.1424000263214111, 1.1424000263214111, 1.1424000263214111, 1.1424000263214111, 1.1424000263214111, 1.1424000263214111, 1.1292999982833862, 1.1424000263214111, 1.1402000188827515, 1.1247999668121338, 1.0784000158309937, 1.1094000339508057, 0.9606000185012817, 1.0592999458312988, 0.954800009727478, 0.8288000226020813, 1.010699987411499, 0.7190999984741211, 0.7915999889373779, 0.9437000155448914, 0.27459999918937683, 0.8155999779701233, 0.4810999929904938, 0.6463000178337097, 1.1919000148773193, 1.1919000148773193, 1.1919000148773193, 1.1919000148773193, 1.1919000148773193, 1.1919000148773193, 1.1919000148773193, 1.1919000148773193, 1.1919000148773193, 1.1919000148773193, 1.1919000148773193, 1.1919000148773193, 1.1919000148773193, 1.1919000148773193, 1.1919000148773193, 1.1919000148773193, 1.1919000148773193, 1.1919000148773193, 1.1919000148773193, 1.1919000148773193, 1.1919000148773193, 1.1919000148773193, 1.1919000148773193, 1.1919000148773193, 1.1919000148773193, 1.1919000148773193, 1.1919000148773193, 1.1919000148773193, 1.1919000148773193, 1.1919000148773193, 1.1886999607086182, 1.1890000104904175, 1.1642999649047852, 1.0298999547958374, 1.0078999996185303, 0.766700029373169, 1.0110000371932983, 0.9075999855995178, 0.8001000285148621, 0.739300012588501, 0.20980000495910645, 0.8496000170707703, 0.18780000507831573, 0.8496999740600586, 2.959700107574463, 2.959700107574463, 2.959700107574463, 2.959700107574463, 2.959700107574463, 2.959700107574463, 2.959700107574463, 2.959700107574463, 2.959700107574463, 2.959700107574463, 2.9595999717712402, 2.9595999717712402, 2.9595999717712402, 2.9595999717712402, 2.9595999717712402, 2.9595999717712402, 2.9595999717712402, 2.9595999717712402, 2.9595999717712402, 2.9595999717712402, 2.9595000743865967, 2.9595000743865967, 2.9595000743865967, 2.9595000743865967, 2.9595000743865967, 2.9595000743865967, 2.9595000743865967, 2.9595000743865967, 2.9595000743865967, 2.959399938583374, 2.9593000411987305, 2.9477999210357666, 2.9254000186920166, 2.86929988861084, 2.6136999130249023, 2.9237000942230225, 2.603800058364868, 2.6489999294281006, 2.283799886703491, 2.5587000846862793, 1.9301999807357788, 2.4233999252319336, 1.166200041770935, 2.227400064468384, 2.2014000415802, 1.6826000213623047, 1.135200023651123, 2.2834999561309814], \"logprob\": [30.0, 29.0, 28.0, 27.0, 26.0, 25.0, 24.0, 23.0, 22.0, 21.0, 20.0, 19.0, 18.0, 17.0, 16.0, 15.0, 14.0, 13.0, 12.0, 11.0, 10.0, 9.0, 8.0, 7.0, 6.0, 5.0, 4.0, 3.0, 2.0, 1.0, -3.771399974822998, -3.830399990081787, -4.550099849700928, -5.052599906921387, -5.115600109100342, -5.132599830627441, -5.223700046539307, -5.229899883270264, -5.265900135040283, -5.28410005569458, -5.318600177764893, -5.33050012588501, -5.315899848937988, -5.360899925231934, -5.411200046539307, -5.418600082397461, -5.447000026702881, -5.485300064086914, -5.500999927520752, -5.576300144195557, -5.676199913024902, -5.657700061798096, -5.612199783325195, -5.7967000007629395, -5.795899868011475, -5.902299880981445, -5.894800186157227, -5.945199966430664, -5.932799816131592, -5.97760009765625, -5.433700084686279, -4.826399803161621, -5.098499774932861, -5.389699935913086, -5.453999996185303, -4.536799907684326, -5.358500003814697, -5.153200149536133, -5.041500091552734, -4.281300067901611, -5.257900238037109, -5.4552001953125, -5.228099822998047, -4.920899868011475, -5.0777997970581055, -5.17110013961792, -5.301300048828125, -5.407199859619141, -5.396699905395508, -5.481100082397461, -5.578800201416016, -5.619800090789795, -5.632500171661377, -5.747200012207031, -5.737299919128418, -5.7729997634887695, -5.779799938201904, -5.866600036621094, -5.787700176239014, -5.905300140380859, -5.936999797821045, -6.028500080108643, -6.0289998054504395, -6.1346001625061035, -6.146599769592285, -6.2093000411987305, -6.153200149536133, -6.25, -6.334700107574463, -6.343100070953369, -6.35699987411499, -6.39900016784668, -6.38100004196167, -3.7585999965667725, -6.159999847412109, -5.965400218963623, -5.561299800872803, -4.855899810791016, -5.560299873352051, -4.600900173187256, -5.684800148010254, -5.182300090789795, -4.904099941253662, -5.646299839019775, -5.020500183105469, -5.25540018081665, -5.607399940490723, -4.494500160217285, -5.65939998626709, -5.527299880981445, -5.6508002281188965, -4.351099967956543, -4.5971999168396, -4.794300079345703, -4.854100227355957, -4.946000099182129, -4.959199905395508, -5.05019998550415, -5.225900173187256, -5.320099830627441, -5.382599830627441, -5.411399841308594, -5.446400165557861, -5.454500198364258, -5.481200218200684, -5.514999866485596, -5.528200149536133, -5.759699821472168, -5.728300094604492, -5.854400157928467, -5.842800140380859, -5.8755998611450195, -5.933599948883057, -5.918499946594238, -5.923500061035156, -5.941100120544434, -5.953800201416016, -5.997799873352051, -5.995200157165527, -5.997300148010254, -6.049300193786621, -5.18209981918335, -5.411399841308594, -4.842899799346924, -4.052999973297119, -4.164100170135498, -3.57669997215271, -5.176700115203857, -4.978799819946289, -5.130799770355225, -5.246600151062012, -4.559299945831299, -5.408400058746338, -5.014999866485596, -5.542399883270264, -3.7102999687194824, -4.057799816131592, -4.1707000732421875, -4.319799900054932, -4.447299957275391, -4.549499988555908, -4.54580020904541, -4.600599765777588, -4.682600021362305, -4.82919979095459, -4.931600093841553, -5.006499767303467, -5.077600002288818, -5.093999862670898, -5.085700035095215, -5.097499847412109, -5.309599876403809, -5.31850004196167, -5.331699848175049, -5.3308000564575195, -5.505899906158447, -5.475200176239014, -5.519800186157227, -5.6153998374938965, -5.6508002281188965, -5.628699779510498, -5.722300052642822, -5.605400085449219, -5.695000171661377, -5.742000102996826, -5.6819000244140625, -5.4166998863220215, -5.080699920654297, -4.816500186920166, -4.953199863433838, -5.578199863433838, -5.158599853515625, -5.263500213623047, -4.8790998458862305, -5.216599941253662, -4.797100067138672, -5.142199993133545, -4.395299911499023, -5.032400131225586, -5.027200222015381, -4.792500019073486, -5.0019001960754395, -5.259300231933594]}, \"token.table\": {\"Topic\": [3, 1, 4, 2, 1, 2, 4, 4, 4, 3, 1, 3, 2, 2, 4, 1, 1, 3, 3, 1, 2, 4, 3, 1, 4, 1, 3, 1, 4, 3, 3, 3, 4, 3, 4, 4, 1, 2, 1, 3, 4, 4, 3, 1, 3, 2, 4, 3, 1, 3, 1, 1, 3, 4, 3, 2, 4, 1, 3, 4, 1, 2, 2, 4, 1, 3, 2, 3, 1, 3, 1, 2, 3, 4, 3, 1, 3, 2, 3, 1, 2, 3, 4, 2, 2, 2, 2, 2, 4, 1, 1, 4, 2, 3, 1, 2, 1, 4, 1, 4, 4, 1, 3, 2, 1, 2, 3, 1, 3, 4, 1, 1, 1, 4, 3, 2, 1, 2, 3, 2, 4, 1, 2, 4, 4, 2, 1, 3, 2, 1, 4, 1, 2, 3, 1, 2, 3, 2, 3, 1, 3, 3, 1, 4, 2, 3, 1, 3, 2, 2, 2, 3, 1, 1, 2, 1, 1, 4, 3, 3, 2, 4, 3, 1, 2, 3, 4, 1, 2, 3, 1, 4, 1, 3, 1, 3, 4, 1, 1, 4, 1, 3, 2, 3, 2, 4, 2, 2, 3, 4, 1, 3, 2, 2, 4, 3, 2, 3, 3, 1, 2, 1, 3, 4, 3, 4, 4, 2, 4, 4, 3, 1, 2, 3, 2, 4, 3, 2, 2, 4, 1, 2, 1, 2, 4, 4, 4, 1, 2, 3, 4, 1, 1, 4, 1, 3, 1, 2, 2, 2, 3, 2, 1, 2, 2, 2, 3, 1, 3], \"Freq\": [0.9999745488166809, 0.9999740123748779, 0.9998065233230591, 0.9998983144760132, 0.391116738319397, 0.6088454127311707, 0.9996470808982849, 0.9997895956039429, 0.9999080896377563, 0.9999570250511169, 0.9999411106109619, 0.9999797940254211, 0.9998680949211121, 0.9200953841209412, 0.07987691462039948, 0.9999701380729675, 0.9710851311683655, 0.028855467215180397, 0.9999306201934814, 0.03517909720540047, 0.29518458247184753, 0.6696820855140686, 0.999922513961792, 0.9999487996101379, 0.9998136758804321, 0.9999105334281921, 0.9999608993530273, 0.03363538160920143, 0.9661612510681152, 0.9999639987945557, 0.9999774694442749, 0.5315389633178711, 0.4684169590473175, 0.999970018863678, 0.9994968175888062, 0.9997470378875732, 0.1802387237548828, 0.8197242021560669, 0.36941224336624146, 0.27337291836738586, 0.35713401436805725, 0.9995563626289368, 0.999904990196228, 0.7775585651397705, 0.22240622341632843, 0.8336276412010193, 0.16635510325431824, 0.9999573230743408, 0.9999244809150696, 0.9999443888664246, 0.9999666213989258, 0.9999669790267944, 0.011816744692623615, 0.9879951477050781, 0.9999658465385437, 0.9999470710754395, 0.9997925162315369, 0.9999701380729675, 0.4150118827819824, 0.5848543047904968, 0.9999603033065796, 0.9999091029167175, 0.08640355616807938, 0.9134508371353149, 0.7879193425178528, 0.21206507086753845, 0.1655200719833374, 0.8344643712043762, 0.002962942700833082, 0.9970301985740662, 0.19222667813301086, 0.7307434678077698, 0.027004655450582504, 0.05002705752849579, 0.9998922348022461, 0.708426296710968, 0.29154136776924133, 0.9824097156524658, 0.017539188265800476, 0.00018643512157723308, 0.8288594484329224, 0.009663553908467293, 0.16129745543003082, 0.9999791979789734, 0.9999662041664124, 0.9999498128890991, 0.9999645948410034, 0.7211735248565674, 0.2788154184818268, 0.9999040365219116, 0.9999727606773376, 0.9999352097511292, 0.999941349029541, 0.9999323487281799, 0.9999898672103882, 0.9999584555625916, 0.999928891658783, 0.9998023509979248, 0.9999499917030334, 0.9998418092727661, 0.9998375177383423, 0.9999496340751648, 0.9999800324440002, 0.999965250492096, 0.10720092058181763, 0.1826658695936203, 0.7101140022277832, 0.36400341987609863, 0.1273145228624344, 0.5086514353752136, 0.9999648928642273, 0.9999724626541138, 0.9999755024909973, 0.9998559951782227, 0.9999374151229858, 0.9999268651008606, 0.34517139196395874, 0.6548046469688416, 0.9999822974205017, 0.9999615550041199, 0.9998326897621155, 0.29596853256225586, 0.704004168510437, 0.9995012283325195, 0.9998627305030823, 0.9998739957809448, 0.289816290140152, 0.7101461291313171, 0.9998845458030701, 0.00038009442505426705, 0.9996482729911804, 0.20569972693920135, 0.41980940103530884, 0.37449216842651367, 0.005791057366877794, 0.9868407249450684, 0.007368006743490696, 0.9999757409095764, 0.999972939491272, 0.3241649568080902, 0.6758134961128235, 0.9999663829803467, 0.9999693036079407, 0.9997593760490417, 0.24749740958213806, 0.7525033354759216, 0.8522871136665344, 0.14769291877746582, 0.999904215335846, 0.9999483227729797, 0.999955952167511, 0.9999863505363464, 0.9999537467956543, 0.032499149441719055, 0.9674583673477173, 0.9999885559082031, 0.9999610781669617, 0.9998869299888611, 0.9998733997344971, 0.9999710917472839, 0.03537830337882042, 0.9644720554351807, 0.999933123588562, 0.8890644311904907, 0.040803611278533936, 0.07012049108743668, 0.9995787143707275, 0.6175500750541687, 0.12109736353158951, 0.2613295316696167, 0.9999691843986511, 0.9997388124465942, 0.16814075410366058, 0.8318499326705933, 0.2601543366909027, 0.03232456371188164, 0.7075055241584778, 0.9999204874038696, 0.9999135732650757, 0.9998916387557983, 0.3463793396949768, 0.653622031211853, 0.003218797966837883, 0.9967283010482788, 0.9999587535858154, 0.9999276399612427, 0.9999442100524902, 0.12253927439451218, 0.3688850402832031, 0.5085316300392151, 0.9999325275421143, 0.9999281764030457, 0.9999457001686096, 0.9998718500137329, 9.964837954612449e-05, 0.9999443292617798, 0.9999750256538391, 0.9999602437019348, 0.9999579191207886, 0.9999531507492065, 0.9999619126319885, 0.6336370706558228, 0.36635100841522217, 0.9998660087585449, 0.2670440673828125, 0.7329038977622986, 0.9998862147331238, 0.5191972255706787, 0.48080891370773315, 0.9996249079704285, 0.9999110698699951, 0.28542521595954895, 0.5161259770393372, 0.19843432307243347, 0.999909520149231, 0.9998714327812195, 0.9999558329582214, 0.999938428401947, 0.9998942613601685, 0.9998953342437744, 0.062122710049152374, 0.9378525018692017, 0.999988317489624, 0.9976948499679565, 0.002291669836267829, 0.9995819330215454, 0.9996201992034912, 0.00010451390699017793, 0.8765059113502502, 0.008152084425091743, 0.11527884006500244, 0.9999374747276306, 0.29941999912261963, 0.7004881501197815, 0.9073272347450256, 0.09266699105501175, 0.8968642354011536, 0.10310228914022446, 0.999928891658783, 0.02731221728026867, 0.9726805090904236, 0.9999487400054932, 0.8858816027641296, 0.11408667266368866, 0.9999358057975769, 0.14957229793071747, 0.8504169583320618, 0.3640219271183014, 0.6359631419181824], \"Term\": [\"accuse\", \"administration\", \"amazon\", \"america\", \"american\", \"american\", \"android\", \"app\", \"apple\", \"arrest\", \"attorney_general\", \"authority\", \"be\", \"big\", \"big\", \"bill\", \"border\", \"border\", \"brexit\", \"buy\", \"buy\", \"buy\", \"california\", \"campaign\", \"cancer\", \"candidate\", \"car\", \"ceo\", \"ceo\", \"charge\", \"child\", \"china\", \"china\", \"city\", \"collapse\", \"column\", \"come\", \"come\", \"company\", \"company\", \"company\", \"consumer\", \"county\", \"court\", \"court\", \"coverage\", \"coverage\", \"crash\", \"deal\", \"death\", \"democrat\", \"democratic\", \"device\", \"device\", \"die\", \"do\", \"doctor\", \"donald\", \"drug\", \"drug\", \"election\", \"event\", \"facebook\", \"facebook\", \"federal\", \"federal\", \"find\", \"find\", \"fire\", \"fire\", \"first\", \"first\", \"first\", \"first\", \"florida\", \"former\", \"former\", \"fox\", \"fox\", \"full_coverage\", \"full_coverage\", \"full_coverage\", \"full_coverage\", \"game\", \"get\", \"go\", \"good\", \"google\", \"google\", \"gov\", \"government\", \"health\", \"hear\", \"home\", \"house\", \"image_credit\", \"immigration\", \"inc\", \"investigation\", \"investor\", \"iphone\", \"justice\", \"kill\", \"know\", \"last\", \"last\", \"last\", \"launch\", \"launch\", \"launch\", \"law\", \"lawmaker\", \"leader\", \"link\", \"london\", \"look\", \"make\", \"make\", \"man\", \"many\", \"market\", \"may\", \"may\", \"measl\", \"medical\", \"medium\", \"month\", \"month\", \"much\", \"netanyahu\", \"netanyahu\", \"new\", \"new\", \"new\", \"news\", \"news\", \"news\", \"not\", \"officer\", \"official\", \"official\", \"old\", \"party\", \"patient\", \"people\", \"people\", \"plan\", \"plan\", \"play\", \"player\", \"point\", \"police\", \"policy\", \"post\", \"post\", \"president\", \"presidential\", \"price\", \"prime_minister\", \"prison\", \"product\", \"product\", \"prosecutor\", \"public\", \"public\", \"public\", \"purchase\", \"report\", \"report\", \"report\", \"republican\", \"researcher\", \"reuter\", \"reuter\", \"risk\", \"risk\", \"risk\", \"rule\", \"russia\", \"sale\", \"say\", \"say\", \"school\", \"school\", \"season\", \"second\", \"see\", \"sell\", \"sell\", \"sell\", \"senate\", \"sentence\", \"series\", \"share\", \"share\", \"shoot\", \"show\", \"south\", \"southern\", \"special_counsel\", \"star\", \"state\", \"state\", \"stock\", \"store\", \"store\", \"story\", \"study\", \"study\", \"surge\", \"suspect\", \"take\", \"take\", \"take\", \"team\", \"tech\", \"texas\", \"thing\", \"think\", \"third\", \"time\", \"time\", \"trump\", \"turn\", \"turn\", \"user\", \"venezuelan\", \"view_full\", \"view_full\", \"view_full\", \"view_full\", \"vote\", \"wall_street\", \"wall_street\", \"washington\", \"washington\", \"white\", \"white\", \"win\", \"woman\", \"woman\", \"world\", \"would\", \"would\", \"write\", \"year\", \"year\", \"york\", \"york\"]}, \"R\": 30, \"lambda.step\": 0.01, \"plot.opts\": {\"xlab\": \"PC1\", \"ylab\": \"PC2\"}, \"topic.order\": [1, 3, 2, 4]};\n",
       "\n",
       "function LDAvis_load_lib(url, callback){\n",
       "  var s = document.createElement('script');\n",
       "  s.src = url;\n",
       "  s.async = true;\n",
       "  s.onreadystatechange = s.onload = callback;\n",
       "  s.onerror = function(){console.warn(\"failed to load library \" + url);};\n",
       "  document.getElementsByTagName(\"head\")[0].appendChild(s);\n",
       "}\n",
       "\n",
       "if(typeof(LDAvis) !== \"undefined\"){\n",
       "   // already loaded: just create the visualization\n",
       "   !function(LDAvis){\n",
       "       new LDAvis(\"#\" + \"ldavis_el5089550257032804731696789\", ldavis_el5089550257032804731696789_data);\n",
       "   }(LDAvis);\n",
       "}else if(typeof define === \"function\" && define.amd){\n",
       "   // require.js is available: use it to load d3/LDAvis\n",
       "   require.config({paths: {d3: \"https://cdnjs.cloudflare.com/ajax/libs/d3/3.5.5/d3.min\"}});\n",
       "   require([\"d3\"], function(d3){\n",
       "      window.d3 = d3;\n",
       "      LDAvis_load_lib(\"https://cdn.rawgit.com/bmabey/pyLDAvis/files/ldavis.v1.0.0.js\", function(){\n",
       "        new LDAvis(\"#\" + \"ldavis_el5089550257032804731696789\", ldavis_el5089550257032804731696789_data);\n",
       "      });\n",
       "    });\n",
       "}else{\n",
       "    // require.js not available: dynamically load d3 & LDAvis\n",
       "    LDAvis_load_lib(\"https://cdnjs.cloudflare.com/ajax/libs/d3/3.5.5/d3.min.js\", function(){\n",
       "         LDAvis_load_lib(\"https://cdn.rawgit.com/bmabey/pyLDAvis/files/ldavis.v1.0.0.js\", function(){\n",
       "                 new LDAvis(\"#\" + \"ldavis_el5089550257032804731696789\", ldavis_el5089550257032804731696789_data);\n",
       "            })\n",
       "         });\n",
       "}\n",
       "</script>"
      ],
      "text/plain": [
       "PreparedData(topic_coordinates=              x         y  topics  cluster       Freq\n",
       "topic                                                \n",
       "0     -0.186403  0.025291       1        1  32.552753\n",
       "2     -0.030582 -0.321630       2        1  31.901703\n",
       "1     -0.179271  0.212932       3        1  30.362558\n",
       "3      0.396256  0.083408       4        1   5.182990, topic_info=      Category           Freq           Term          Total  loglift  logprob\n",
       "term                                                                         \n",
       "5361   Default  111592.000000          trump  111592.000000  30.0000  30.0000\n",
       "22     Default  112242.000000           news  112242.000000  29.0000  29.0000\n",
       "27     Default  105196.000000      president  105196.000000  28.0000  28.0000\n",
       "173    Default  193475.000000            say  193475.000000  27.0000  27.0000\n",
       "76     Default   57232.000000       coverage   57232.000000  26.0000  26.0000\n",
       "41     Default   92349.000000           year   92349.000000  25.0000  25.0000\n",
       "285    Default   58291.000000            man   58291.000000  24.0000  24.0000\n",
       "171    Default   84482.000000         reuter   84482.000000  23.0000  23.0000\n",
       "244    Default   51220.000000          house   51220.000000  22.0000  22.0000\n",
       "259    Default   18887.000000         second   18887.000000  21.0000  21.0000\n",
       "2233   Default   45576.000000         police   45576.000000  20.0000  20.0000\n",
       "65045  Default   32182.000000  full_coverage   32182.000000  19.0000  19.0000\n",
       "829    Default   37422.000000         charge   37422.000000  18.0000  18.0000\n",
       "53     Default   35250.000000           kill   35250.000000  17.0000  17.0000\n",
       "4157   Default   22954.000000         google   22954.000000  16.0000  16.0000\n",
       "176    Default   81915.000000          state   81915.000000  15.0000  15.0000\n",
       "121    Default   34646.000000            get   34646.000000  14.0000  14.0000\n",
       "240    Default   13342.000000         health   13342.000000  13.0000  13.0000\n",
       "105    Default   36650.000000          woman   36650.000000  12.0000  12.0000\n",
       "268    Default   32156.000000      authority   32156.000000  11.0000  11.0000\n",
       "132    Default   31733.000000            old   31733.000000  10.0000  10.0000\n",
       "300    Default   39421.000000           time   39421.000000   9.0000   9.0000\n",
       "1095   Default   11919.000000          story   11919.000000   8.0000   8.0000\n",
       "402    Default   30990.000000     democratic   30990.000000   7.0000   7.0000\n",
       "188    Default   28972.000000           city   28972.000000   6.0000   6.0000\n",
       "677    Default   29615.000000            not   29615.000000   5.0000   5.0000\n",
       "455    Default   43861.000000          would   43861.000000   4.0000   4.0000\n",
       "1258   Default   17836.000000        company   17836.000000   3.0000   3.0000\n",
       "2154   Default   29096.000000         donald   29096.000000   2.0000   2.0000\n",
       "81     Default   28606.000000       election   28606.000000   1.0000   1.0000\n",
       "...        ...            ...            ...            ...      ...      ...\n",
       "12894   Topic4    3732.491455        android    3733.317627   2.9596  -5.3317\n",
       "691     Topic4    3735.893555            inc    3736.738525   2.9596  -5.3308\n",
       "1312    Topic4    3135.658203       investor    3136.496094   2.9595  -5.5059\n",
       "3562    Topic4    3233.322266          surge    3234.213135   2.9595  -5.4752\n",
       "15710   Topic4    3092.318848     venezuelan    3093.174805   2.9595  -5.5198\n",
       "5330    Topic4    2810.336914           user    2811.175293   2.9595  -5.6154\n",
       "8292    Topic4    2712.615967         iphone    2713.440918   2.9595  -5.6508\n",
       "4091    Topic4    2773.297119       purchase    2774.168701   2.9595  -5.6287\n",
       "34814   Topic4    2525.430908          measl    2526.260010   2.9595  -5.7223\n",
       "899     Topic4    2838.783447         column    2839.718262   2.9595  -5.6054\n",
       "5040    Topic4    2595.430664       collapse    2596.306396   2.9595  -5.6950\n",
       "834     Topic4    2476.250977       consumer    2477.098877   2.9594  -5.7420\n",
       "11485   Topic4    2629.517578      netanyahu    2630.925293   2.9593  -5.6819\n",
       "3818    Topic4    3428.197998         device    3469.652588   2.9478  -5.4167\n",
       "2579    Topic4    4797.203613            ceo    4965.009766   2.9254  -5.0807\n",
       "1334    Topic4    6248.139160       facebook    6839.996094   2.8693  -4.8165\n",
       "1492    Topic4    5449.844727           risk    7703.120117   2.6137  -4.9532\n",
       "29      Topic4    2917.112793        product    3024.452637   2.9237  -5.5782\n",
       "3991    Topic4    4437.847656    wall_street    6335.582031   2.6038  -5.1586\n",
       "3918    Topic4    3995.871338          store    5452.283691   2.6490  -5.2635\n",
       "1125    Topic4    5869.008301         launch   11538.353516   2.2838  -4.8791\n",
       "745     Topic4    4187.526855            buy    6253.713867   2.5587  -5.2166\n",
       "1258    Topic4    6370.395508        company   17836.441406   1.9302  -4.7971\n",
       "1763    Topic4    4511.180176           drug    7713.032227   2.4234  -5.1422\n",
       "76      Topic4    9520.938477       coverage   57232.988281   1.1662  -4.3953\n",
       "1505    Topic4    5034.538574          study   10471.935547   2.2274  -5.0324\n",
       "1113    Topic4    5061.037109          china   10804.476562   2.2014  -5.0272\n",
       "4157    Topic4    6399.911133         google   22954.253906   1.6826  -4.7925\n",
       "65045   Topic4    5190.583496  full_coverage   32182.777344   1.1352  -5.0019\n",
       "390     Topic4    4012.729248           sell    7891.347656   2.2835  -5.2593\n",
       "\n",
       "[213 rows x 6 columns], token_table=       Topic      Freq              Term\n",
       "term                                    \n",
       "222        3  0.999975            accuse\n",
       "557        1  0.999974    administration\n",
       "5712       4  0.999807            amazon\n",
       "148        2  0.999898           america\n",
       "622        1  0.391117          american\n",
       "622        2  0.608845          american\n",
       "12894      4  0.999647           android\n",
       "7737       4  0.999790               app\n",
       "5831       4  0.999908             apple\n",
       "1389       3  0.999957            arrest\n",
       "6310       1  0.999941  attorney_general\n",
       "268        3  0.999980         authority\n",
       "1392       2  0.999868                be\n",
       "71         2  0.920095               big\n",
       "71         4  0.079877               big\n",
       "1257       1  0.999970              bill\n",
       "3171       1  0.971085            border\n",
       "3171       3  0.028855            border\n",
       "15442      3  0.999931            brexit\n",
       "745        1  0.035179               buy\n",
       "745        2  0.295185               buy\n",
       "745        4  0.669682               buy\n",
       "2566       3  0.999923        california\n",
       "73         1  0.999949          campaign\n",
       "7308       4  0.999814            cancer\n",
       "646        1  0.999911         candidate\n",
       "2571       3  0.999961               car\n",
       "2579       1  0.033635               ceo\n",
       "2579       4  0.966161               ceo\n",
       "829        3  0.999964            charge\n",
       "...      ...       ...               ...\n",
       "416        4  0.999895             third\n",
       "300        1  0.062123              time\n",
       "300        2  0.937853              time\n",
       "5361       1  0.999988             trump\n",
       "102        2  0.997695              turn\n",
       "102        4  0.002292              turn\n",
       "5330       4  0.999582              user\n",
       "15710      4  0.999620        venezuelan\n",
       "40679      1  0.000105         view_full\n",
       "40679      2  0.876506         view_full\n",
       "40679      3  0.008152         view_full\n",
       "40679      4  0.115279         view_full\n",
       "482        1  0.999937              vote\n",
       "3991       1  0.299420       wall_street\n",
       "3991       4  0.700488       wall_street\n",
       "40         1  0.907327        washington\n",
       "40         3  0.092667        washington\n",
       "513        1  0.896864             white\n",
       "513        2  0.103102             white\n",
       "2371       2  0.999929               win\n",
       "105        2  0.027312             woman\n",
       "105        3  0.972681             woman\n",
       "220        2  0.999949             world\n",
       "455        1  0.885882             would\n",
       "455        2  0.114087             would\n",
       "892        2  0.999936             write\n",
       "41         2  0.149572              year\n",
       "41         3  0.850417              year\n",
       "145        1  0.364022              york\n",
       "145        3  0.635963              york\n",
       "\n",
       "[249 rows x 3 columns], R=30, lambda_step=0.01, plot_opts={'xlab': 'PC1', 'ylab': 'PC2'}, topic_order=[1, 3, 2, 4])"
      ]
     },
     "execution_count": 24,
     "metadata": {},
     "output_type": "execute_result"
    }
   ],
   "source": [
    "# Visualize the topics\n",
    "pyLDAvis.enable_notebook()\n",
    "vis = pyLDAvis.gensim.prepare(lda_model, corpus, id2word)\n",
    "vis"
   ]
  },
  {
   "cell_type": "code",
   "execution_count": null,
   "metadata": {
    "scrolled": true
   },
   "outputs": [],
   "source": [
    "df[\"topic0\"] = 0\n",
    "df[\"topic1\"] = 0\n",
    "df[\"topic2\"] = 0\n",
    "df[\"topic3\"] = 0\n",
    "printcounter = 0\n",
    "for index,row in df.iterrows():\n",
    "    if (printcounter == 1000000):\n",
    "        print(printcounter)\n",
    "        printcounter = 0\n",
    "    try:\n",
    "        mod_output = lda_model[corpus[index]][0]\n",
    "    except IndexError:\n",
    "        break\n",
    "    for (topic,prob) in mod_output:\n",
    "        df.loc[index,'topic' + str(topic)] = prob\n",
    "    printcounter += 1"
   ]
  },
  {
   "cell_type": "code",
   "execution_count": 34,
   "metadata": {},
   "outputs": [],
   "source": [
    "df.to_csv(\"/Users/rakeshravi/Documents/Spring/Text Analytics/Project/corpus_plus_topics.csv\")"
   ]
  }
 ],
 "metadata": {
  "kernelspec": {
   "display_name": "Python 3",
   "language": "python",
   "name": "python3"
  },
  "language_info": {
   "codemirror_mode": {
    "name": "ipython",
    "version": 3
   },
   "file_extension": ".py",
   "mimetype": "text/x-python",
   "name": "python",
   "nbconvert_exporter": "python",
   "pygments_lexer": "ipython3",
   "version": "3.6.8"
  }
 },
 "nbformat": 4,
 "nbformat_minor": 2
}
